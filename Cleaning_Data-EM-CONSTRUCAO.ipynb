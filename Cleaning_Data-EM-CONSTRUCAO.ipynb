{
 "cells": [
  {
   "cell_type": "markdown",
   "metadata": {},
   "source": [
    "# EM CONSTRUÇÃO"
   ]
  },
  {
   "cell_type": "code",
   "execution_count": 319,
   "metadata": {},
   "outputs": [],
   "source": [
    "import pandas as pd\n",
    "import numpy as np\n",
    "import seaborn as sns\n",
    "import matplotlib.pyplot as plt"
   ]
  },
  {
   "cell_type": "markdown",
   "metadata": {},
   "source": [
    "http://courses.washington.edu/hcde511/a14/datasets/cars.xls"
   ]
  },
  {
   "cell_type": "markdown",
   "metadata": {},
   "source": [
    "### Load Data"
   ]
  },
  {
   "cell_type": "code",
   "execution_count": 320,
   "metadata": {},
   "outputs": [
    {
     "data": {
      "text/html": [
       "<div>\n",
       "<style scoped>\n",
       "    .dataframe tbody tr th:only-of-type {\n",
       "        vertical-align: middle;\n",
       "    }\n",
       "\n",
       "    .dataframe tbody tr th {\n",
       "        vertical-align: top;\n",
       "    }\n",
       "\n",
       "    .dataframe thead th {\n",
       "        text-align: right;\n",
       "    }\n",
       "</style>\n",
       "<table border=\"1\" class=\"dataframe\">\n",
       "  <thead>\n",
       "    <tr style=\"text-align: right;\">\n",
       "      <th></th>\n",
       "      <th>Model</th>\n",
       "      <th>MPG</th>\n",
       "      <th>Cylinders</th>\n",
       "      <th>Displacement</th>\n",
       "      <th>Horsepower</th>\n",
       "      <th>Weight</th>\n",
       "      <th>Acceleration</th>\n",
       "      <th>Year</th>\n",
       "      <th>Origin</th>\n",
       "      <th>bore</th>\n",
       "      <th>stroke</th>\n",
       "      <th>compression-ratio</th>\n",
       "    </tr>\n",
       "  </thead>\n",
       "  <tbody>\n",
       "    <tr>\n",
       "      <th>385</th>\n",
       "      <td>ford granada l</td>\n",
       "      <td>22.0</td>\n",
       "      <td>6</td>\n",
       "      <td>232.0</td>\n",
       "      <td>112</td>\n",
       "      <td>2835</td>\n",
       "      <td>14.7</td>\n",
       "      <td>1982</td>\n",
       "      <td>US</td>\n",
       "      <td>2.99</td>\n",
       "      <td>3.47</td>\n",
       "      <td>21.9</td>\n",
       "    </tr>\n",
       "    <tr>\n",
       "      <th>45</th>\n",
       "      <td>chevrolet vega (sw)</td>\n",
       "      <td>22.0</td>\n",
       "      <td>4</td>\n",
       "      <td>140.0</td>\n",
       "      <td>72</td>\n",
       "      <td>2408</td>\n",
       "      <td>19.0</td>\n",
       "      <td>1971</td>\n",
       "      <td>US; Detroit, Michigan]</td>\n",
       "      <td>3.03</td>\n",
       "      <td>3.11</td>\n",
       "      <td>9.6</td>\n",
       "    </tr>\n",
       "    <tr>\n",
       "      <th>379</th>\n",
       "      <td>honda civic</td>\n",
       "      <td>38.0</td>\n",
       "      <td>4</td>\n",
       "      <td>91.0</td>\n",
       "      <td>67</td>\n",
       "      <td>1965</td>\n",
       "      <td>15.0</td>\n",
       "      <td>1982</td>\n",
       "      <td>Japan</td>\n",
       "      <td>3.59</td>\n",
       "      <td>3.86</td>\n",
       "      <td>7.0</td>\n",
       "    </tr>\n",
       "    <tr>\n",
       "      <th>65</th>\n",
       "      <td>amc ambassador sst</td>\n",
       "      <td>17.0</td>\n",
       "      <td>8</td>\n",
       "      <td>304.0</td>\n",
       "      <td>150</td>\n",
       "      <td>3672</td>\n",
       "      <td>11.5</td>\n",
       "      <td>1972[1973]</td>\n",
       "      <td>US</td>\n",
       "      <td>3.76</td>\n",
       "      <td>3.16</td>\n",
       "      <td>8.0</td>\n",
       "    </tr>\n",
       "    <tr>\n",
       "      <th>329</th>\n",
       "      <td>vokswagen rabbit</td>\n",
       "      <td>29.8</td>\n",
       "      <td>4</td>\n",
       "      <td>89.0</td>\n",
       "      <td>62</td>\n",
       "      <td>1845</td>\n",
       "      <td>15.3</td>\n",
       "      <td>1980</td>\n",
       "      <td>Europe</td>\n",
       "      <td>2.91</td>\n",
       "      <td>3.41</td>\n",
       "      <td>9.2</td>\n",
       "    </tr>\n",
       "  </tbody>\n",
       "</table>\n",
       "</div>"
      ],
      "text/plain": [
       "                   Model   MPG Cylinders  Displacement  Horsepower  Weight  \\\n",
       "385       ford granada l  22.0         6         232.0         112    2835   \n",
       "45   chevrolet vega (sw)  22.0         4         140.0          72    2408   \n",
       "379          honda civic  38.0         4          91.0          67    1965   \n",
       "65    amc ambassador sst  17.0         8         304.0         150    3672   \n",
       "329     vokswagen rabbit  29.8         4          89.0          62    1845   \n",
       "\n",
       "     Acceleration        Year                  Origin  bore  stroke  \\\n",
       "385          14.7        1982                      US  2.99    3.47   \n",
       "45           19.0        1971  US; Detroit, Michigan]  3.03    3.11   \n",
       "379          15.0        1982                   Japan  3.59    3.86   \n",
       "65           11.5  1972[1973]                      US  3.76    3.16   \n",
       "329          15.3        1980                  Europe  2.91    3.41   \n",
       "\n",
       "     compression-ratio  \n",
       "385               21.9  \n",
       "45                 9.6  \n",
       "379                7.0  \n",
       "65                 8.0  \n",
       "329                9.2  "
      ]
     },
     "execution_count": 320,
     "metadata": {},
     "output_type": "execute_result"
    }
   ],
   "source": [
    "cars_data = pd.read_csv(\"datasets/cars.csv\")\n",
    "\n",
    "cars_data.sample(5)"
   ]
  },
  {
   "cell_type": "code",
   "execution_count": 321,
   "metadata": {},
   "outputs": [
    {
     "data": {
      "text/plain": [
       "(394, 12)"
      ]
     },
     "execution_count": 321,
     "metadata": {},
     "output_type": "execute_result"
    }
   ],
   "source": [
    "cars_data.shape"
   ]
  },
  {
   "cell_type": "code",
   "execution_count": 322,
   "metadata": {},
   "outputs": [
    {
     "data": {
      "text/html": [
       "<div>\n",
       "<style scoped>\n",
       "    .dataframe tbody tr th:only-of-type {\n",
       "        vertical-align: middle;\n",
       "    }\n",
       "\n",
       "    .dataframe tbody tr th {\n",
       "        vertical-align: top;\n",
       "    }\n",
       "\n",
       "    .dataframe thead th {\n",
       "        text-align: right;\n",
       "    }\n",
       "</style>\n",
       "<table border=\"1\" class=\"dataframe\">\n",
       "  <thead>\n",
       "    <tr style=\"text-align: right;\">\n",
       "      <th></th>\n",
       "      <th>MPG</th>\n",
       "      <th>Displacement</th>\n",
       "      <th>Horsepower</th>\n",
       "      <th>Weight</th>\n",
       "      <th>Acceleration</th>\n",
       "      <th>bore</th>\n",
       "      <th>stroke</th>\n",
       "      <th>compression-ratio</th>\n",
       "    </tr>\n",
       "  </thead>\n",
       "  <tbody>\n",
       "    <tr>\n",
       "      <th>count</th>\n",
       "      <td>385.000000</td>\n",
       "      <td>394.000000</td>\n",
       "      <td>394.000000</td>\n",
       "      <td>394.000000</td>\n",
       "      <td>394.000000</td>\n",
       "      <td>394.000000</td>\n",
       "      <td>394.000000</td>\n",
       "      <td>394.000000</td>\n",
       "    </tr>\n",
       "    <tr>\n",
       "      <th>mean</th>\n",
       "      <td>23.551429</td>\n",
       "      <td>194.062183</td>\n",
       "      <td>104.337563</td>\n",
       "      <td>2976.060914</td>\n",
       "      <td>15.532995</td>\n",
       "      <td>3.305025</td>\n",
       "      <td>3.289289</td>\n",
       "      <td>10.358680</td>\n",
       "    </tr>\n",
       "    <tr>\n",
       "      <th>std</th>\n",
       "      <td>7.821598</td>\n",
       "      <td>104.508345</td>\n",
       "      <td>38.449600</td>\n",
       "      <td>847.891143</td>\n",
       "      <td>2.763637</td>\n",
       "      <td>0.270336</td>\n",
       "      <td>0.271165</td>\n",
       "      <td>4.326202</td>\n",
       "    </tr>\n",
       "    <tr>\n",
       "      <th>min</th>\n",
       "      <td>9.000000</td>\n",
       "      <td>68.000000</td>\n",
       "      <td>46.000000</td>\n",
       "      <td>1613.000000</td>\n",
       "      <td>8.000000</td>\n",
       "      <td>2.540000</td>\n",
       "      <td>2.070000</td>\n",
       "      <td>3.390000</td>\n",
       "    </tr>\n",
       "    <tr>\n",
       "      <th>25%</th>\n",
       "      <td>17.500000</td>\n",
       "      <td>105.000000</td>\n",
       "      <td>75.000000</td>\n",
       "      <td>2226.500000</td>\n",
       "      <td>13.725000</td>\n",
       "      <td>3.080000</td>\n",
       "      <td>3.150000</td>\n",
       "      <td>8.525000</td>\n",
       "    </tr>\n",
       "    <tr>\n",
       "      <th>50%</th>\n",
       "      <td>23.000000</td>\n",
       "      <td>151.000000</td>\n",
       "      <td>92.500000</td>\n",
       "      <td>2803.500000</td>\n",
       "      <td>15.500000</td>\n",
       "      <td>3.270000</td>\n",
       "      <td>3.350000</td>\n",
       "      <td>9.000000</td>\n",
       "    </tr>\n",
       "    <tr>\n",
       "      <th>75%</th>\n",
       "      <td>29.000000</td>\n",
       "      <td>265.750000</td>\n",
       "      <td>125.000000</td>\n",
       "      <td>3612.000000</td>\n",
       "      <td>17.000000</td>\n",
       "      <td>3.580000</td>\n",
       "      <td>3.400000</td>\n",
       "      <td>9.400000</td>\n",
       "    </tr>\n",
       "    <tr>\n",
       "      <th>max</th>\n",
       "      <td>46.600000</td>\n",
       "      <td>455.000000</td>\n",
       "      <td>230.000000</td>\n",
       "      <td>5140.000000</td>\n",
       "      <td>24.800000</td>\n",
       "      <td>3.940000</td>\n",
       "      <td>4.170000</td>\n",
       "      <td>23.000000</td>\n",
       "    </tr>\n",
       "  </tbody>\n",
       "</table>\n",
       "</div>"
      ],
      "text/plain": [
       "              MPG  Displacement  Horsepower       Weight  Acceleration  \\\n",
       "count  385.000000    394.000000  394.000000   394.000000    394.000000   \n",
       "mean    23.551429    194.062183  104.337563  2976.060914     15.532995   \n",
       "std      7.821598    104.508345   38.449600   847.891143      2.763637   \n",
       "min      9.000000     68.000000   46.000000  1613.000000      8.000000   \n",
       "25%     17.500000    105.000000   75.000000  2226.500000     13.725000   \n",
       "50%     23.000000    151.000000   92.500000  2803.500000     15.500000   \n",
       "75%     29.000000    265.750000  125.000000  3612.000000     17.000000   \n",
       "max     46.600000    455.000000  230.000000  5140.000000     24.800000   \n",
       "\n",
       "             bore      stroke  compression-ratio  \n",
       "count  394.000000  394.000000         394.000000  \n",
       "mean     3.305025    3.289289          10.358680  \n",
       "std      0.270336    0.271165           4.326202  \n",
       "min      2.540000    2.070000           3.390000  \n",
       "25%      3.080000    3.150000           8.525000  \n",
       "50%      3.270000    3.350000           9.000000  \n",
       "75%      3.580000    3.400000           9.400000  \n",
       "max      3.940000    4.170000          23.000000  "
      ]
     },
     "execution_count": 322,
     "metadata": {},
     "output_type": "execute_result"
    }
   ],
   "source": [
    "cars_data.describe()"
   ]
  },
  {
   "cell_type": "code",
   "execution_count": 323,
   "metadata": {},
   "outputs": [
    {
     "data": {
      "image/png": "[encoded data removed]",
      "text/plain": [
       "<Figure size 720x576 with 2 Axes>"
      ]
     },
     "metadata": {},
     "output_type": "display_data"
    }
   ],
   "source": [
    "cars_data.plot.scatter(x='Displacement',\n",
    "                  y='Acceleration',\n",
    "                  c='Horsepower',\n",
    "                  colormap='viridis',\n",
    "                  figsize=(10, 8));"
   ]
  },
  {
   "cell_type": "code",
   "execution_count": 324,
   "metadata": {},
   "outputs": [
    {
     "data": {
      "image/png": "[encoded data removed]",
      "text/plain": [
       "<Figure size 720x576 with 1 Axes>"
      ]
     },
     "metadata": {},
     "output_type": "display_data"
    }
   ],
   "source": [
    "cars_data.plot.scatter(x='MPG',\n",
    "                  y='Weight',\n",
    "                  figsize=(10, 8));"
   ]
  },
  {
   "cell_type": "code",
   "execution_count": 325,
   "metadata": {},
   "outputs": [
    {
     "data": {
      "text/html": [
       "<div>\n",
       "<style scoped>\n",
       "    .dataframe tbody tr th:only-of-type {\n",
       "        vertical-align: middle;\n",
       "    }\n",
       "\n",
       "    .dataframe tbody tr th {\n",
       "        vertical-align: top;\n",
       "    }\n",
       "\n",
       "    .dataframe thead th {\n",
       "        text-align: right;\n",
       "    }\n",
       "</style>\n",
       "<table border=\"1\" class=\"dataframe\">\n",
       "  <thead>\n",
       "    <tr style=\"text-align: right;\">\n",
       "      <th></th>\n",
       "      <th>MPG</th>\n",
       "      <th>Displacement</th>\n",
       "      <th>Horsepower</th>\n",
       "      <th>Weight</th>\n",
       "      <th>Acceleration</th>\n",
       "      <th>bore</th>\n",
       "      <th>stroke</th>\n",
       "      <th>compression-ratio</th>\n",
       "    </tr>\n",
       "  </thead>\n",
       "  <tbody>\n",
       "    <tr>\n",
       "      <th>MPG</th>\n",
       "      <td>1.000000</td>\n",
       "      <td>-0.807249</td>\n",
       "      <td>-0.777334</td>\n",
       "      <td>-0.831705</td>\n",
       "      <td>0.408534</td>\n",
       "      <td>-0.124381</td>\n",
       "      <td>0.039573</td>\n",
       "      <td>-0.062372</td>\n",
       "    </tr>\n",
       "    <tr>\n",
       "      <th>Displacement</th>\n",
       "      <td>-0.807249</td>\n",
       "      <td>1.000000</td>\n",
       "      <td>0.897507</td>\n",
       "      <td>0.932813</td>\n",
       "      <td>-0.540477</td>\n",
       "      <td>0.055402</td>\n",
       "      <td>-0.000635</td>\n",
       "      <td>0.014827</td>\n",
       "    </tr>\n",
       "    <tr>\n",
       "      <th>Horsepower</th>\n",
       "      <td>-0.777334</td>\n",
       "      <td>0.897507</td>\n",
       "      <td>1.000000</td>\n",
       "      <td>0.864566</td>\n",
       "      <td>-0.680107</td>\n",
       "      <td>0.000265</td>\n",
       "      <td>0.029495</td>\n",
       "      <td>0.010691</td>\n",
       "    </tr>\n",
       "    <tr>\n",
       "      <th>Weight</th>\n",
       "      <td>-0.831705</td>\n",
       "      <td>0.932813</td>\n",
       "      <td>0.864566</td>\n",
       "      <td>1.000000</td>\n",
       "      <td>-0.408917</td>\n",
       "      <td>0.058966</td>\n",
       "      <td>0.011390</td>\n",
       "      <td>0.030215</td>\n",
       "    </tr>\n",
       "    <tr>\n",
       "      <th>Acceleration</th>\n",
       "      <td>0.408534</td>\n",
       "      <td>-0.540477</td>\n",
       "      <td>-0.680107</td>\n",
       "      <td>-0.408917</td>\n",
       "      <td>1.000000</td>\n",
       "      <td>0.056338</td>\n",
       "      <td>-0.024609</td>\n",
       "      <td>0.026392</td>\n",
       "    </tr>\n",
       "    <tr>\n",
       "      <th>bore</th>\n",
       "      <td>-0.124381</td>\n",
       "      <td>0.055402</td>\n",
       "      <td>0.000265</td>\n",
       "      <td>0.058966</td>\n",
       "      <td>0.056338</td>\n",
       "      <td>1.000000</td>\n",
       "      <td>-0.093581</td>\n",
       "      <td>-0.123112</td>\n",
       "    </tr>\n",
       "    <tr>\n",
       "      <th>stroke</th>\n",
       "      <td>0.039573</td>\n",
       "      <td>-0.000635</td>\n",
       "      <td>0.029495</td>\n",
       "      <td>0.011390</td>\n",
       "      <td>-0.024609</td>\n",
       "      <td>-0.093581</td>\n",
       "      <td>1.000000</td>\n",
       "      <td>0.175033</td>\n",
       "    </tr>\n",
       "    <tr>\n",
       "      <th>compression-ratio</th>\n",
       "      <td>-0.062372</td>\n",
       "      <td>0.014827</td>\n",
       "      <td>0.010691</td>\n",
       "      <td>0.030215</td>\n",
       "      <td>0.026392</td>\n",
       "      <td>-0.123112</td>\n",
       "      <td>0.175033</td>\n",
       "      <td>1.000000</td>\n",
       "    </tr>\n",
       "  </tbody>\n",
       "</table>\n",
       "</div>"
      ],
      "text/plain": [
       "                        MPG  Displacement  Horsepower    Weight  Acceleration  \\\n",
       "MPG                1.000000     -0.807249   -0.777334 -0.831705      0.408534   \n",
       "Displacement      -0.807249      1.000000    0.897507  0.932813     -0.540477   \n",
       "Horsepower        -0.777334      0.897507    1.000000  0.864566     -0.680107   \n",
       "Weight            -0.831705      0.932813    0.864566  1.000000     -0.408917   \n",
       "Acceleration       0.408534     -0.540477   -0.680107 -0.408917      1.000000   \n",
       "bore              -0.124381      0.055402    0.000265  0.058966      0.056338   \n",
       "stroke             0.039573     -0.000635    0.029495  0.011390     -0.024609   \n",
       "compression-ratio -0.062372      0.014827    0.010691  0.030215      0.026392   \n",
       "\n",
       "                       bore    stroke  compression-ratio  \n",
       "MPG               -0.124381  0.039573          -0.062372  \n",
       "Displacement       0.055402 -0.000635           0.014827  \n",
       "Horsepower         0.000265  0.029495           0.010691  \n",
       "Weight             0.058966  0.011390           0.030215  \n",
       "Acceleration       0.056338 -0.024609           0.026392  \n",
       "bore               1.000000 -0.093581          -0.123112  \n",
       "stroke            -0.093581  1.000000           0.175033  \n",
       "compression-ratio -0.123112  0.175033           1.000000  "
      ]
     },
     "execution_count": 325,
     "metadata": {},
     "output_type": "execute_result"
    }
   ],
   "source": [
    "cars_corr = cars_data.corr()\n",
    "\n",
    "cars_corr"
   ]
  },
  {
   "cell_type": "code",
   "execution_count": 326,
   "metadata": {},
   "outputs": [
    {
     "data": {
      "text/plain": [
       "<matplotlib.axes._subplots.AxesSubplot at 0x1a119ec748>"
      ]
     },
     "execution_count": 326,
     "metadata": {},
     "output_type": "execute_result"
    },
    {
     "data": {
      "image/png": "[encoded data removed]",
      "text/plain": [
       "<Figure size 720x576 with 2 Axes>"
      ]
     },
     "metadata": {},
     "output_type": "display_data"
    }
   ],
   "source": [
    "fig, ax = plt.subplots(figsize = (10, 8))\n",
    "\n",
    "sns.heatmap(cars_corr, annot = True)"
   ]
  },
  {
   "cell_type": "code",
   "execution_count": 327,
   "metadata": {},
   "outputs": [
    {
     "data": {
      "text/plain": [
       "Model                 object\n",
       "MPG                  float64\n",
       "Cylinders             object\n",
       "Displacement         float64\n",
       "Horsepower             int64\n",
       "Weight                 int64\n",
       "Acceleration         float64\n",
       "Year                  object\n",
       "Origin                object\n",
       "bore                 float64\n",
       "stroke               float64\n",
       "compression-ratio    float64\n",
       "dtype: object"
      ]
     },
     "execution_count": 327,
     "metadata": {},
     "output_type": "execute_result"
    }
   ],
   "source": [
    "cars_data.dtypes"
   ]
  },
  {
   "cell_type": "markdown",
   "metadata": {},
   "source": [
    "# Cleaning the dataset"
   ]
  },
  {
   "cell_type": "markdown",
   "metadata": {},
   "source": [
    "## Checking whether all the column names are unique"
   ]
  },
  {
   "cell_type": "code",
   "execution_count": 328,
   "metadata": {},
   "outputs": [
    {
     "data": {
      "text/plain": [
       "Index(['Model', 'MPG', 'Cylinders', 'Displacement', 'Horsepower', 'Weight',\n",
       "       'Acceleration', 'Year', 'Origin', 'bore', 'stroke',\n",
       "       'compression-ratio'],\n",
       "      dtype='object')"
      ]
     },
     "execution_count": 328,
     "metadata": {},
     "output_type": "execute_result"
    }
   ],
   "source": [
    "column_names = cars_data.columns\n",
    "column_names"
   ]
  },
  {
   "cell_type": "code",
   "execution_count": 329,
   "metadata": {},
   "outputs": [
    {
     "data": {
      "text/plain": [
       "True"
      ]
     },
     "execution_count": 329,
     "metadata": {},
     "output_type": "execute_result"
    }
   ],
   "source": [
    "column_names.is_unique"
   ]
  },
  {
   "cell_type": "markdown",
   "metadata": {},
   "source": [
    "## Dealing with null values"
   ]
  },
  {
   "cell_type": "code",
   "execution_count": 330,
   "metadata": {},
   "outputs": [
    {
     "data": {
      "text/plain": [
       "Model                False\n",
       "MPG                   True\n",
       "Cylinders            False\n",
       "Displacement         False\n",
       "Horsepower           False\n",
       "Weight               False\n",
       "Acceleration         False\n",
       "Year                 False\n",
       "Origin               False\n",
       "bore                 False\n",
       "stroke               False\n",
       "compression-ratio    False\n",
       "dtype: bool"
      ]
     },
     "execution_count": 330,
     "metadata": {},
     "output_type": "execute_result"
    }
   ],
   "source": [
    "cars_data.isnull().any()"
   ]
  },
  {
   "cell_type": "code",
   "execution_count": 331,
   "metadata": {},
   "outputs": [
    {
     "data": {
      "text/plain": [
       "Model                0\n",
       "MPG                  9\n",
       "Cylinders            0\n",
       "Displacement         0\n",
       "Horsepower           0\n",
       "Weight               0\n",
       "Acceleration         0\n",
       "Year                 0\n",
       "Origin               0\n",
       "bore                 0\n",
       "stroke               0\n",
       "compression-ratio    0\n",
       "dtype: int64"
      ]
     },
     "execution_count": 331,
     "metadata": {},
     "output_type": "execute_result"
    }
   ],
   "source": [
    "cars_data.isnull().sum()"
   ]
  },
  {
   "cell_type": "code",
   "execution_count": 332,
   "metadata": {},
   "outputs": [],
   "source": [
    "cars_data['MPG'] = cars_data['MPG'].fillna(cars_data['MPG'].mean())"
   ]
  },
  {
   "cell_type": "code",
   "execution_count": 333,
   "metadata": {},
   "outputs": [
    {
     "data": {
      "text/plain": [
       "Model                0\n",
       "MPG                  0\n",
       "Cylinders            0\n",
       "Displacement         0\n",
       "Horsepower           0\n",
       "Weight               0\n",
       "Acceleration         0\n",
       "Year                 0\n",
       "Origin               0\n",
       "bore                 0\n",
       "stroke               0\n",
       "compression-ratio    0\n",
       "dtype: int64"
      ]
     },
     "execution_count": 333,
     "metadata": {},
     "output_type": "execute_result"
    }
   ],
   "source": [
    "cars_data.isnull().sum()"
   ]
  },
  {
   "cell_type": "markdown",
   "metadata": {},
   "source": [
    "## Dropping unnecessary columns"
   ]
  },
  {
   "cell_type": "code",
   "execution_count": 334,
   "metadata": {},
   "outputs": [],
   "source": [
    "to_drop = [ 'bore',\n",
    "            'stroke',\n",
    "            'compression-ratio']"
   ]
  },
  {
   "cell_type": "code",
   "execution_count": 335,
   "metadata": {},
   "outputs": [
    {
     "data": {
      "text/html": [
       "<div>\n",
       "<style scoped>\n",
       "    .dataframe tbody tr th:only-of-type {\n",
       "        vertical-align: middle;\n",
       "    }\n",
       "\n",
       "    .dataframe tbody tr th {\n",
       "        vertical-align: top;\n",
       "    }\n",
       "\n",
       "    .dataframe thead th {\n",
       "        text-align: right;\n",
       "    }\n",
       "</style>\n",
       "<table border=\"1\" class=\"dataframe\">\n",
       "  <thead>\n",
       "    <tr style=\"text-align: right;\">\n",
       "      <th></th>\n",
       "      <th>Model</th>\n",
       "      <th>MPG</th>\n",
       "      <th>Cylinders</th>\n",
       "      <th>Displacement</th>\n",
       "      <th>Horsepower</th>\n",
       "      <th>Weight</th>\n",
       "      <th>Acceleration</th>\n",
       "      <th>Year</th>\n",
       "      <th>Origin</th>\n",
       "    </tr>\n",
       "  </thead>\n",
       "  <tbody>\n",
       "    <tr>\n",
       "      <th>0</th>\n",
       "      <td>chevrolet chevelle malibu</td>\n",
       "      <td>18.0</td>\n",
       "      <td>8</td>\n",
       "      <td>307.0</td>\n",
       "      <td>130</td>\n",
       "      <td>3504</td>\n",
       "      <td>12.0</td>\n",
       "      <td>1970[1975]</td>\n",
       "      <td>US; Detroit, Michigan</td>\n",
       "    </tr>\n",
       "    <tr>\n",
       "      <th>1</th>\n",
       "      <td>buick skylark 320</td>\n",
       "      <td>15.0</td>\n",
       "      <td>8</td>\n",
       "      <td>350.0</td>\n",
       "      <td>165</td>\n",
       "      <td>3693</td>\n",
       "      <td>11.5</td>\n",
       "      <td>1970</td>\n",
       "      <td>US]</td>\n",
       "    </tr>\n",
       "    <tr>\n",
       "      <th>2</th>\n",
       "      <td>plymouth satellite</td>\n",
       "      <td>18.0</td>\n",
       "      <td>8</td>\n",
       "      <td>318.0</td>\n",
       "      <td>150</td>\n",
       "      <td>3436</td>\n",
       "      <td>11.0</td>\n",
       "      <td>1970, 1976</td>\n",
       "      <td>US</td>\n",
       "    </tr>\n",
       "    <tr>\n",
       "      <th>3</th>\n",
       "      <td>amc rebel sst</td>\n",
       "      <td>16.0</td>\n",
       "      <td>8</td>\n",
       "      <td>304.0</td>\n",
       "      <td>150</td>\n",
       "      <td>3433</td>\n",
       "      <td>12.0</td>\n",
       "      <td>1970</td>\n",
       "      <td>US</td>\n",
       "    </tr>\n",
       "    <tr>\n",
       "      <th>4</th>\n",
       "      <td>ford torino</td>\n",
       "      <td>17.0</td>\n",
       "      <td>8</td>\n",
       "      <td>302.0</td>\n",
       "      <td>140</td>\n",
       "      <td>3449</td>\n",
       "      <td>10.5</td>\n",
       "      <td>1970-1972</td>\n",
       "      <td>US]</td>\n",
       "    </tr>\n",
       "  </tbody>\n",
       "</table>\n",
       "</div>"
      ],
      "text/plain": [
       "                       Model   MPG Cylinders  Displacement  Horsepower  \\\n",
       "0  chevrolet chevelle malibu  18.0         8         307.0         130   \n",
       "1          buick skylark 320  15.0         8         350.0         165   \n",
       "2         plymouth satellite  18.0         8         318.0         150   \n",
       "3              amc rebel sst  16.0         8         304.0         150   \n",
       "4                ford torino  17.0         8         302.0         140   \n",
       "\n",
       "   Weight  Acceleration        Year                 Origin  \n",
       "0    3504          12.0  1970[1975]  US; Detroit, Michigan  \n",
       "1    3693          11.5        1970                    US]  \n",
       "2    3436          11.0  1970, 1976                     US  \n",
       "3    3433          12.0        1970                     US  \n",
       "4    3449          10.5   1970-1972                    US]  "
      ]
     },
     "execution_count": 335,
     "metadata": {},
     "output_type": "execute_result"
    }
   ],
   "source": [
    "cars_data.drop(to_drop, inplace=True, axis=1)\n",
    "cars_data.head()"
   ]
  },
  {
   "cell_type": "markdown",
   "metadata": {},
   "source": [
    "## Changing datatypes\n",
    "* `Year` and `Cylinder` should be integers but they are stored as objects"
   ]
  },
  {
   "cell_type": "code",
   "execution_count": 336,
   "metadata": {},
   "outputs": [
    {
     "data": {
      "text/plain": [
       "0    1970[1975]\n",
       "1          1970\n",
       "2    1970, 1976\n",
       "3          1970\n",
       "4     1970-1972\n",
       "5          1970\n",
       "6    1970[1975]\n",
       "7          1970\n",
       "8          1970\n",
       "9          1970\n",
       "Name: Year, dtype: object"
      ]
     },
     "execution_count": 336,
     "metadata": {},
     "output_type": "execute_result"
    }
   ],
   "source": [
    "cars_data['Year'].head(10)"
   ]
  },
  {
   "cell_type": "code",
   "execution_count": 337,
   "metadata": {},
   "outputs": [
    {
     "data": {
      "text/plain": [
       "True     357\n",
       "False     37\n",
       "Name: Year, dtype: int64"
      ]
     },
     "execution_count": 337,
     "metadata": {},
     "output_type": "execute_result"
    }
   ],
   "source": [
    "cars_data['Year'].str.isnumeric().value_counts()"
   ]
  },
  {
   "cell_type": "code",
   "execution_count": 338,
   "metadata": {},
   "outputs": [
    {
     "data": {
      "text/plain": [
       "0          1970[1975]\n",
       "2          1970, 1976\n",
       "4           1970-1972\n",
       "6          1970[1975]\n",
       "30      1971[1973]971\n",
       "35         1971[1973]\n",
       "40         1971[1973]\n",
       "44         1971[1973]\n",
       "49         1971[1973]\n",
       "56         1972[1973]\n",
       "61         1972[1973]\n",
       "65         1972[1973]\n",
       "68         1972[1973]\n",
       "73         1972[1973]\n",
       "75            1972-73\n",
       "79            1972-73\n",
       "82            1972-73\n",
       "96          1973-1974\n",
       "97         1973, 1974\n",
       "102    1973, 19741973\n",
       "105        1973, 1974\n",
       "108        1973, 1974\n",
       "112        1973, 1974\n",
       "115        1973, 1974\n",
       "126        1974, 1975\n",
       "131        1974, 1975\n",
       "134        1974, 1975\n",
       "137        1974, 1975\n",
       "139    1974, 19751974\n",
       "142        1974, 1975\n",
       "365         1982-1985\n",
       "374         1982-1985\n",
       "380         1982-1985\n",
       "383         1982-1985\n",
       "387         1982-1985\n",
       "389         1982-1985\n",
       "391         1982-1985\n",
       "Name: Year, dtype: object"
      ]
     },
     "execution_count": 338,
     "metadata": {},
     "output_type": "execute_result"
    }
   ],
   "source": [
    "cars_data['Year'].loc[cars_data['Year'].str.isnumeric() == False]"
   ]
  },
  {
   "cell_type": "markdown",
   "metadata": {},
   "source": [
    "### Only the first year need to be included\n",
    "\n",
    "* The given formats for the `Year` column 1970[1971]; 1970-1972; 1970, 1972\n",
    "* Use the following regex which will convert all the year format to only first model manufacturinng year i,e the regex will return only first four digits"
   ]
  },
  {
   "cell_type": "code",
   "execution_count": 339,
   "metadata": {},
   "outputs": [
    {
     "data": {
      "text/plain": [
       "0    1970\n",
       "1    1970\n",
       "2    1970\n",
       "3    1970\n",
       "4    1970\n",
       "Name: Year, dtype: object"
      ]
     },
     "execution_count": 339,
     "metadata": {},
     "output_type": "execute_result"
    }
   ],
   "source": [
    "extr = cars_data['Year'].str.extract(r'^(\\d{4})', expand=False)\n",
    "extr.head()"
   ]
  },
  {
   "cell_type": "code",
   "execution_count": 340,
   "metadata": {},
   "outputs": [
    {
     "data": {
      "text/plain": [
       "False"
      ]
     },
     "execution_count": 340,
     "metadata": {},
     "output_type": "execute_result"
    }
   ],
   "source": [
    "cars_data['Year'].isnull().values.any()"
   ]
  },
  {
   "cell_type": "code",
   "execution_count": 341,
   "metadata": {},
   "outputs": [
    {
     "data": {
      "text/plain": [
       "dtype('int64')"
      ]
     },
     "execution_count": 341,
     "metadata": {},
     "output_type": "execute_result"
    }
   ],
   "source": [
    "cars_data['Year'] = pd.to_numeric(extr)\n",
    "cars_data['Year'].dtype"
   ]
  },
  {
   "cell_type": "markdown",
   "metadata": {},
   "source": [
    "* We can now visualise `Year` to glean info"
   ]
  },
  {
   "cell_type": "code",
   "execution_count": 342,
   "metadata": {},
   "outputs": [
    {
     "data": {
      "image/png": "[encoded data removed]",
      "text/plain": [
       "<Figure size 720x576 with 1 Axes>"
      ]
     },
     "metadata": {},
     "output_type": "display_data"
    }
   ],
   "source": [
    "cars_data.plot.scatter(x='Year',\n",
    "                  y='MPG',\n",
    "                  figsize=(10, 8));"
   ]
  },
  {
   "cell_type": "markdown",
   "metadata": {},
   "source": [
    "#### Checking for null values"
   ]
  },
  {
   "cell_type": "code",
   "execution_count": 343,
   "metadata": {},
   "outputs": [
    {
     "data": {
      "text/plain": [
       "False"
      ]
     },
     "execution_count": 343,
     "metadata": {},
     "output_type": "execute_result"
    }
   ],
   "source": [
    "cars_data['Cylinders'].isnull().values.any()"
   ]
  },
  {
   "cell_type": "markdown",
   "metadata": {},
   "source": [
    "#### Checking for any presents of string"
   ]
  },
  {
   "cell_type": "code",
   "execution_count": 344,
   "metadata": {},
   "outputs": [
    {
     "data": {
      "text/plain": [
       "True     385\n",
       "False      9\n",
       "Name: Cylinders, dtype: int64"
      ]
     },
     "execution_count": 344,
     "metadata": {},
     "output_type": "execute_result"
    }
   ],
   "source": [
    "cars_data['Cylinders'].str.isnumeric().value_counts()"
   ]
  },
  {
   "cell_type": "code",
   "execution_count": 345,
   "metadata": {},
   "outputs": [
    {
     "data": {
      "text/plain": [
       "11    -\n",
       "22    -\n",
       "32    -\n",
       "42    -\n",
       "51    -\n",
       "58    -\n",
       "69    -\n",
       "82    -\n",
       "89    -\n",
       "Name: Cylinders, dtype: object"
      ]
     },
     "execution_count": 345,
     "metadata": {},
     "output_type": "execute_result"
    }
   ],
   "source": [
    "cars_data['Cylinders'].loc[cars_data['Cylinders'].str.isnumeric() == False]"
   ]
  },
  {
   "cell_type": "code",
   "execution_count": 346,
   "metadata": {},
   "outputs": [],
   "source": [
    "cylinders = cars_data['Cylinders'].loc[cars_data['Cylinders'] != '-']"
   ]
  },
  {
   "cell_type": "code",
   "execution_count": 347,
   "metadata": {},
   "outputs": [],
   "source": [
    "cmean = cylinders.astype(int).mean()"
   ]
  },
  {
   "cell_type": "code",
   "execution_count": 348,
   "metadata": {},
   "outputs": [],
   "source": [
    "cars_data['Cylinders'] = cars_data['Cylinders'].replace('-', cmean).astype(int)"
   ]
  },
  {
   "cell_type": "code",
   "execution_count": 349,
   "metadata": {},
   "outputs": [
    {
     "data": {
      "text/plain": [
       "Model            object\n",
       "MPG             float64\n",
       "Cylinders         int64\n",
       "Displacement    float64\n",
       "Horsepower        int64\n",
       "Weight            int64\n",
       "Acceleration    float64\n",
       "Year              int64\n",
       "Origin           object\n",
       "dtype: object"
      ]
     },
     "execution_count": 349,
     "metadata": {},
     "output_type": "execute_result"
    }
   ],
   "source": [
    "cars_data.dtypes"
   ]
  },
  {
   "cell_type": "markdown",
   "metadata": {},
   "source": [
    "## Formatting data\n",
    "* It can be noticed that the `Origin` Column needs to be cleaned"
   ]
  },
  {
   "cell_type": "code",
   "execution_count": 350,
   "metadata": {},
   "outputs": [
    {
     "data": {
      "text/html": [
       "<div>\n",
       "<style scoped>\n",
       "    .dataframe tbody tr th:only-of-type {\n",
       "        vertical-align: middle;\n",
       "    }\n",
       "\n",
       "    .dataframe tbody tr th {\n",
       "        vertical-align: top;\n",
       "    }\n",
       "\n",
       "    .dataframe thead th {\n",
       "        text-align: right;\n",
       "    }\n",
       "</style>\n",
       "<table border=\"1\" class=\"dataframe\">\n",
       "  <thead>\n",
       "    <tr style=\"text-align: right;\">\n",
       "      <th></th>\n",
       "      <th>Model</th>\n",
       "      <th>MPG</th>\n",
       "      <th>Cylinders</th>\n",
       "      <th>Displacement</th>\n",
       "      <th>Horsepower</th>\n",
       "      <th>Weight</th>\n",
       "      <th>Acceleration</th>\n",
       "      <th>Year</th>\n",
       "      <th>Origin</th>\n",
       "    </tr>\n",
       "  </thead>\n",
       "  <tbody>\n",
       "    <tr>\n",
       "      <th>0</th>\n",
       "      <td>chevrolet chevelle malibu</td>\n",
       "      <td>18.0</td>\n",
       "      <td>8</td>\n",
       "      <td>307.0</td>\n",
       "      <td>130</td>\n",
       "      <td>3504</td>\n",
       "      <td>12.0</td>\n",
       "      <td>1970</td>\n",
       "      <td>US; Detroit, Michigan</td>\n",
       "    </tr>\n",
       "    <tr>\n",
       "      <th>1</th>\n",
       "      <td>buick skylark 320</td>\n",
       "      <td>15.0</td>\n",
       "      <td>8</td>\n",
       "      <td>350.0</td>\n",
       "      <td>165</td>\n",
       "      <td>3693</td>\n",
       "      <td>11.5</td>\n",
       "      <td>1970</td>\n",
       "      <td>US]</td>\n",
       "    </tr>\n",
       "    <tr>\n",
       "      <th>2</th>\n",
       "      <td>plymouth satellite</td>\n",
       "      <td>18.0</td>\n",
       "      <td>8</td>\n",
       "      <td>318.0</td>\n",
       "      <td>150</td>\n",
       "      <td>3436</td>\n",
       "      <td>11.0</td>\n",
       "      <td>1970</td>\n",
       "      <td>US</td>\n",
       "    </tr>\n",
       "    <tr>\n",
       "      <th>3</th>\n",
       "      <td>amc rebel sst</td>\n",
       "      <td>16.0</td>\n",
       "      <td>8</td>\n",
       "      <td>304.0</td>\n",
       "      <td>150</td>\n",
       "      <td>3433</td>\n",
       "      <td>12.0</td>\n",
       "      <td>1970</td>\n",
       "      <td>US</td>\n",
       "    </tr>\n",
       "    <tr>\n",
       "      <th>4</th>\n",
       "      <td>ford torino</td>\n",
       "      <td>17.0</td>\n",
       "      <td>8</td>\n",
       "      <td>302.0</td>\n",
       "      <td>140</td>\n",
       "      <td>3449</td>\n",
       "      <td>10.5</td>\n",
       "      <td>1970</td>\n",
       "      <td>US]</td>\n",
       "    </tr>\n",
       "  </tbody>\n",
       "</table>\n",
       "</div>"
      ],
      "text/plain": [
       "                       Model   MPG  Cylinders  Displacement  Horsepower  \\\n",
       "0  chevrolet chevelle malibu  18.0          8         307.0         130   \n",
       "1          buick skylark 320  15.0          8         350.0         165   \n",
       "2         plymouth satellite  18.0          8         318.0         150   \n",
       "3              amc rebel sst  16.0          8         304.0         150   \n",
       "4                ford torino  17.0          8         302.0         140   \n",
       "\n",
       "   Weight  Acceleration  Year                 Origin  \n",
       "0    3504          12.0  1970  US; Detroit, Michigan  \n",
       "1    3693          11.5  1970                    US]  \n",
       "2    3436          11.0  1970                     US  \n",
       "3    3433          12.0  1970                     US  \n",
       "4    3449          10.5  1970                    US]  "
      ]
     },
     "execution_count": 350,
     "metadata": {},
     "output_type": "execute_result"
    }
   ],
   "source": [
    "cars_data.head(5)"
   ]
  },
  {
   "cell_type": "code",
   "execution_count": 351,
   "metadata": {},
   "outputs": [
    {
     "data": {
      "text/plain": [
       "0     US; Detroit, Michigan\n",
       "1                       US]\n",
       "2                        US\n",
       "3                        US\n",
       "4                       US]\n",
       "5                        US\n",
       "6     US; Detroit, Michigan\n",
       "7                        US\n",
       "8                        US\n",
       "9                       US]\n",
       "10                       US\n",
       "11                       US\n",
       "12    US; Detroit, Michigan\n",
       "13                       US\n",
       "14             Japan; Aichi\n",
       "Name: Origin, dtype: object"
      ]
     },
     "execution_count": 351,
     "metadata": {},
     "output_type": "execute_result"
    }
   ],
   "source": [
    "cars_data['Origin'].head(15)"
   ]
  },
  {
   "cell_type": "markdown",
   "metadata": {},
   "source": [
    "* We can see differnt format of `US` and `Japan` "
   ]
  },
  {
   "cell_type": "code",
   "execution_count": 352,
   "metadata": {},
   "outputs": [
    {
     "data": {
      "text/plain": [
       "Model           volkswagen scirocco\n",
       "MPG                            31.5\n",
       "Cylinders                         4\n",
       "Displacement                     89\n",
       "Horsepower                       71\n",
       "Weight                         1990\n",
       "Acceleration                   14.9\n",
       "Year                           1978\n",
       "Origin               Europe-Germany\n",
       "Name: 276, dtype: object"
      ]
     },
     "execution_count": 352,
     "metadata": {},
     "output_type": "execute_result"
    }
   ],
   "source": [
    "cars_data.loc[276]"
   ]
  },
  {
   "cell_type": "code",
   "execution_count": 353,
   "metadata": {},
   "outputs": [
    {
     "data": {
      "text/plain": [
       "Model                audi 5000\n",
       "MPG                       20.3\n",
       "Cylinders                    5\n",
       "Displacement               131\n",
       "Horsepower                 103\n",
       "Weight                    2830\n",
       "Acceleration              15.9\n",
       "Year                      1978\n",
       "Origin          Europe Germany\n",
       "Name: 272, dtype: object"
      ]
     },
     "execution_count": 353,
     "metadata": {},
     "output_type": "execute_result"
    }
   ],
   "source": [
    "cars_data.loc[272]"
   ]
  },
  {
   "cell_type": "markdown",
   "metadata": {},
   "source": [
    "* Two different formats of `Europe Germeny`"
   ]
  },
  {
   "cell_type": "code",
   "execution_count": 354,
   "metadata": {},
   "outputs": [
    {
     "data": {
      "text/plain": [
       "array(['US; Detroit, Michigan', 'US]', 'US', 'Japan; Aichi',\n",
       "       'Europe-Germany', 'Europe', 'Japan; Tokyo', 'Japan; Aichi]',\n",
       "       'US; Detroit, Michigan]', 'Japan; Tokyo]', 'Japan',\n",
       "       'Europe Germany'], dtype=object)"
      ]
     },
     "execution_count": 354,
     "metadata": {},
     "output_type": "execute_result"
    }
   ],
   "source": [
    "cars_data['Origin'].unique()"
   ]
  },
  {
   "cell_type": "markdown",
   "metadata": {},
   "source": [
    "#### Get a boolean Mask for the Place of Origin 'US'"
   ]
  },
  {
   "cell_type": "code",
   "execution_count": 355,
   "metadata": {},
   "outputs": [],
   "source": [
    "us = cars_data['Origin'].str.contains('US')"
   ]
  },
  {
   "cell_type": "code",
   "execution_count": 356,
   "metadata": {},
   "outputs": [
    {
     "data": {
      "text/plain": [
       "0      True\n",
       "1      True\n",
       "2      True\n",
       "3      True\n",
       "4      True\n",
       "5      True\n",
       "6      True\n",
       "7      True\n",
       "8      True\n",
       "9      True\n",
       "10     True\n",
       "11     True\n",
       "12     True\n",
       "13     True\n",
       "14    False\n",
       "Name: Origin, dtype: bool"
      ]
     },
     "execution_count": 356,
     "metadata": {},
     "output_type": "execute_result"
    }
   ],
   "source": [
    "us[:15]"
   ]
  },
  {
   "cell_type": "markdown",
   "metadata": {},
   "source": [
    "### `Three level nesting with np.where`\n",
    "`.where()` takes each element in the object used for condition, checks whether that particular element evaluates to True in the context of the condition, and returns an ndarray containing then or else, depending on which applies.\n",
    "\n",
    "np.where(if_this_condition_is_true_one, do_this, \n",
    "  np.where(if_this_condition_is_true_two, do_that, \n",
    "    np.where(if_this_condition_is_true_three, do_foo, do_bar)))"
   ]
  },
  {
   "cell_type": "code",
   "execution_count": 357,
   "metadata": {},
   "outputs": [],
   "source": [
    "cars_data['Origin'] = np.where(cars_data['Origin'].str.contains('US'), \n",
    "                               'US', \n",
    "                               cars_data['Origin'])"
   ]
  },
  {
   "cell_type": "code",
   "execution_count": 358,
   "metadata": {},
   "outputs": [
    {
     "data": {
      "text/plain": [
       "array(['US', 'Japan; Aichi', 'Europe-Germany', 'Europe', 'Japan; Tokyo',\n",
       "       'Japan; Aichi]', 'Japan; Tokyo]', 'Japan', 'Europe Germany'],\n",
       "      dtype=object)"
      ]
     },
     "execution_count": 358,
     "metadata": {},
     "output_type": "execute_result"
    }
   ],
   "source": [
    "cars_data['Origin'].unique()"
   ]
  },
  {
   "cell_type": "code",
   "execution_count": 359,
   "metadata": {},
   "outputs": [],
   "source": [
    "cars_data['Origin'] = np.where(cars_data['Origin'].str.contains('Japan'), \n",
    "                               'Japan', cars_data['Origin'])\n",
    "\n",
    "cars_data['Origin'] = np.where(cars_data['Origin'].str.contains('Europe'), \n",
    "                               'Europe', cars_data['Origin'])"
   ]
  },
  {
   "cell_type": "code",
   "execution_count": 360,
   "metadata": {},
   "outputs": [
    {
     "data": {
      "text/plain": [
       "array(['US', 'Japan', 'Europe'], dtype=object)"
      ]
     },
     "execution_count": 360,
     "metadata": {},
     "output_type": "execute_result"
    }
   ],
   "source": [
    "cars_data['Origin'].unique()"
   ]
  },
  {
   "cell_type": "code",
   "execution_count": 361,
   "metadata": {},
   "outputs": [
    {
     "data": {
      "text/plain": [
       "array(['US', 'Japan', 'Europe'], dtype=object)"
      ]
     },
     "execution_count": 361,
     "metadata": {},
     "output_type": "execute_result"
    }
   ],
   "source": [
    "cars_data['Origin'].unique()"
   ]
  },
  {
   "cell_type": "code",
   "execution_count": 362,
   "metadata": {},
   "outputs": [
    {
     "data": {
      "text/plain": [
       "Model           volkswagen scirocco\n",
       "MPG                            31.5\n",
       "Cylinders                         4\n",
       "Displacement                     89\n",
       "Horsepower                       71\n",
       "Weight                         1990\n",
       "Acceleration                   14.9\n",
       "Year                           1978\n",
       "Origin                       Europe\n",
       "Name: 276, dtype: object"
      ]
     },
     "execution_count": 362,
     "metadata": {},
     "output_type": "execute_result"
    }
   ],
   "source": [
    "cars_data.loc[276]"
   ]
  },
  {
   "cell_type": "code",
   "execution_count": 363,
   "metadata": {},
   "outputs": [
    {
     "data": {
      "text/html": [
       "<div>\n",
       "<style scoped>\n",
       "    .dataframe tbody tr th:only-of-type {\n",
       "        vertical-align: middle;\n",
       "    }\n",
       "\n",
       "    .dataframe tbody tr th {\n",
       "        vertical-align: top;\n",
       "    }\n",
       "\n",
       "    .dataframe thead th {\n",
       "        text-align: right;\n",
       "    }\n",
       "</style>\n",
       "<table border=\"1\" class=\"dataframe\">\n",
       "  <thead>\n",
       "    <tr style=\"text-align: right;\">\n",
       "      <th></th>\n",
       "      <th>Model</th>\n",
       "      <th>MPG</th>\n",
       "      <th>Cylinders</th>\n",
       "      <th>Displacement</th>\n",
       "      <th>Horsepower</th>\n",
       "      <th>Weight</th>\n",
       "      <th>Acceleration</th>\n",
       "      <th>Year</th>\n",
       "      <th>Origin</th>\n",
       "    </tr>\n",
       "  </thead>\n",
       "  <tbody>\n",
       "    <tr>\n",
       "      <th>386</th>\n",
       "      <td>toyota celica gt</td>\n",
       "      <td>32.0</td>\n",
       "      <td>4</td>\n",
       "      <td>144.0</td>\n",
       "      <td>96</td>\n",
       "      <td>2665</td>\n",
       "      <td>13.9</td>\n",
       "      <td>1982</td>\n",
       "      <td>Japan</td>\n",
       "    </tr>\n",
       "    <tr>\n",
       "      <th>361</th>\n",
       "      <td>ford granada gl</td>\n",
       "      <td>20.2</td>\n",
       "      <td>6</td>\n",
       "      <td>200.0</td>\n",
       "      <td>88</td>\n",
       "      <td>3060</td>\n",
       "      <td>17.1</td>\n",
       "      <td>1981</td>\n",
       "      <td>US</td>\n",
       "    </tr>\n",
       "    <tr>\n",
       "      <th>159</th>\n",
       "      <td>chevroelt chevelle malibu</td>\n",
       "      <td>16.0</td>\n",
       "      <td>6</td>\n",
       "      <td>250.0</td>\n",
       "      <td>105</td>\n",
       "      <td>3897</td>\n",
       "      <td>18.5</td>\n",
       "      <td>1975</td>\n",
       "      <td>US</td>\n",
       "    </tr>\n",
       "    <tr>\n",
       "      <th>372</th>\n",
       "      <td>mazda glc custom l</td>\n",
       "      <td>37.0</td>\n",
       "      <td>4</td>\n",
       "      <td>91.0</td>\n",
       "      <td>68</td>\n",
       "      <td>2025</td>\n",
       "      <td>18.2</td>\n",
       "      <td>1982</td>\n",
       "      <td>Japan</td>\n",
       "    </tr>\n",
       "    <tr>\n",
       "      <th>153</th>\n",
       "      <td>ford maverick</td>\n",
       "      <td>15.0</td>\n",
       "      <td>6</td>\n",
       "      <td>250.0</td>\n",
       "      <td>72</td>\n",
       "      <td>3158</td>\n",
       "      <td>19.5</td>\n",
       "      <td>1975</td>\n",
       "      <td>US</td>\n",
       "    </tr>\n",
       "    <tr>\n",
       "      <th>389</th>\n",
       "      <td>ford mustang gl</td>\n",
       "      <td>27.0</td>\n",
       "      <td>4</td>\n",
       "      <td>140.0</td>\n",
       "      <td>86</td>\n",
       "      <td>2790</td>\n",
       "      <td>15.6</td>\n",
       "      <td>1982</td>\n",
       "      <td>US</td>\n",
       "    </tr>\n",
       "    <tr>\n",
       "      <th>14</th>\n",
       "      <td>toyota corona mark ii</td>\n",
       "      <td>24.0</td>\n",
       "      <td>4</td>\n",
       "      <td>113.0</td>\n",
       "      <td>95</td>\n",
       "      <td>2372</td>\n",
       "      <td>15.0</td>\n",
       "      <td>1970</td>\n",
       "      <td>Japan</td>\n",
       "    </tr>\n",
       "    <tr>\n",
       "      <th>366</th>\n",
       "      <td>pontiac j2000 se hatchback</td>\n",
       "      <td>31.0</td>\n",
       "      <td>4</td>\n",
       "      <td>112.0</td>\n",
       "      <td>85</td>\n",
       "      <td>2575</td>\n",
       "      <td>16.2</td>\n",
       "      <td>1982</td>\n",
       "      <td>US</td>\n",
       "    </tr>\n",
       "    <tr>\n",
       "      <th>61</th>\n",
       "      <td>chevrolet impala</td>\n",
       "      <td>13.0</td>\n",
       "      <td>8</td>\n",
       "      <td>350.0</td>\n",
       "      <td>165</td>\n",
       "      <td>4274</td>\n",
       "      <td>12.0</td>\n",
       "      <td>1972</td>\n",
       "      <td>US</td>\n",
       "    </tr>\n",
       "    <tr>\n",
       "      <th>221</th>\n",
       "      <td>dodge monaco brougham</td>\n",
       "      <td>15.5</td>\n",
       "      <td>8</td>\n",
       "      <td>318.0</td>\n",
       "      <td>145</td>\n",
       "      <td>4140</td>\n",
       "      <td>13.7</td>\n",
       "      <td>1977</td>\n",
       "      <td>US</td>\n",
       "    </tr>\n",
       "  </tbody>\n",
       "</table>\n",
       "</div>"
      ],
      "text/plain": [
       "                          Model   MPG  Cylinders  Displacement  Horsepower  \\\n",
       "386            toyota celica gt  32.0          4         144.0          96   \n",
       "361             ford granada gl  20.2          6         200.0          88   \n",
       "159   chevroelt chevelle malibu  16.0          6         250.0         105   \n",
       "372          mazda glc custom l  37.0          4          91.0          68   \n",
       "153               ford maverick  15.0          6         250.0          72   \n",
       "389             ford mustang gl  27.0          4         140.0          86   \n",
       "14        toyota corona mark ii  24.0          4         113.0          95   \n",
       "366  pontiac j2000 se hatchback  31.0          4         112.0          85   \n",
       "61             chevrolet impala  13.0          8         350.0         165   \n",
       "221       dodge monaco brougham  15.5          8         318.0         145   \n",
       "\n",
       "     Weight  Acceleration  Year Origin  \n",
       "386    2665          13.9  1982  Japan  \n",
       "361    3060          17.1  1981     US  \n",
       "159    3897          18.5  1975     US  \n",
       "372    2025          18.2  1982  Japan  \n",
       "153    3158          19.5  1975     US  \n",
       "389    2790          15.6  1982     US  \n",
       "14     2372          15.0  1970  Japan  \n",
       "366    2575          16.2  1982     US  \n",
       "61     4274          12.0  1972     US  \n",
       "221    4140          13.7  1977     US  "
      ]
     },
     "execution_count": 363,
     "metadata": {},
     "output_type": "execute_result"
    }
   ],
   "source": [
    "cars_data.sample(10)"
   ]
  },
  {
   "cell_type": "code",
   "execution_count": null,
   "metadata": {},
   "outputs": [],
   "source": []
  },
  {
   "cell_type": "code",
   "execution_count": null,
   "metadata": {},
   "outputs": [],
   "source": []
  },
  {
   "cell_type": "code",
   "execution_count": null,
   "metadata": {},
   "outputs": [],
   "source": []
  }
 ],
 "metadata": {
  "kernelspec": {
   "display_name": "Python 3",
   "language": "python",
   "name": "python3"
  },
  "language_info": {
   "codemirror_mode": {
    "name": "ipython",
    "version": 3
   },
   "file_extension": ".py",
   "mimetype": "text/x-python",
   "name": "python",
   "nbconvert_exporter": "python",
   "pygments_lexer": "ipython3",
   "version": "3.7.6"
  }
 },
 "nbformat": 4,
 "nbformat_minor": 2
}
