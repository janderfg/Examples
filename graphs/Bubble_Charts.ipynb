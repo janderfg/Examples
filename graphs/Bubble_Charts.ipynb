{
 "cells": [
  {
   "cell_type": "markdown",
   "metadata": {},
   "source": [
    "## Bubble Chart \n",
    "https://plot.ly/python/bubble-charts/\n",
    "\n",
    "A bubble chart is a variation of a scatter chart in which the data points are replaced with bubbles, and additional dimension of the data is represented in the size of the bubbles and color."
   ]
  },
  {
   "cell_type": "markdown",
   "metadata": {},
   "source": [
    "### Importing packages"
   ]
  },
  {
   "cell_type": "code",
   "execution_count": 1,
   "metadata": {},
   "outputs": [
    {
     "data": {
      "text/html": [
       "        <script type=\"text/javascript\">\n",
       "        window.PlotlyConfig = {MathJaxConfig: 'local'};\n",
       "        if (window.MathJax) {MathJax.Hub.Config({SVG: {font: \"STIX-Web\"}});}\n",
       "        if (typeof require !== 'undefined') {\n",
       "        require.undef(\"plotly\");\n",
       "        requirejs.config({\n",
       "            paths: {\n",
       "                'plotly': ['https://cdn.plot.ly/plotly-latest.min']\n",
       "            }\n",
       "        });\n",
       "        require(['plotly'], function(Plotly) {\n",
       "            window._Plotly = Plotly;\n",
       "        });\n",
       "        }\n",
       "        </script>\n",
       "        "
      ]
     },
     "metadata": {},
     "output_type": "display_data"
    }
   ],
   "source": [
    "import pandas as pd\n",
    "import plotly\n",
    "import plotly.graph_objs as go\n",
    "import plotly.offline as offline\n",
    "\n",
    "# Graphs in Plotly are plotted using the \"graph_objs\" library\n",
    "# We want these graphs to be available offile. In order for Plotly\n",
    "# visuals to display within Jupyter Notebook, we need to enable\n",
    "# notebook mode.\n",
    "offline.init_notebook_mode(connected=True)"
   ]
  },
  {
   "cell_type": "markdown",
   "metadata": {},
   "source": [
    "##### Regular 2D scatter plot"
   ]
  },
  {
   "cell_type": "code",
   "execution_count": 2,
   "metadata": {},
   "outputs": [
    {
     "data": {
      "application/vnd.plotly.v1+json": {
       "config": {
        "linkText": "Export to plot.ly",
        "plotlyServerURL": "https://plot.ly",
        "showLink": false
       },
       "data": [
        {
         "mode": "markers",
         "type": "scatter",
         "x": [
          15,
          18,
          21,
          25
         ],
         "y": [
          100,
          400,
          300,
          200
         ]
        }
       ],
       "layout": {
        "template": {
         "data": {
          "bar": [
           {
            "error_x": {
             "color": "#2a3f5f"
            },
            "error_y": {
             "color": "#2a3f5f"
            },
            "marker": {
             "line": {
              "color": "#E5ECF6",
              "width": 0.5
             }
            },
            "type": "bar"
           }
          ],
          "barpolar": [
           {
            "marker": {
             "line": {
              "color": "#E5ECF6",
              "width": 0.5
             }
            },
            "type": "barpolar"
           }
          ],
          "carpet": [
           {
            "aaxis": {
             "endlinecolor": "#2a3f5f",
             "gridcolor": "white",
             "linecolor": "white",
             "minorgridcolor": "white",
             "startlinecolor": "#2a3f5f"
            },
            "baxis": {
             "endlinecolor": "#2a3f5f",
             "gridcolor": "white",
             "linecolor": "white",
             "minorgridcolor": "white",
             "startlinecolor": "#2a3f5f"
            },
            "type": "carpet"
           }
          ],
          "choropleth": [
           {
            "colorbar": {
             "outlinewidth": 0,
             "ticks": ""
            },
            "type": "choropleth"
           }
          ],
          "contour": [
           {
            "colorbar": {
             "outlinewidth": 0,
             "ticks": ""
            },
            "colorscale": [
             [
              0,
              "#0d0887"
             ],
             [
              0.1111111111111111,
              "#46039f"
             ],
             [
              0.2222222222222222,
              "#7201a8"
             ],
             [
              0.3333333333333333,
              "#9c179e"
             ],
             [
              0.4444444444444444,
              "#bd3786"
             ],
             [
              0.5555555555555556,
              "#d8576b"
             ],
             [
              0.6666666666666666,
              "#ed7953"
             ],
             [
              0.7777777777777778,
              "#fb9f3a"
             ],
             [
              0.8888888888888888,
              "#fdca26"
             ],
             [
              1,
              "#f0f921"
             ]
            ],
            "type": "contour"
           }
          ],
          "contourcarpet": [
           {
            "colorbar": {
             "outlinewidth": 0,
             "ticks": ""
            },
            "type": "contourcarpet"
           }
          ],
          "heatmap": [
           {
            "colorbar": {
             "outlinewidth": 0,
             "ticks": ""
            },
            "colorscale": [
             [
              0,
              "#0d0887"
             ],
             [
              0.1111111111111111,
              "#46039f"
             ],
             [
              0.2222222222222222,
              "#7201a8"
             ],
             [
              0.3333333333333333,
              "#9c179e"
             ],
             [
              0.4444444444444444,
              "#bd3786"
             ],
             [
              0.5555555555555556,
              "#d8576b"
             ],
             [
              0.6666666666666666,
              "#ed7953"
             ],
             [
              0.7777777777777778,
              "#fb9f3a"
             ],
             [
              0.8888888888888888,
              "#fdca26"
             ],
             [
              1,
              "#f0f921"
             ]
            ],
            "type": "heatmap"
           }
          ],
          "heatmapgl": [
           {
            "colorbar": {
             "outlinewidth": 0,
             "ticks": ""
            },
            "colorscale": [
             [
              0,
              "#0d0887"
             ],
             [
              0.1111111111111111,
              "#46039f"
             ],
             [
              0.2222222222222222,
              "#7201a8"
             ],
             [
              0.3333333333333333,
              "#9c179e"
             ],
             [
              0.4444444444444444,
              "#bd3786"
             ],
             [
              0.5555555555555556,
              "#d8576b"
             ],
             [
              0.6666666666666666,
              "#ed7953"
             ],
             [
              0.7777777777777778,
              "#fb9f3a"
             ],
             [
              0.8888888888888888,
              "#fdca26"
             ],
             [
              1,
              "#f0f921"
             ]
            ],
            "type": "heatmapgl"
           }
          ],
          "histogram": [
           {
            "marker": {
             "colorbar": {
              "outlinewidth": 0,
              "ticks": ""
             }
            },
            "type": "histogram"
           }
          ],
          "histogram2d": [
           {
            "colorbar": {
             "outlinewidth": 0,
             "ticks": ""
            },
            "colorscale": [
             [
              0,
              "#0d0887"
             ],
             [
              0.1111111111111111,
              "#46039f"
             ],
             [
              0.2222222222222222,
              "#7201a8"
             ],
             [
              0.3333333333333333,
              "#9c179e"
             ],
             [
              0.4444444444444444,
              "#bd3786"
             ],
             [
              0.5555555555555556,
              "#d8576b"
             ],
             [
              0.6666666666666666,
              "#ed7953"
             ],
             [
              0.7777777777777778,
              "#fb9f3a"
             ],
             [
              0.8888888888888888,
              "#fdca26"
             ],
             [
              1,
              "#f0f921"
             ]
            ],
            "type": "histogram2d"
           }
          ],
          "histogram2dcontour": [
           {
            "colorbar": {
             "outlinewidth": 0,
             "ticks": ""
            },
            "colorscale": [
             [
              0,
              "#0d0887"
             ],
             [
              0.1111111111111111,
              "#46039f"
             ],
             [
              0.2222222222222222,
              "#7201a8"
             ],
             [
              0.3333333333333333,
              "#9c179e"
             ],
             [
              0.4444444444444444,
              "#bd3786"
             ],
             [
              0.5555555555555556,
              "#d8576b"
             ],
             [
              0.6666666666666666,
              "#ed7953"
             ],
             [
              0.7777777777777778,
              "#fb9f3a"
             ],
             [
              0.8888888888888888,
              "#fdca26"
             ],
             [
              1,
              "#f0f921"
             ]
            ],
            "type": "histogram2dcontour"
           }
          ],
          "mesh3d": [
           {
            "colorbar": {
             "outlinewidth": 0,
             "ticks": ""
            },
            "type": "mesh3d"
           }
          ],
          "parcoords": [
           {
            "line": {
             "colorbar": {
              "outlinewidth": 0,
              "ticks": ""
             }
            },
            "type": "parcoords"
           }
          ],
          "pie": [
           {
            "automargin": true,
            "type": "pie"
           }
          ],
          "scatter": [
           {
            "marker": {
             "colorbar": {
              "outlinewidth": 0,
              "ticks": ""
             }
            },
            "type": "scatter"
           }
          ],
          "scatter3d": [
           {
            "line": {
             "colorbar": {
              "outlinewidth": 0,
              "ticks": ""
             }
            },
            "marker": {
             "colorbar": {
              "outlinewidth": 0,
              "ticks": ""
             }
            },
            "type": "scatter3d"
           }
          ],
          "scattercarpet": [
           {
            "marker": {
             "colorbar": {
              "outlinewidth": 0,
              "ticks": ""
             }
            },
            "type": "scattercarpet"
           }
          ],
          "scattergeo": [
           {
            "marker": {
             "colorbar": {
              "outlinewidth": 0,
              "ticks": ""
             }
            },
            "type": "scattergeo"
           }
          ],
          "scattergl": [
           {
            "marker": {
             "colorbar": {
              "outlinewidth": 0,
              "ticks": ""
             }
            },
            "type": "scattergl"
           }
          ],
          "scattermapbox": [
           {
            "marker": {
             "colorbar": {
              "outlinewidth": 0,
              "ticks": ""
             }
            },
            "type": "scattermapbox"
           }
          ],
          "scatterpolar": [
           {
            "marker": {
             "colorbar": {
              "outlinewidth": 0,
              "ticks": ""
             }
            },
            "type": "scatterpolar"
           }
          ],
          "scatterpolargl": [
           {
            "marker": {
             "colorbar": {
              "outlinewidth": 0,
              "ticks": ""
             }
            },
            "type": "scatterpolargl"
           }
          ],
          "scatterternary": [
           {
            "marker": {
             "colorbar": {
              "outlinewidth": 0,
              "ticks": ""
             }
            },
            "type": "scatterternary"
           }
          ],
          "surface": [
           {
            "colorbar": {
             "outlinewidth": 0,
             "ticks": ""
            },
            "colorscale": [
             [
              0,
              "#0d0887"
             ],
             [
              0.1111111111111111,
              "#46039f"
             ],
             [
              0.2222222222222222,
              "#7201a8"
             ],
             [
              0.3333333333333333,
              "#9c179e"
             ],
             [
              0.4444444444444444,
              "#bd3786"
             ],
             [
              0.5555555555555556,
              "#d8576b"
             ],
             [
              0.6666666666666666,
              "#ed7953"
             ],
             [
              0.7777777777777778,
              "#fb9f3a"
             ],
             [
              0.8888888888888888,
              "#fdca26"
             ],
             [
              1,
              "#f0f921"
             ]
            ],
            "type": "surface"
           }
          ],
          "table": [
           {
            "cells": {
             "fill": {
              "color": "#EBF0F8"
             },
             "line": {
              "color": "white"
             }
            },
            "header": {
             "fill": {
              "color": "#C8D4E3"
             },
             "line": {
              "color": "white"
             }
            },
            "type": "table"
           }
          ]
         },
         "layout": {
          "annotationdefaults": {
           "arrowcolor": "#2a3f5f",
           "arrowhead": 0,
           "arrowwidth": 1
          },
          "coloraxis": {
           "colorbar": {
            "outlinewidth": 0,
            "ticks": ""
           }
          },
          "colorscale": {
           "diverging": [
            [
             0,
             "#8e0152"
            ],
            [
             0.1,
             "#c51b7d"
            ],
            [
             0.2,
             "#de77ae"
            ],
            [
             0.3,
             "#f1b6da"
            ],
            [
             0.4,
             "#fde0ef"
            ],
            [
             0.5,
             "#f7f7f7"
            ],
            [
             0.6,
             "#e6f5d0"
            ],
            [
             0.7,
             "#b8e186"
            ],
            [
             0.8,
             "#7fbc41"
            ],
            [
             0.9,
             "#4d9221"
            ],
            [
             1,
             "#276419"
            ]
           ],
           "sequential": [
            [
             0,
             "#0d0887"
            ],
            [
             0.1111111111111111,
             "#46039f"
            ],
            [
             0.2222222222222222,
             "#7201a8"
            ],
            [
             0.3333333333333333,
             "#9c179e"
            ],
            [
             0.4444444444444444,
             "#bd3786"
            ],
            [
             0.5555555555555556,
             "#d8576b"
            ],
            [
             0.6666666666666666,
             "#ed7953"
            ],
            [
             0.7777777777777778,
             "#fb9f3a"
            ],
            [
             0.8888888888888888,
             "#fdca26"
            ],
            [
             1,
             "#f0f921"
            ]
           ],
           "sequentialminus": [
            [
             0,
             "#0d0887"
            ],
            [
             0.1111111111111111,
             "#46039f"
            ],
            [
             0.2222222222222222,
             "#7201a8"
            ],
            [
             0.3333333333333333,
             "#9c179e"
            ],
            [
             0.4444444444444444,
             "#bd3786"
            ],
            [
             0.5555555555555556,
             "#d8576b"
            ],
            [
             0.6666666666666666,
             "#ed7953"
            ],
            [
             0.7777777777777778,
             "#fb9f3a"
            ],
            [
             0.8888888888888888,
             "#fdca26"
            ],
            [
             1,
             "#f0f921"
            ]
           ]
          },
          "colorway": [
           "#636efa",
           "#EF553B",
           "#00cc96",
           "#ab63fa",
           "#FFA15A",
           "#19d3f3",
           "#FF6692",
           "#B6E880",
           "#FF97FF",
           "#FECB52"
          ],
          "font": {
           "color": "#2a3f5f"
          },
          "geo": {
           "bgcolor": "white",
           "lakecolor": "white",
           "landcolor": "#E5ECF6",
           "showlakes": true,
           "showland": true,
           "subunitcolor": "white"
          },
          "hoverlabel": {
           "align": "left"
          },
          "hovermode": "closest",
          "mapbox": {
           "style": "light"
          },
          "paper_bgcolor": "white",
          "plot_bgcolor": "#E5ECF6",
          "polar": {
           "angularaxis": {
            "gridcolor": "white",
            "linecolor": "white",
            "ticks": ""
           },
           "bgcolor": "#E5ECF6",
           "radialaxis": {
            "gridcolor": "white",
            "linecolor": "white",
            "ticks": ""
           }
          },
          "scene": {
           "xaxis": {
            "backgroundcolor": "#E5ECF6",
            "gridcolor": "white",
            "gridwidth": 2,
            "linecolor": "white",
            "showbackground": true,
            "ticks": "",
            "zerolinecolor": "white"
           },
           "yaxis": {
            "backgroundcolor": "#E5ECF6",
            "gridcolor": "white",
            "gridwidth": 2,
            "linecolor": "white",
            "showbackground": true,
            "ticks": "",
            "zerolinecolor": "white"
           },
           "zaxis": {
            "backgroundcolor": "#E5ECF6",
            "gridcolor": "white",
            "gridwidth": 2,
            "linecolor": "white",
            "showbackground": true,
            "ticks": "",
            "zerolinecolor": "white"
           }
          },
          "shapedefaults": {
           "line": {
            "color": "#2a3f5f"
           }
          },
          "ternary": {
           "aaxis": {
            "gridcolor": "white",
            "linecolor": "white",
            "ticks": ""
           },
           "baxis": {
            "gridcolor": "white",
            "linecolor": "white",
            "ticks": ""
           },
           "bgcolor": "#E5ECF6",
           "caxis": {
            "gridcolor": "white",
            "linecolor": "white",
            "ticks": ""
           }
          },
          "title": {
           "x": 0.05
          },
          "xaxis": {
           "automargin": true,
           "gridcolor": "white",
           "linecolor": "white",
           "ticks": "",
           "title": {
            "standoff": 15
           },
           "zerolinecolor": "white",
           "zerolinewidth": 2
          },
          "yaxis": {
           "automargin": true,
           "gridcolor": "white",
           "linecolor": "white",
           "ticks": "",
           "title": {
            "standoff": 15
           },
           "zerolinecolor": "white",
           "zerolinewidth": 2
          }
         }
        }
       }
      },
      "text/html": [
       "<div>\n",
       "        \n",
       "        \n",
       "            <div id=\"286a7955-74d8-4e76-bdac-78b56b0744be\" class=\"plotly-graph-div\" style=\"height:525px; width:100%;\"></div>\n",
       "            <script type=\"text/javascript\">\n",
       "                require([\"plotly\"], function(Plotly) {\n",
       "                    window.PLOTLYENV=window.PLOTLYENV || {};\n",
       "                    \n",
       "                if (document.getElementById(\"286a7955-74d8-4e76-bdac-78b56b0744be\")) {\n",
       "                    Plotly.newPlot(\n",
       "                        '286a7955-74d8-4e76-bdac-78b56b0744be',\n",
       "                        [{\"mode\": \"markers\", \"type\": \"scatter\", \"x\": [15, 18, 21, 25], \"y\": [100, 400, 300, 200]}],\n",
       "                        {\"template\": {\"data\": {\"bar\": [{\"error_x\": {\"color\": \"#2a3f5f\"}, \"error_y\": {\"color\": \"#2a3f5f\"}, \"marker\": {\"line\": {\"color\": \"#E5ECF6\", \"width\": 0.5}}, \"type\": \"bar\"}], \"barpolar\": [{\"marker\": {\"line\": {\"color\": \"#E5ECF6\", \"width\": 0.5}}, \"type\": \"barpolar\"}], \"carpet\": [{\"aaxis\": {\"endlinecolor\": \"#2a3f5f\", \"gridcolor\": \"white\", \"linecolor\": \"white\", \"minorgridcolor\": \"white\", \"startlinecolor\": \"#2a3f5f\"}, \"baxis\": {\"endlinecolor\": \"#2a3f5f\", \"gridcolor\": \"white\", \"linecolor\": \"white\", \"minorgridcolor\": \"white\", \"startlinecolor\": \"#2a3f5f\"}, \"type\": \"carpet\"}], \"choropleth\": [{\"colorbar\": {\"outlinewidth\": 0, \"ticks\": \"\"}, \"type\": \"choropleth\"}], \"contour\": [{\"colorbar\": {\"outlinewidth\": 0, \"ticks\": \"\"}, \"colorscale\": [[0.0, \"#0d0887\"], [0.1111111111111111, \"#46039f\"], [0.2222222222222222, \"#7201a8\"], [0.3333333333333333, \"#9c179e\"], [0.4444444444444444, \"#bd3786\"], [0.5555555555555556, \"#d8576b\"], [0.6666666666666666, \"#ed7953\"], [0.7777777777777778, \"#fb9f3a\"], [0.8888888888888888, \"#fdca26\"], [1.0, \"#f0f921\"]], \"type\": \"contour\"}], \"contourcarpet\": [{\"colorbar\": {\"outlinewidth\": 0, \"ticks\": \"\"}, \"type\": \"contourcarpet\"}], \"heatmap\": [{\"colorbar\": {\"outlinewidth\": 0, \"ticks\": \"\"}, \"colorscale\": [[0.0, \"#0d0887\"], [0.1111111111111111, \"#46039f\"], [0.2222222222222222, \"#7201a8\"], [0.3333333333333333, \"#9c179e\"], [0.4444444444444444, \"#bd3786\"], [0.5555555555555556, \"#d8576b\"], [0.6666666666666666, \"#ed7953\"], [0.7777777777777778, \"#fb9f3a\"], [0.8888888888888888, \"#fdca26\"], [1.0, \"#f0f921\"]], \"type\": \"heatmap\"}], \"heatmapgl\": [{\"colorbar\": {\"outlinewidth\": 0, \"ticks\": \"\"}, \"colorscale\": [[0.0, \"#0d0887\"], [0.1111111111111111, \"#46039f\"], [0.2222222222222222, \"#7201a8\"], [0.3333333333333333, \"#9c179e\"], [0.4444444444444444, \"#bd3786\"], [0.5555555555555556, \"#d8576b\"], [0.6666666666666666, \"#ed7953\"], [0.7777777777777778, \"#fb9f3a\"], [0.8888888888888888, \"#fdca26\"], [1.0, \"#f0f921\"]], \"type\": \"heatmapgl\"}], \"histogram\": [{\"marker\": {\"colorbar\": {\"outlinewidth\": 0, \"ticks\": \"\"}}, \"type\": \"histogram\"}], \"histogram2d\": [{\"colorbar\": {\"outlinewidth\": 0, \"ticks\": \"\"}, \"colorscale\": [[0.0, \"#0d0887\"], [0.1111111111111111, \"#46039f\"], [0.2222222222222222, \"#7201a8\"], [0.3333333333333333, \"#9c179e\"], [0.4444444444444444, \"#bd3786\"], [0.5555555555555556, \"#d8576b\"], [0.6666666666666666, \"#ed7953\"], [0.7777777777777778, \"#fb9f3a\"], [0.8888888888888888, \"#fdca26\"], [1.0, \"#f0f921\"]], \"type\": \"histogram2d\"}], \"histogram2dcontour\": [{\"colorbar\": {\"outlinewidth\": 0, \"ticks\": \"\"}, \"colorscale\": [[0.0, \"#0d0887\"], [0.1111111111111111, \"#46039f\"], [0.2222222222222222, \"#7201a8\"], [0.3333333333333333, \"#9c179e\"], [0.4444444444444444, \"#bd3786\"], [0.5555555555555556, \"#d8576b\"], [0.6666666666666666, \"#ed7953\"], [0.7777777777777778, \"#fb9f3a\"], [0.8888888888888888, \"#fdca26\"], [1.0, \"#f0f921\"]], \"type\": \"histogram2dcontour\"}], \"mesh3d\": [{\"colorbar\": {\"outlinewidth\": 0, \"ticks\": \"\"}, \"type\": \"mesh3d\"}], \"parcoords\": [{\"line\": {\"colorbar\": {\"outlinewidth\": 0, \"ticks\": \"\"}}, \"type\": \"parcoords\"}], \"pie\": [{\"automargin\": true, \"type\": \"pie\"}], \"scatter\": [{\"marker\": {\"colorbar\": {\"outlinewidth\": 0, \"ticks\": \"\"}}, \"type\": \"scatter\"}], \"scatter3d\": [{\"line\": {\"colorbar\": {\"outlinewidth\": 0, \"ticks\": \"\"}}, \"marker\": {\"colorbar\": {\"outlinewidth\": 0, \"ticks\": \"\"}}, \"type\": \"scatter3d\"}], \"scattercarpet\": [{\"marker\": {\"colorbar\": {\"outlinewidth\": 0, \"ticks\": \"\"}}, \"type\": \"scattercarpet\"}], \"scattergeo\": [{\"marker\": {\"colorbar\": {\"outlinewidth\": 0, \"ticks\": \"\"}}, \"type\": \"scattergeo\"}], \"scattergl\": [{\"marker\": {\"colorbar\": {\"outlinewidth\": 0, \"ticks\": \"\"}}, \"type\": \"scattergl\"}], \"scattermapbox\": [{\"marker\": {\"colorbar\": {\"outlinewidth\": 0, \"ticks\": \"\"}}, \"type\": \"scattermapbox\"}], \"scatterpolar\": [{\"marker\": {\"colorbar\": {\"outlinewidth\": 0, \"ticks\": \"\"}}, \"type\": \"scatterpolar\"}], \"scatterpolargl\": [{\"marker\": {\"colorbar\": {\"outlinewidth\": 0, \"ticks\": \"\"}}, \"type\": \"scatterpolargl\"}], \"scatterternary\": [{\"marker\": {\"colorbar\": {\"outlinewidth\": 0, \"ticks\": \"\"}}, \"type\": \"scatterternary\"}], \"surface\": [{\"colorbar\": {\"outlinewidth\": 0, \"ticks\": \"\"}, \"colorscale\": [[0.0, \"#0d0887\"], [0.1111111111111111, \"#46039f\"], [0.2222222222222222, \"#7201a8\"], [0.3333333333333333, \"#9c179e\"], [0.4444444444444444, \"#bd3786\"], [0.5555555555555556, \"#d8576b\"], [0.6666666666666666, \"#ed7953\"], [0.7777777777777778, \"#fb9f3a\"], [0.8888888888888888, \"#fdca26\"], [1.0, \"#f0f921\"]], \"type\": \"surface\"}], \"table\": [{\"cells\": {\"fill\": {\"color\": \"#EBF0F8\"}, \"line\": {\"color\": \"white\"}}, \"header\": {\"fill\": {\"color\": \"#C8D4E3\"}, \"line\": {\"color\": \"white\"}}, \"type\": \"table\"}]}, \"layout\": {\"annotationdefaults\": {\"arrowcolor\": \"#2a3f5f\", \"arrowhead\": 0, \"arrowwidth\": 1}, \"coloraxis\": {\"colorbar\": {\"outlinewidth\": 0, \"ticks\": \"\"}}, \"colorscale\": {\"diverging\": [[0, \"#8e0152\"], [0.1, \"#c51b7d\"], [0.2, \"#de77ae\"], [0.3, \"#f1b6da\"], [0.4, \"#fde0ef\"], [0.5, \"#f7f7f7\"], [0.6, \"#e6f5d0\"], [0.7, \"#b8e186\"], [0.8, \"#7fbc41\"], [0.9, \"#4d9221\"], [1, \"#276419\"]], \"sequential\": [[0.0, \"#0d0887\"], [0.1111111111111111, \"#46039f\"], [0.2222222222222222, \"#7201a8\"], [0.3333333333333333, \"#9c179e\"], [0.4444444444444444, \"#bd3786\"], [0.5555555555555556, \"#d8576b\"], [0.6666666666666666, \"#ed7953\"], [0.7777777777777778, \"#fb9f3a\"], [0.8888888888888888, \"#fdca26\"], [1.0, \"#f0f921\"]], \"sequentialminus\": [[0.0, \"#0d0887\"], [0.1111111111111111, \"#46039f\"], [0.2222222222222222, \"#7201a8\"], [0.3333333333333333, \"#9c179e\"], [0.4444444444444444, \"#bd3786\"], [0.5555555555555556, \"#d8576b\"], [0.6666666666666666, \"#ed7953\"], [0.7777777777777778, \"#fb9f3a\"], [0.8888888888888888, \"#fdca26\"], [1.0, \"#f0f921\"]]}, \"colorway\": [\"#636efa\", \"#EF553B\", \"#00cc96\", \"#ab63fa\", \"#FFA15A\", \"#19d3f3\", \"#FF6692\", \"#B6E880\", \"#FF97FF\", \"#FECB52\"], \"font\": {\"color\": \"#2a3f5f\"}, \"geo\": {\"bgcolor\": \"white\", \"lakecolor\": \"white\", \"landcolor\": \"#E5ECF6\", \"showlakes\": true, \"showland\": true, \"subunitcolor\": \"white\"}, \"hoverlabel\": {\"align\": \"left\"}, \"hovermode\": \"closest\", \"mapbox\": {\"style\": \"light\"}, \"paper_bgcolor\": \"white\", \"plot_bgcolor\": \"#E5ECF6\", \"polar\": {\"angularaxis\": {\"gridcolor\": \"white\", \"linecolor\": \"white\", \"ticks\": \"\"}, \"bgcolor\": \"#E5ECF6\", \"radialaxis\": {\"gridcolor\": \"white\", \"linecolor\": \"white\", \"ticks\": \"\"}}, \"scene\": {\"xaxis\": {\"backgroundcolor\": \"#E5ECF6\", \"gridcolor\": \"white\", \"gridwidth\": 2, \"linecolor\": \"white\", \"showbackground\": true, \"ticks\": \"\", \"zerolinecolor\": \"white\"}, \"yaxis\": {\"backgroundcolor\": \"#E5ECF6\", \"gridcolor\": \"white\", \"gridwidth\": 2, \"linecolor\": \"white\", \"showbackground\": true, \"ticks\": \"\", \"zerolinecolor\": \"white\"}, \"zaxis\": {\"backgroundcolor\": \"#E5ECF6\", \"gridcolor\": \"white\", \"gridwidth\": 2, \"linecolor\": \"white\", \"showbackground\": true, \"ticks\": \"\", \"zerolinecolor\": \"white\"}}, \"shapedefaults\": {\"line\": {\"color\": \"#2a3f5f\"}}, \"ternary\": {\"aaxis\": {\"gridcolor\": \"white\", \"linecolor\": \"white\", \"ticks\": \"\"}, \"baxis\": {\"gridcolor\": \"white\", \"linecolor\": \"white\", \"ticks\": \"\"}, \"bgcolor\": \"#E5ECF6\", \"caxis\": {\"gridcolor\": \"white\", \"linecolor\": \"white\", \"ticks\": \"\"}}, \"title\": {\"x\": 0.05}, \"xaxis\": {\"automargin\": true, \"gridcolor\": \"white\", \"linecolor\": \"white\", \"ticks\": \"\", \"title\": {\"standoff\": 15}, \"zerolinecolor\": \"white\", \"zerolinewidth\": 2}, \"yaxis\": {\"automargin\": true, \"gridcolor\": \"white\", \"linecolor\": \"white\", \"ticks\": \"\", \"title\": {\"standoff\": 15}, \"zerolinecolor\": \"white\", \"zerolinewidth\": 2}}}},\n",
       "                        {\"responsive\": true}\n",
       "                    ).then(function(){\n",
       "                            \n",
       "var gd = document.getElementById('286a7955-74d8-4e76-bdac-78b56b0744be');\n",
       "var x = new MutationObserver(function (mutations, observer) {{\n",
       "        var display = window.getComputedStyle(gd).display;\n",
       "        if (!display || display === 'none') {{\n",
       "            console.log([gd, 'removed!']);\n",
       "            Plotly.purge(gd);\n",
       "            observer.disconnect();\n",
       "        }}\n",
       "}});\n",
       "\n",
       "// Listen for the removal of the full notebook cells\n",
       "var notebookContainer = gd.closest('#notebook-container');\n",
       "if (notebookContainer) {{\n",
       "    x.observe(notebookContainer, {childList: true});\n",
       "}}\n",
       "\n",
       "// Listen for the clearing of the current output cell\n",
       "var outputEl = gd.closest('.output');\n",
       "if (outputEl) {{\n",
       "    x.observe(outputEl, {childList: true});\n",
       "}}\n",
       "\n",
       "                        })\n",
       "                };\n",
       "                });\n",
       "            </script>\n",
       "        </div>"
      ]
     },
     "metadata": {},
     "output_type": "display_data"
    }
   ],
   "source": [
    "trace = go.Scatter (x = [15, 18, 21, 25],\n",
    "                    \n",
    "                    y = [100, 400, 300, 200],\n",
    "                    \n",
    "                    mode = 'markers')\n",
    "\n",
    "data = [trace]\n",
    "\n",
    "offline.iplot(data)"
   ]
  },
  {
   "cell_type": "markdown",
   "metadata": {},
   "source": [
    "#### Representing a 3rd dimension of data in the same scatter plot"
   ]
  },
  {
   "cell_type": "code",
   "execution_count": 3,
   "metadata": {},
   "outputs": [],
   "source": [
    "z = [25, 100, 75, 50]"
   ]
  },
  {
   "cell_type": "code",
   "execution_count": 4,
   "metadata": {},
   "outputs": [
    {
     "data": {
      "application/vnd.plotly.v1+json": {
       "config": {
        "linkText": "Export to plot.ly",
        "plotlyServerURL": "https://plot.ly",
        "showLink": false
       },
       "data": [
        {
         "marker": {
          "size": [
           25,
           100,
           75,
           50
          ]
         },
         "mode": "markers",
         "type": "scatter",
         "x": [
          15,
          18,
          21,
          25
         ],
         "y": [
          100,
          400,
          300,
          200
         ]
        }
       ],
       "layout": {
        "template": {
         "data": {
          "bar": [
           {
            "error_x": {
             "color": "#2a3f5f"
            },
            "error_y": {
             "color": "#2a3f5f"
            },
            "marker": {
             "line": {
              "color": "#E5ECF6",
              "width": 0.5
             }
            },
            "type": "bar"
           }
          ],
          "barpolar": [
           {
            "marker": {
             "line": {
              "color": "#E5ECF6",
              "width": 0.5
             }
            },
            "type": "barpolar"
           }
          ],
          "carpet": [
           {
            "aaxis": {
             "endlinecolor": "#2a3f5f",
             "gridcolor": "white",
             "linecolor": "white",
             "minorgridcolor": "white",
             "startlinecolor": "#2a3f5f"
            },
            "baxis": {
             "endlinecolor": "#2a3f5f",
             "gridcolor": "white",
             "linecolor": "white",
             "minorgridcolor": "white",
             "startlinecolor": "#2a3f5f"
            },
            "type": "carpet"
           }
          ],
          "choropleth": [
           {
            "colorbar": {
             "outlinewidth": 0,
             "ticks": ""
            },
            "type": "choropleth"
           }
          ],
          "contour": [
           {
            "colorbar": {
             "outlinewidth": 0,
             "ticks": ""
            },
            "colorscale": [
             [
              0,
              "#0d0887"
             ],
             [
              0.1111111111111111,
              "#46039f"
             ],
             [
              0.2222222222222222,
              "#7201a8"
             ],
             [
              0.3333333333333333,
              "#9c179e"
             ],
             [
              0.4444444444444444,
              "#bd3786"
             ],
             [
              0.5555555555555556,
              "#d8576b"
             ],
             [
              0.6666666666666666,
              "#ed7953"
             ],
             [
              0.7777777777777778,
              "#fb9f3a"
             ],
             [
              0.8888888888888888,
              "#fdca26"
             ],
             [
              1,
              "#f0f921"
             ]
            ],
            "type": "contour"
           }
          ],
          "contourcarpet": [
           {
            "colorbar": {
             "outlinewidth": 0,
             "ticks": ""
            },
            "type": "contourcarpet"
           }
          ],
          "heatmap": [
           {
            "colorbar": {
             "outlinewidth": 0,
             "ticks": ""
            },
            "colorscale": [
             [
              0,
              "#0d0887"
             ],
             [
              0.1111111111111111,
              "#46039f"
             ],
             [
              0.2222222222222222,
              "#7201a8"
             ],
             [
              0.3333333333333333,
              "#9c179e"
             ],
             [
              0.4444444444444444,
              "#bd3786"
             ],
             [
              0.5555555555555556,
              "#d8576b"
             ],
             [
              0.6666666666666666,
              "#ed7953"
             ],
             [
              0.7777777777777778,
              "#fb9f3a"
             ],
             [
              0.8888888888888888,
              "#fdca26"
             ],
             [
              1,
              "#f0f921"
             ]
            ],
            "type": "heatmap"
           }
          ],
          "heatmapgl": [
           {
            "colorbar": {
             "outlinewidth": 0,
             "ticks": ""
            },
            "colorscale": [
             [
              0,
              "#0d0887"
             ],
             [
              0.1111111111111111,
              "#46039f"
             ],
             [
              0.2222222222222222,
              "#7201a8"
             ],
             [
              0.3333333333333333,
              "#9c179e"
             ],
             [
              0.4444444444444444,
              "#bd3786"
             ],
             [
              0.5555555555555556,
              "#d8576b"
             ],
             [
              0.6666666666666666,
              "#ed7953"
             ],
             [
              0.7777777777777778,
              "#fb9f3a"
             ],
             [
              0.8888888888888888,
              "#fdca26"
             ],
             [
              1,
              "#f0f921"
             ]
            ],
            "type": "heatmapgl"
           }
          ],
          "histogram": [
           {
            "marker": {
             "colorbar": {
              "outlinewidth": 0,
              "ticks": ""
             }
            },
            "type": "histogram"
           }
          ],
          "histogram2d": [
           {
            "colorbar": {
             "outlinewidth": 0,
             "ticks": ""
            },
            "colorscale": [
             [
              0,
              "#0d0887"
             ],
             [
              0.1111111111111111,
              "#46039f"
             ],
             [
              0.2222222222222222,
              "#7201a8"
             ],
             [
              0.3333333333333333,
              "#9c179e"
             ],
             [
              0.4444444444444444,
              "#bd3786"
             ],
             [
              0.5555555555555556,
              "#d8576b"
             ],
             [
              0.6666666666666666,
              "#ed7953"
             ],
             [
              0.7777777777777778,
              "#fb9f3a"
             ],
             [
              0.8888888888888888,
              "#fdca26"
             ],
             [
              1,
              "#f0f921"
             ]
            ],
            "type": "histogram2d"
           }
          ],
          "histogram2dcontour": [
           {
            "colorbar": {
             "outlinewidth": 0,
             "ticks": ""
            },
            "colorscale": [
             [
              0,
              "#0d0887"
             ],
             [
              0.1111111111111111,
              "#46039f"
             ],
             [
              0.2222222222222222,
              "#7201a8"
             ],
             [
              0.3333333333333333,
              "#9c179e"
             ],
             [
              0.4444444444444444,
              "#bd3786"
             ],
             [
              0.5555555555555556,
              "#d8576b"
             ],
             [
              0.6666666666666666,
              "#ed7953"
             ],
             [
              0.7777777777777778,
              "#fb9f3a"
             ],
             [
              0.8888888888888888,
              "#fdca26"
             ],
             [
              1,
              "#f0f921"
             ]
            ],
            "type": "histogram2dcontour"
           }
          ],
          "mesh3d": [
           {
            "colorbar": {
             "outlinewidth": 0,
             "ticks": ""
            },
            "type": "mesh3d"
           }
          ],
          "parcoords": [
           {
            "line": {
             "colorbar": {
              "outlinewidth": 0,
              "ticks": ""
             }
            },
            "type": "parcoords"
           }
          ],
          "pie": [
           {
            "automargin": true,
            "type": "pie"
           }
          ],
          "scatter": [
           {
            "marker": {
             "colorbar": {
              "outlinewidth": 0,
              "ticks": ""
             }
            },
            "type": "scatter"
           }
          ],
          "scatter3d": [
           {
            "line": {
             "colorbar": {
              "outlinewidth": 0,
              "ticks": ""
             }
            },
            "marker": {
             "colorbar": {
              "outlinewidth": 0,
              "ticks": ""
             }
            },
            "type": "scatter3d"
           }
          ],
          "scattercarpet": [
           {
            "marker": {
             "colorbar": {
              "outlinewidth": 0,
              "ticks": ""
             }
            },
            "type": "scattercarpet"
           }
          ],
          "scattergeo": [
           {
            "marker": {
             "colorbar": {
              "outlinewidth": 0,
              "ticks": ""
             }
            },
            "type": "scattergeo"
           }
          ],
          "scattergl": [
           {
            "marker": {
             "colorbar": {
              "outlinewidth": 0,
              "ticks": ""
             }
            },
            "type": "scattergl"
           }
          ],
          "scattermapbox": [
           {
            "marker": {
             "colorbar": {
              "outlinewidth": 0,
              "ticks": ""
             }
            },
            "type": "scattermapbox"
           }
          ],
          "scatterpolar": [
           {
            "marker": {
             "colorbar": {
              "outlinewidth": 0,
              "ticks": ""
             }
            },
            "type": "scatterpolar"
           }
          ],
          "scatterpolargl": [
           {
            "marker": {
             "colorbar": {
              "outlinewidth": 0,
              "ticks": ""
             }
            },
            "type": "scatterpolargl"
           }
          ],
          "scatterternary": [
           {
            "marker": {
             "colorbar": {
              "outlinewidth": 0,
              "ticks": ""
             }
            },
            "type": "scatterternary"
           }
          ],
          "surface": [
           {
            "colorbar": {
             "outlinewidth": 0,
             "ticks": ""
            },
            "colorscale": [
             [
              0,
              "#0d0887"
             ],
             [
              0.1111111111111111,
              "#46039f"
             ],
             [
              0.2222222222222222,
              "#7201a8"
             ],
             [
              0.3333333333333333,
              "#9c179e"
             ],
             [
              0.4444444444444444,
              "#bd3786"
             ],
             [
              0.5555555555555556,
              "#d8576b"
             ],
             [
              0.6666666666666666,
              "#ed7953"
             ],
             [
              0.7777777777777778,
              "#fb9f3a"
             ],
             [
              0.8888888888888888,
              "#fdca26"
             ],
             [
              1,
              "#f0f921"
             ]
            ],
            "type": "surface"
           }
          ],
          "table": [
           {
            "cells": {
             "fill": {
              "color": "#EBF0F8"
             },
             "line": {
              "color": "white"
             }
            },
            "header": {
             "fill": {
              "color": "#C8D4E3"
             },
             "line": {
              "color": "white"
             }
            },
            "type": "table"
           }
          ]
         },
         "layout": {
          "annotationdefaults": {
           "arrowcolor": "#2a3f5f",
           "arrowhead": 0,
           "arrowwidth": 1
          },
          "coloraxis": {
           "colorbar": {
            "outlinewidth": 0,
            "ticks": ""
           }
          },
          "colorscale": {
           "diverging": [
            [
             0,
             "#8e0152"
            ],
            [
             0.1,
             "#c51b7d"
            ],
            [
             0.2,
             "#de77ae"
            ],
            [
             0.3,
             "#f1b6da"
            ],
            [
             0.4,
             "#fde0ef"
            ],
            [
             0.5,
             "#f7f7f7"
            ],
            [
             0.6,
             "#e6f5d0"
            ],
            [
             0.7,
             "#b8e186"
            ],
            [
             0.8,
             "#7fbc41"
            ],
            [
             0.9,
             "#4d9221"
            ],
            [
             1,
             "#276419"
            ]
           ],
           "sequential": [
            [
             0,
             "#0d0887"
            ],
            [
             0.1111111111111111,
             "#46039f"
            ],
            [
             0.2222222222222222,
             "#7201a8"
            ],
            [
             0.3333333333333333,
             "#9c179e"
            ],
            [
             0.4444444444444444,
             "#bd3786"
            ],
            [
             0.5555555555555556,
             "#d8576b"
            ],
            [
             0.6666666666666666,
             "#ed7953"
            ],
            [
             0.7777777777777778,
             "#fb9f3a"
            ],
            [
             0.8888888888888888,
             "#fdca26"
            ],
            [
             1,
             "#f0f921"
            ]
           ],
           "sequentialminus": [
            [
             0,
             "#0d0887"
            ],
            [
             0.1111111111111111,
             "#46039f"
            ],
            [
             0.2222222222222222,
             "#7201a8"
            ],
            [
             0.3333333333333333,
             "#9c179e"
            ],
            [
             0.4444444444444444,
             "#bd3786"
            ],
            [
             0.5555555555555556,
             "#d8576b"
            ],
            [
             0.6666666666666666,
             "#ed7953"
            ],
            [
             0.7777777777777778,
             "#fb9f3a"
            ],
            [
             0.8888888888888888,
             "#fdca26"
            ],
            [
             1,
             "#f0f921"
            ]
           ]
          },
          "colorway": [
           "#636efa",
           "#EF553B",
           "#00cc96",
           "#ab63fa",
           "#FFA15A",
           "#19d3f3",
           "#FF6692",
           "#B6E880",
           "#FF97FF",
           "#FECB52"
          ],
          "font": {
           "color": "#2a3f5f"
          },
          "geo": {
           "bgcolor": "white",
           "lakecolor": "white",
           "landcolor": "#E5ECF6",
           "showlakes": true,
           "showland": true,
           "subunitcolor": "white"
          },
          "hoverlabel": {
           "align": "left"
          },
          "hovermode": "closest",
          "mapbox": {
           "style": "light"
          },
          "paper_bgcolor": "white",
          "plot_bgcolor": "#E5ECF6",
          "polar": {
           "angularaxis": {
            "gridcolor": "white",
            "linecolor": "white",
            "ticks": ""
           },
           "bgcolor": "#E5ECF6",
           "radialaxis": {
            "gridcolor": "white",
            "linecolor": "white",
            "ticks": ""
           }
          },
          "scene": {
           "xaxis": {
            "backgroundcolor": "#E5ECF6",
            "gridcolor": "white",
            "gridwidth": 2,
            "linecolor": "white",
            "showbackground": true,
            "ticks": "",
            "zerolinecolor": "white"
           },
           "yaxis": {
            "backgroundcolor": "#E5ECF6",
            "gridcolor": "white",
            "gridwidth": 2,
            "linecolor": "white",
            "showbackground": true,
            "ticks": "",
            "zerolinecolor": "white"
           },
           "zaxis": {
            "backgroundcolor": "#E5ECF6",
            "gridcolor": "white",
            "gridwidth": 2,
            "linecolor": "white",
            "showbackground": true,
            "ticks": "",
            "zerolinecolor": "white"
           }
          },
          "shapedefaults": {
           "line": {
            "color": "#2a3f5f"
           }
          },
          "ternary": {
           "aaxis": {
            "gridcolor": "white",
            "linecolor": "white",
            "ticks": ""
           },
           "baxis": {
            "gridcolor": "white",
            "linecolor": "white",
            "ticks": ""
           },
           "bgcolor": "#E5ECF6",
           "caxis": {
            "gridcolor": "white",
            "linecolor": "white",
            "ticks": ""
           }
          },
          "title": {
           "x": 0.05
          },
          "xaxis": {
           "automargin": true,
           "gridcolor": "white",
           "linecolor": "white",
           "ticks": "",
           "title": {
            "standoff": 15
           },
           "zerolinecolor": "white",
           "zerolinewidth": 2
          },
          "yaxis": {
           "automargin": true,
           "gridcolor": "white",
           "linecolor": "white",
           "ticks": "",
           "title": {
            "standoff": 15
           },
           "zerolinecolor": "white",
           "zerolinewidth": 2
          }
         }
        }
       }
      },
      "text/html": [
       "<div>\n",
       "        \n",
       "        \n",
       "            <div id=\"12196d59-b222-405e-8132-a5be4eee0c56\" class=\"plotly-graph-div\" style=\"height:525px; width:100%;\"></div>\n",
       "            <script type=\"text/javascript\">\n",
       "                require([\"plotly\"], function(Plotly) {\n",
       "                    window.PLOTLYENV=window.PLOTLYENV || {};\n",
       "                    \n",
       "                if (document.getElementById(\"12196d59-b222-405e-8132-a5be4eee0c56\")) {\n",
       "                    Plotly.newPlot(\n",
       "                        '12196d59-b222-405e-8132-a5be4eee0c56',\n",
       "                        [{\"marker\": {\"size\": [25, 100, 75, 50]}, \"mode\": \"markers\", \"type\": \"scatter\", \"x\": [15, 18, 21, 25], \"y\": [100, 400, 300, 200]}],\n",
       "                        {\"template\": {\"data\": {\"bar\": [{\"error_x\": {\"color\": \"#2a3f5f\"}, \"error_y\": {\"color\": \"#2a3f5f\"}, \"marker\": {\"line\": {\"color\": \"#E5ECF6\", \"width\": 0.5}}, \"type\": \"bar\"}], \"barpolar\": [{\"marker\": {\"line\": {\"color\": \"#E5ECF6\", \"width\": 0.5}}, \"type\": \"barpolar\"}], \"carpet\": [{\"aaxis\": {\"endlinecolor\": \"#2a3f5f\", \"gridcolor\": \"white\", \"linecolor\": \"white\", \"minorgridcolor\": \"white\", \"startlinecolor\": \"#2a3f5f\"}, \"baxis\": {\"endlinecolor\": \"#2a3f5f\", \"gridcolor\": \"white\", \"linecolor\": \"white\", \"minorgridcolor\": \"white\", \"startlinecolor\": \"#2a3f5f\"}, \"type\": \"carpet\"}], \"choropleth\": [{\"colorbar\": {\"outlinewidth\": 0, \"ticks\": \"\"}, \"type\": \"choropleth\"}], \"contour\": [{\"colorbar\": {\"outlinewidth\": 0, \"ticks\": \"\"}, \"colorscale\": [[0.0, \"#0d0887\"], [0.1111111111111111, \"#46039f\"], [0.2222222222222222, \"#7201a8\"], [0.3333333333333333, \"#9c179e\"], [0.4444444444444444, \"#bd3786\"], [0.5555555555555556, \"#d8576b\"], [0.6666666666666666, \"#ed7953\"], [0.7777777777777778, \"#fb9f3a\"], [0.8888888888888888, \"#fdca26\"], [1.0, \"#f0f921\"]], \"type\": \"contour\"}], \"contourcarpet\": [{\"colorbar\": {\"outlinewidth\": 0, \"ticks\": \"\"}, \"type\": \"contourcarpet\"}], \"heatmap\": [{\"colorbar\": {\"outlinewidth\": 0, \"ticks\": \"\"}, \"colorscale\": [[0.0, \"#0d0887\"], [0.1111111111111111, \"#46039f\"], [0.2222222222222222, \"#7201a8\"], [0.3333333333333333, \"#9c179e\"], [0.4444444444444444, \"#bd3786\"], [0.5555555555555556, \"#d8576b\"], [0.6666666666666666, \"#ed7953\"], [0.7777777777777778, \"#fb9f3a\"], [0.8888888888888888, \"#fdca26\"], [1.0, \"#f0f921\"]], \"type\": \"heatmap\"}], \"heatmapgl\": [{\"colorbar\": {\"outlinewidth\": 0, \"ticks\": \"\"}, \"colorscale\": [[0.0, \"#0d0887\"], [0.1111111111111111, \"#46039f\"], [0.2222222222222222, \"#7201a8\"], [0.3333333333333333, \"#9c179e\"], [0.4444444444444444, \"#bd3786\"], [0.5555555555555556, \"#d8576b\"], [0.6666666666666666, \"#ed7953\"], [0.7777777777777778, \"#fb9f3a\"], [0.8888888888888888, \"#fdca26\"], [1.0, \"#f0f921\"]], \"type\": \"heatmapgl\"}], \"histogram\": [{\"marker\": {\"colorbar\": {\"outlinewidth\": 0, \"ticks\": \"\"}}, \"type\": \"histogram\"}], \"histogram2d\": [{\"colorbar\": {\"outlinewidth\": 0, \"ticks\": \"\"}, \"colorscale\": [[0.0, \"#0d0887\"], [0.1111111111111111, \"#46039f\"], [0.2222222222222222, \"#7201a8\"], [0.3333333333333333, \"#9c179e\"], [0.4444444444444444, \"#bd3786\"], [0.5555555555555556, \"#d8576b\"], [0.6666666666666666, \"#ed7953\"], [0.7777777777777778, \"#fb9f3a\"], [0.8888888888888888, \"#fdca26\"], [1.0, \"#f0f921\"]], \"type\": \"histogram2d\"}], \"histogram2dcontour\": [{\"colorbar\": {\"outlinewidth\": 0, \"ticks\": \"\"}, \"colorscale\": [[0.0, \"#0d0887\"], [0.1111111111111111, \"#46039f\"], [0.2222222222222222, \"#7201a8\"], [0.3333333333333333, \"#9c179e\"], [0.4444444444444444, \"#bd3786\"], [0.5555555555555556, \"#d8576b\"], [0.6666666666666666, \"#ed7953\"], [0.7777777777777778, \"#fb9f3a\"], [0.8888888888888888, \"#fdca26\"], [1.0, \"#f0f921\"]], \"type\": \"histogram2dcontour\"}], \"mesh3d\": [{\"colorbar\": {\"outlinewidth\": 0, \"ticks\": \"\"}, \"type\": \"mesh3d\"}], \"parcoords\": [{\"line\": {\"colorbar\": {\"outlinewidth\": 0, \"ticks\": \"\"}}, \"type\": \"parcoords\"}], \"pie\": [{\"automargin\": true, \"type\": \"pie\"}], \"scatter\": [{\"marker\": {\"colorbar\": {\"outlinewidth\": 0, \"ticks\": \"\"}}, \"type\": \"scatter\"}], \"scatter3d\": [{\"line\": {\"colorbar\": {\"outlinewidth\": 0, \"ticks\": \"\"}}, \"marker\": {\"colorbar\": {\"outlinewidth\": 0, \"ticks\": \"\"}}, \"type\": \"scatter3d\"}], \"scattercarpet\": [{\"marker\": {\"colorbar\": {\"outlinewidth\": 0, \"ticks\": \"\"}}, \"type\": \"scattercarpet\"}], \"scattergeo\": [{\"marker\": {\"colorbar\": {\"outlinewidth\": 0, \"ticks\": \"\"}}, \"type\": \"scattergeo\"}], \"scattergl\": [{\"marker\": {\"colorbar\": {\"outlinewidth\": 0, \"ticks\": \"\"}}, \"type\": \"scattergl\"}], \"scattermapbox\": [{\"marker\": {\"colorbar\": {\"outlinewidth\": 0, \"ticks\": \"\"}}, \"type\": \"scattermapbox\"}], \"scatterpolar\": [{\"marker\": {\"colorbar\": {\"outlinewidth\": 0, \"ticks\": \"\"}}, \"type\": \"scatterpolar\"}], \"scatterpolargl\": [{\"marker\": {\"colorbar\": {\"outlinewidth\": 0, \"ticks\": \"\"}}, \"type\": \"scatterpolargl\"}], \"scatterternary\": [{\"marker\": {\"colorbar\": {\"outlinewidth\": 0, \"ticks\": \"\"}}, \"type\": \"scatterternary\"}], \"surface\": [{\"colorbar\": {\"outlinewidth\": 0, \"ticks\": \"\"}, \"colorscale\": [[0.0, \"#0d0887\"], [0.1111111111111111, \"#46039f\"], [0.2222222222222222, \"#7201a8\"], [0.3333333333333333, \"#9c179e\"], [0.4444444444444444, \"#bd3786\"], [0.5555555555555556, \"#d8576b\"], [0.6666666666666666, \"#ed7953\"], [0.7777777777777778, \"#fb9f3a\"], [0.8888888888888888, \"#fdca26\"], [1.0, \"#f0f921\"]], \"type\": \"surface\"}], \"table\": [{\"cells\": {\"fill\": {\"color\": \"#EBF0F8\"}, \"line\": {\"color\": \"white\"}}, \"header\": {\"fill\": {\"color\": \"#C8D4E3\"}, \"line\": {\"color\": \"white\"}}, \"type\": \"table\"}]}, \"layout\": {\"annotationdefaults\": {\"arrowcolor\": \"#2a3f5f\", \"arrowhead\": 0, \"arrowwidth\": 1}, \"coloraxis\": {\"colorbar\": {\"outlinewidth\": 0, \"ticks\": \"\"}}, \"colorscale\": {\"diverging\": [[0, \"#8e0152\"], [0.1, \"#c51b7d\"], [0.2, \"#de77ae\"], [0.3, \"#f1b6da\"], [0.4, \"#fde0ef\"], [0.5, \"#f7f7f7\"], [0.6, \"#e6f5d0\"], [0.7, \"#b8e186\"], [0.8, \"#7fbc41\"], [0.9, \"#4d9221\"], [1, \"#276419\"]], \"sequential\": [[0.0, \"#0d0887\"], [0.1111111111111111, \"#46039f\"], [0.2222222222222222, \"#7201a8\"], [0.3333333333333333, \"#9c179e\"], [0.4444444444444444, \"#bd3786\"], [0.5555555555555556, \"#d8576b\"], [0.6666666666666666, \"#ed7953\"], [0.7777777777777778, \"#fb9f3a\"], [0.8888888888888888, \"#fdca26\"], [1.0, \"#f0f921\"]], \"sequentialminus\": [[0.0, \"#0d0887\"], [0.1111111111111111, \"#46039f\"], [0.2222222222222222, \"#7201a8\"], [0.3333333333333333, \"#9c179e\"], [0.4444444444444444, \"#bd3786\"], [0.5555555555555556, \"#d8576b\"], [0.6666666666666666, \"#ed7953\"], [0.7777777777777778, \"#fb9f3a\"], [0.8888888888888888, \"#fdca26\"], [1.0, \"#f0f921\"]]}, \"colorway\": [\"#636efa\", \"#EF553B\", \"#00cc96\", \"#ab63fa\", \"#FFA15A\", \"#19d3f3\", \"#FF6692\", \"#B6E880\", \"#FF97FF\", \"#FECB52\"], \"font\": {\"color\": \"#2a3f5f\"}, \"geo\": {\"bgcolor\": \"white\", \"lakecolor\": \"white\", \"landcolor\": \"#E5ECF6\", \"showlakes\": true, \"showland\": true, \"subunitcolor\": \"white\"}, \"hoverlabel\": {\"align\": \"left\"}, \"hovermode\": \"closest\", \"mapbox\": {\"style\": \"light\"}, \"paper_bgcolor\": \"white\", \"plot_bgcolor\": \"#E5ECF6\", \"polar\": {\"angularaxis\": {\"gridcolor\": \"white\", \"linecolor\": \"white\", \"ticks\": \"\"}, \"bgcolor\": \"#E5ECF6\", \"radialaxis\": {\"gridcolor\": \"white\", \"linecolor\": \"white\", \"ticks\": \"\"}}, \"scene\": {\"xaxis\": {\"backgroundcolor\": \"#E5ECF6\", \"gridcolor\": \"white\", \"gridwidth\": 2, \"linecolor\": \"white\", \"showbackground\": true, \"ticks\": \"\", \"zerolinecolor\": \"white\"}, \"yaxis\": {\"backgroundcolor\": \"#E5ECF6\", \"gridcolor\": \"white\", \"gridwidth\": 2, \"linecolor\": \"white\", \"showbackground\": true, \"ticks\": \"\", \"zerolinecolor\": \"white\"}, \"zaxis\": {\"backgroundcolor\": \"#E5ECF6\", \"gridcolor\": \"white\", \"gridwidth\": 2, \"linecolor\": \"white\", \"showbackground\": true, \"ticks\": \"\", \"zerolinecolor\": \"white\"}}, \"shapedefaults\": {\"line\": {\"color\": \"#2a3f5f\"}}, \"ternary\": {\"aaxis\": {\"gridcolor\": \"white\", \"linecolor\": \"white\", \"ticks\": \"\"}, \"baxis\": {\"gridcolor\": \"white\", \"linecolor\": \"white\", \"ticks\": \"\"}, \"bgcolor\": \"#E5ECF6\", \"caxis\": {\"gridcolor\": \"white\", \"linecolor\": \"white\", \"ticks\": \"\"}}, \"title\": {\"x\": 0.05}, \"xaxis\": {\"automargin\": true, \"gridcolor\": \"white\", \"linecolor\": \"white\", \"ticks\": \"\", \"title\": {\"standoff\": 15}, \"zerolinecolor\": \"white\", \"zerolinewidth\": 2}, \"yaxis\": {\"automargin\": true, \"gridcolor\": \"white\", \"linecolor\": \"white\", \"ticks\": \"\", \"title\": {\"standoff\": 15}, \"zerolinecolor\": \"white\", \"zerolinewidth\": 2}}}},\n",
       "                        {\"responsive\": true}\n",
       "                    ).then(function(){\n",
       "                            \n",
       "var gd = document.getElementById('12196d59-b222-405e-8132-a5be4eee0c56');\n",
       "var x = new MutationObserver(function (mutations, observer) {{\n",
       "        var display = window.getComputedStyle(gd).display;\n",
       "        if (!display || display === 'none') {{\n",
       "            console.log([gd, 'removed!']);\n",
       "            Plotly.purge(gd);\n",
       "            observer.disconnect();\n",
       "        }}\n",
       "}});\n",
       "\n",
       "// Listen for the removal of the full notebook cells\n",
       "var notebookContainer = gd.closest('#notebook-container');\n",
       "if (notebookContainer) {{\n",
       "    x.observe(notebookContainer, {childList: true});\n",
       "}}\n",
       "\n",
       "// Listen for the clearing of the current output cell\n",
       "var outputEl = gd.closest('.output');\n",
       "if (outputEl) {{\n",
       "    x.observe(outputEl, {childList: true});\n",
       "}}\n",
       "\n",
       "                        })\n",
       "                };\n",
       "                });\n",
       "            </script>\n",
       "        </div>"
      ]
     },
     "metadata": {},
     "output_type": "display_data"
    }
   ],
   "source": [
    "trace = go.Scatter (x = [15, 18, 21, 25],\n",
    "                    \n",
    "                    y = [100, 400, 300, 200],\n",
    "                    \n",
    "                    mode = 'markers',\n",
    "                    \n",
    "                    marker = dict(size = z)\n",
    "                   )\n",
    "\n",
    "data = [trace]\n",
    "\n",
    "offline.iplot(data)"
   ]
  },
  {
   "cell_type": "markdown",
   "metadata": {},
   "source": [
    "#### Representing a 4th dimension in the same plot and use color to represent it"
   ]
  },
  {
   "cell_type": "code",
   "execution_count": 5,
   "metadata": {},
   "outputs": [],
   "source": [
    "i = [5, 6, 8, 4]"
   ]
  },
  {
   "cell_type": "code",
   "execution_count": 6,
   "metadata": {},
   "outputs": [],
   "source": [
    "trace = go.Scatter (x = [15, 18, 21, 25],\n",
    "                    \n",
    "                    y = [100, 400, 300, 200],\n",
    "                    \n",
    "                    mode = 'markers',\n",
    "                    \n",
    "                    marker = dict(size = z,\n",
    "                                  color = i,\n",
    "                                  colorscale = 'Portland',\n",
    "                                  showscale = True)\n",
    "                   )"
   ]
  },
  {
   "cell_type": "code",
   "execution_count": 7,
   "metadata": {},
   "outputs": [
    {
     "data": {
      "application/vnd.plotly.v1+json": {
       "config": {
        "linkText": "Export to plot.ly",
        "plotlyServerURL": "https://plot.ly",
        "showLink": false
       },
       "data": [
        {
         "marker": {
          "color": [
           5,
           6,
           8,
           4
          ],
          "colorscale": [
           [
            0,
            "rgb(12,51,131)"
           ],
           [
            0.25,
            "rgb(10,136,186)"
           ],
           [
            0.5,
            "rgb(242,211,56)"
           ],
           [
            0.75,
            "rgb(242,143,56)"
           ],
           [
            1,
            "rgb(217,30,30)"
           ]
          ],
          "showscale": true,
          "size": [
           25,
           100,
           75,
           50
          ]
         },
         "mode": "markers",
         "type": "scatter",
         "x": [
          15,
          18,
          21,
          25
         ],
         "y": [
          100,
          400,
          300,
          200
         ]
        }
       ],
       "layout": {
        "template": {
         "data": {
          "bar": [
           {
            "error_x": {
             "color": "#2a3f5f"
            },
            "error_y": {
             "color": "#2a3f5f"
            },
            "marker": {
             "line": {
              "color": "#E5ECF6",
              "width": 0.5
             }
            },
            "type": "bar"
           }
          ],
          "barpolar": [
           {
            "marker": {
             "line": {
              "color": "#E5ECF6",
              "width": 0.5
             }
            },
            "type": "barpolar"
           }
          ],
          "carpet": [
           {
            "aaxis": {
             "endlinecolor": "#2a3f5f",
             "gridcolor": "white",
             "linecolor": "white",
             "minorgridcolor": "white",
             "startlinecolor": "#2a3f5f"
            },
            "baxis": {
             "endlinecolor": "#2a3f5f",
             "gridcolor": "white",
             "linecolor": "white",
             "minorgridcolor": "white",
             "startlinecolor": "#2a3f5f"
            },
            "type": "carpet"
           }
          ],
          "choropleth": [
           {
            "colorbar": {
             "outlinewidth": 0,
             "ticks": ""
            },
            "type": "choropleth"
           }
          ],
          "contour": [
           {
            "colorbar": {
             "outlinewidth": 0,
             "ticks": ""
            },
            "colorscale": [
             [
              0,
              "#0d0887"
             ],
             [
              0.1111111111111111,
              "#46039f"
             ],
             [
              0.2222222222222222,
              "#7201a8"
             ],
             [
              0.3333333333333333,
              "#9c179e"
             ],
             [
              0.4444444444444444,
              "#bd3786"
             ],
             [
              0.5555555555555556,
              "#d8576b"
             ],
             [
              0.6666666666666666,
              "#ed7953"
             ],
             [
              0.7777777777777778,
              "#fb9f3a"
             ],
             [
              0.8888888888888888,
              "#fdca26"
             ],
             [
              1,
              "#f0f921"
             ]
            ],
            "type": "contour"
           }
          ],
          "contourcarpet": [
           {
            "colorbar": {
             "outlinewidth": 0,
             "ticks": ""
            },
            "type": "contourcarpet"
           }
          ],
          "heatmap": [
           {
            "colorbar": {
             "outlinewidth": 0,
             "ticks": ""
            },
            "colorscale": [
             [
              0,
              "#0d0887"
             ],
             [
              0.1111111111111111,
              "#46039f"
             ],
             [
              0.2222222222222222,
              "#7201a8"
             ],
             [
              0.3333333333333333,
              "#9c179e"
             ],
             [
              0.4444444444444444,
              "#bd3786"
             ],
             [
              0.5555555555555556,
              "#d8576b"
             ],
             [
              0.6666666666666666,
              "#ed7953"
             ],
             [
              0.7777777777777778,
              "#fb9f3a"
             ],
             [
              0.8888888888888888,
              "#fdca26"
             ],
             [
              1,
              "#f0f921"
             ]
            ],
            "type": "heatmap"
           }
          ],
          "heatmapgl": [
           {
            "colorbar": {
             "outlinewidth": 0,
             "ticks": ""
            },
            "colorscale": [
             [
              0,
              "#0d0887"
             ],
             [
              0.1111111111111111,
              "#46039f"
             ],
             [
              0.2222222222222222,
              "#7201a8"
             ],
             [
              0.3333333333333333,
              "#9c179e"
             ],
             [
              0.4444444444444444,
              "#bd3786"
             ],
             [
              0.5555555555555556,
              "#d8576b"
             ],
             [
              0.6666666666666666,
              "#ed7953"
             ],
             [
              0.7777777777777778,
              "#fb9f3a"
             ],
             [
              0.8888888888888888,
              "#fdca26"
             ],
             [
              1,
              "#f0f921"
             ]
            ],
            "type": "heatmapgl"
           }
          ],
          "histogram": [
           {
            "marker": {
             "colorbar": {
              "outlinewidth": 0,
              "ticks": ""
             }
            },
            "type": "histogram"
           }
          ],
          "histogram2d": [
           {
            "colorbar": {
             "outlinewidth": 0,
             "ticks": ""
            },
            "colorscale": [
             [
              0,
              "#0d0887"
             ],
             [
              0.1111111111111111,
              "#46039f"
             ],
             [
              0.2222222222222222,
              "#7201a8"
             ],
             [
              0.3333333333333333,
              "#9c179e"
             ],
             [
              0.4444444444444444,
              "#bd3786"
             ],
             [
              0.5555555555555556,
              "#d8576b"
             ],
             [
              0.6666666666666666,
              "#ed7953"
             ],
             [
              0.7777777777777778,
              "#fb9f3a"
             ],
             [
              0.8888888888888888,
              "#fdca26"
             ],
             [
              1,
              "#f0f921"
             ]
            ],
            "type": "histogram2d"
           }
          ],
          "histogram2dcontour": [
           {
            "colorbar": {
             "outlinewidth": 0,
             "ticks": ""
            },
            "colorscale": [
             [
              0,
              "#0d0887"
             ],
             [
              0.1111111111111111,
              "#46039f"
             ],
             [
              0.2222222222222222,
              "#7201a8"
             ],
             [
              0.3333333333333333,
              "#9c179e"
             ],
             [
              0.4444444444444444,
              "#bd3786"
             ],
             [
              0.5555555555555556,
              "#d8576b"
             ],
             [
              0.6666666666666666,
              "#ed7953"
             ],
             [
              0.7777777777777778,
              "#fb9f3a"
             ],
             [
              0.8888888888888888,
              "#fdca26"
             ],
             [
              1,
              "#f0f921"
             ]
            ],
            "type": "histogram2dcontour"
           }
          ],
          "mesh3d": [
           {
            "colorbar": {
             "outlinewidth": 0,
             "ticks": ""
            },
            "type": "mesh3d"
           }
          ],
          "parcoords": [
           {
            "line": {
             "colorbar": {
              "outlinewidth": 0,
              "ticks": ""
             }
            },
            "type": "parcoords"
           }
          ],
          "pie": [
           {
            "automargin": true,
            "type": "pie"
           }
          ],
          "scatter": [
           {
            "marker": {
             "colorbar": {
              "outlinewidth": 0,
              "ticks": ""
             }
            },
            "type": "scatter"
           }
          ],
          "scatter3d": [
           {
            "line": {
             "colorbar": {
              "outlinewidth": 0,
              "ticks": ""
             }
            },
            "marker": {
             "colorbar": {
              "outlinewidth": 0,
              "ticks": ""
             }
            },
            "type": "scatter3d"
           }
          ],
          "scattercarpet": [
           {
            "marker": {
             "colorbar": {
              "outlinewidth": 0,
              "ticks": ""
             }
            },
            "type": "scattercarpet"
           }
          ],
          "scattergeo": [
           {
            "marker": {
             "colorbar": {
              "outlinewidth": 0,
              "ticks": ""
             }
            },
            "type": "scattergeo"
           }
          ],
          "scattergl": [
           {
            "marker": {
             "colorbar": {
              "outlinewidth": 0,
              "ticks": ""
             }
            },
            "type": "scattergl"
           }
          ],
          "scattermapbox": [
           {
            "marker": {
             "colorbar": {
              "outlinewidth": 0,
              "ticks": ""
             }
            },
            "type": "scattermapbox"
           }
          ],
          "scatterpolar": [
           {
            "marker": {
             "colorbar": {
              "outlinewidth": 0,
              "ticks": ""
             }
            },
            "type": "scatterpolar"
           }
          ],
          "scatterpolargl": [
           {
            "marker": {
             "colorbar": {
              "outlinewidth": 0,
              "ticks": ""
             }
            },
            "type": "scatterpolargl"
           }
          ],
          "scatterternary": [
           {
            "marker": {
             "colorbar": {
              "outlinewidth": 0,
              "ticks": ""
             }
            },
            "type": "scatterternary"
           }
          ],
          "surface": [
           {
            "colorbar": {
             "outlinewidth": 0,
             "ticks": ""
            },
            "colorscale": [
             [
              0,
              "#0d0887"
             ],
             [
              0.1111111111111111,
              "#46039f"
             ],
             [
              0.2222222222222222,
              "#7201a8"
             ],
             [
              0.3333333333333333,
              "#9c179e"
             ],
             [
              0.4444444444444444,
              "#bd3786"
             ],
             [
              0.5555555555555556,
              "#d8576b"
             ],
             [
              0.6666666666666666,
              "#ed7953"
             ],
             [
              0.7777777777777778,
              "#fb9f3a"
             ],
             [
              0.8888888888888888,
              "#fdca26"
             ],
             [
              1,
              "#f0f921"
             ]
            ],
            "type": "surface"
           }
          ],
          "table": [
           {
            "cells": {
             "fill": {
              "color": "#EBF0F8"
             },
             "line": {
              "color": "white"
             }
            },
            "header": {
             "fill": {
              "color": "#C8D4E3"
             },
             "line": {
              "color": "white"
             }
            },
            "type": "table"
           }
          ]
         },
         "layout": {
          "annotationdefaults": {
           "arrowcolor": "#2a3f5f",
           "arrowhead": 0,
           "arrowwidth": 1
          },
          "coloraxis": {
           "colorbar": {
            "outlinewidth": 0,
            "ticks": ""
           }
          },
          "colorscale": {
           "diverging": [
            [
             0,
             "#8e0152"
            ],
            [
             0.1,
             "#c51b7d"
            ],
            [
             0.2,
             "#de77ae"
            ],
            [
             0.3,
             "#f1b6da"
            ],
            [
             0.4,
             "#fde0ef"
            ],
            [
             0.5,
             "#f7f7f7"
            ],
            [
             0.6,
             "#e6f5d0"
            ],
            [
             0.7,
             "#b8e186"
            ],
            [
             0.8,
             "#7fbc41"
            ],
            [
             0.9,
             "#4d9221"
            ],
            [
             1,
             "#276419"
            ]
           ],
           "sequential": [
            [
             0,
             "#0d0887"
            ],
            [
             0.1111111111111111,
             "#46039f"
            ],
            [
             0.2222222222222222,
             "#7201a8"
            ],
            [
             0.3333333333333333,
             "#9c179e"
            ],
            [
             0.4444444444444444,
             "#bd3786"
            ],
            [
             0.5555555555555556,
             "#d8576b"
            ],
            [
             0.6666666666666666,
             "#ed7953"
            ],
            [
             0.7777777777777778,
             "#fb9f3a"
            ],
            [
             0.8888888888888888,
             "#fdca26"
            ],
            [
             1,
             "#f0f921"
            ]
           ],
           "sequentialminus": [
            [
             0,
             "#0d0887"
            ],
            [
             0.1111111111111111,
             "#46039f"
            ],
            [
             0.2222222222222222,
             "#7201a8"
            ],
            [
             0.3333333333333333,
             "#9c179e"
            ],
            [
             0.4444444444444444,
             "#bd3786"
            ],
            [
             0.5555555555555556,
             "#d8576b"
            ],
            [
             0.6666666666666666,
             "#ed7953"
            ],
            [
             0.7777777777777778,
             "#fb9f3a"
            ],
            [
             0.8888888888888888,
             "#fdca26"
            ],
            [
             1,
             "#f0f921"
            ]
           ]
          },
          "colorway": [
           "#636efa",
           "#EF553B",
           "#00cc96",
           "#ab63fa",
           "#FFA15A",
           "#19d3f3",
           "#FF6692",
           "#B6E880",
           "#FF97FF",
           "#FECB52"
          ],
          "font": {
           "color": "#2a3f5f"
          },
          "geo": {
           "bgcolor": "white",
           "lakecolor": "white",
           "landcolor": "#E5ECF6",
           "showlakes": true,
           "showland": true,
           "subunitcolor": "white"
          },
          "hoverlabel": {
           "align": "left"
          },
          "hovermode": "closest",
          "mapbox": {
           "style": "light"
          },
          "paper_bgcolor": "white",
          "plot_bgcolor": "#E5ECF6",
          "polar": {
           "angularaxis": {
            "gridcolor": "white",
            "linecolor": "white",
            "ticks": ""
           },
           "bgcolor": "#E5ECF6",
           "radialaxis": {
            "gridcolor": "white",
            "linecolor": "white",
            "ticks": ""
           }
          },
          "scene": {
           "xaxis": {
            "backgroundcolor": "#E5ECF6",
            "gridcolor": "white",
            "gridwidth": 2,
            "linecolor": "white",
            "showbackground": true,
            "ticks": "",
            "zerolinecolor": "white"
           },
           "yaxis": {
            "backgroundcolor": "#E5ECF6",
            "gridcolor": "white",
            "gridwidth": 2,
            "linecolor": "white",
            "showbackground": true,
            "ticks": "",
            "zerolinecolor": "white"
           },
           "zaxis": {
            "backgroundcolor": "#E5ECF6",
            "gridcolor": "white",
            "gridwidth": 2,
            "linecolor": "white",
            "showbackground": true,
            "ticks": "",
            "zerolinecolor": "white"
           }
          },
          "shapedefaults": {
           "line": {
            "color": "#2a3f5f"
           }
          },
          "ternary": {
           "aaxis": {
            "gridcolor": "white",
            "linecolor": "white",
            "ticks": ""
           },
           "baxis": {
            "gridcolor": "white",
            "linecolor": "white",
            "ticks": ""
           },
           "bgcolor": "#E5ECF6",
           "caxis": {
            "gridcolor": "white",
            "linecolor": "white",
            "ticks": ""
           }
          },
          "title": {
           "x": 0.05
          },
          "xaxis": {
           "automargin": true,
           "gridcolor": "white",
           "linecolor": "white",
           "ticks": "",
           "title": {
            "standoff": 15
           },
           "zerolinecolor": "white",
           "zerolinewidth": 2
          },
          "yaxis": {
           "automargin": true,
           "gridcolor": "white",
           "linecolor": "white",
           "ticks": "",
           "title": {
            "standoff": 15
           },
           "zerolinecolor": "white",
           "zerolinewidth": 2
          }
         }
        }
       }
      },
      "text/html": [
       "<div>\n",
       "        \n",
       "        \n",
       "            <div id=\"7a6bfd52-567c-4a6e-b9df-2ca9ed9bd5e9\" class=\"plotly-graph-div\" style=\"height:525px; width:100%;\"></div>\n",
       "            <script type=\"text/javascript\">\n",
       "                require([\"plotly\"], function(Plotly) {\n",
       "                    window.PLOTLYENV=window.PLOTLYENV || {};\n",
       "                    \n",
       "                if (document.getElementById(\"7a6bfd52-567c-4a6e-b9df-2ca9ed9bd5e9\")) {\n",
       "                    Plotly.newPlot(\n",
       "                        '7a6bfd52-567c-4a6e-b9df-2ca9ed9bd5e9',\n",
       "                        [{\"marker\": {\"color\": [5, 6, 8, 4], \"colorscale\": [[0.0, \"rgb(12,51,131)\"], [0.25, \"rgb(10,136,186)\"], [0.5, \"rgb(242,211,56)\"], [0.75, \"rgb(242,143,56)\"], [1.0, \"rgb(217,30,30)\"]], \"showscale\": true, \"size\": [25, 100, 75, 50]}, \"mode\": \"markers\", \"type\": \"scatter\", \"x\": [15, 18, 21, 25], \"y\": [100, 400, 300, 200]}],\n",
       "                        {\"template\": {\"data\": {\"bar\": [{\"error_x\": {\"color\": \"#2a3f5f\"}, \"error_y\": {\"color\": \"#2a3f5f\"}, \"marker\": {\"line\": {\"color\": \"#E5ECF6\", \"width\": 0.5}}, \"type\": \"bar\"}], \"barpolar\": [{\"marker\": {\"line\": {\"color\": \"#E5ECF6\", \"width\": 0.5}}, \"type\": \"barpolar\"}], \"carpet\": [{\"aaxis\": {\"endlinecolor\": \"#2a3f5f\", \"gridcolor\": \"white\", \"linecolor\": \"white\", \"minorgridcolor\": \"white\", \"startlinecolor\": \"#2a3f5f\"}, \"baxis\": {\"endlinecolor\": \"#2a3f5f\", \"gridcolor\": \"white\", \"linecolor\": \"white\", \"minorgridcolor\": \"white\", \"startlinecolor\": \"#2a3f5f\"}, \"type\": \"carpet\"}], \"choropleth\": [{\"colorbar\": {\"outlinewidth\": 0, \"ticks\": \"\"}, \"type\": \"choropleth\"}], \"contour\": [{\"colorbar\": {\"outlinewidth\": 0, \"ticks\": \"\"}, \"colorscale\": [[0.0, \"#0d0887\"], [0.1111111111111111, \"#46039f\"], [0.2222222222222222, \"#7201a8\"], [0.3333333333333333, \"#9c179e\"], [0.4444444444444444, \"#bd3786\"], [0.5555555555555556, \"#d8576b\"], [0.6666666666666666, \"#ed7953\"], [0.7777777777777778, \"#fb9f3a\"], [0.8888888888888888, \"#fdca26\"], [1.0, \"#f0f921\"]], \"type\": \"contour\"}], \"contourcarpet\": [{\"colorbar\": {\"outlinewidth\": 0, \"ticks\": \"\"}, \"type\": \"contourcarpet\"}], \"heatmap\": [{\"colorbar\": {\"outlinewidth\": 0, \"ticks\": \"\"}, \"colorscale\": [[0.0, \"#0d0887\"], [0.1111111111111111, \"#46039f\"], [0.2222222222222222, \"#7201a8\"], [0.3333333333333333, \"#9c179e\"], [0.4444444444444444, \"#bd3786\"], [0.5555555555555556, \"#d8576b\"], [0.6666666666666666, \"#ed7953\"], [0.7777777777777778, \"#fb9f3a\"], [0.8888888888888888, \"#fdca26\"], [1.0, \"#f0f921\"]], \"type\": \"heatmap\"}], \"heatmapgl\": [{\"colorbar\": {\"outlinewidth\": 0, \"ticks\": \"\"}, \"colorscale\": [[0.0, \"#0d0887\"], [0.1111111111111111, \"#46039f\"], [0.2222222222222222, \"#7201a8\"], [0.3333333333333333, \"#9c179e\"], [0.4444444444444444, \"#bd3786\"], [0.5555555555555556, \"#d8576b\"], [0.6666666666666666, \"#ed7953\"], [0.7777777777777778, \"#fb9f3a\"], [0.8888888888888888, \"#fdca26\"], [1.0, \"#f0f921\"]], \"type\": \"heatmapgl\"}], \"histogram\": [{\"marker\": {\"colorbar\": {\"outlinewidth\": 0, \"ticks\": \"\"}}, \"type\": \"histogram\"}], \"histogram2d\": [{\"colorbar\": {\"outlinewidth\": 0, \"ticks\": \"\"}, \"colorscale\": [[0.0, \"#0d0887\"], [0.1111111111111111, \"#46039f\"], [0.2222222222222222, \"#7201a8\"], [0.3333333333333333, \"#9c179e\"], [0.4444444444444444, \"#bd3786\"], [0.5555555555555556, \"#d8576b\"], [0.6666666666666666, \"#ed7953\"], [0.7777777777777778, \"#fb9f3a\"], [0.8888888888888888, \"#fdca26\"], [1.0, \"#f0f921\"]], \"type\": \"histogram2d\"}], \"histogram2dcontour\": [{\"colorbar\": {\"outlinewidth\": 0, \"ticks\": \"\"}, \"colorscale\": [[0.0, \"#0d0887\"], [0.1111111111111111, \"#46039f\"], [0.2222222222222222, \"#7201a8\"], [0.3333333333333333, \"#9c179e\"], [0.4444444444444444, \"#bd3786\"], [0.5555555555555556, \"#d8576b\"], [0.6666666666666666, \"#ed7953\"], [0.7777777777777778, \"#fb9f3a\"], [0.8888888888888888, \"#fdca26\"], [1.0, \"#f0f921\"]], \"type\": \"histogram2dcontour\"}], \"mesh3d\": [{\"colorbar\": {\"outlinewidth\": 0, \"ticks\": \"\"}, \"type\": \"mesh3d\"}], \"parcoords\": [{\"line\": {\"colorbar\": {\"outlinewidth\": 0, \"ticks\": \"\"}}, \"type\": \"parcoords\"}], \"pie\": [{\"automargin\": true, \"type\": \"pie\"}], \"scatter\": [{\"marker\": {\"colorbar\": {\"outlinewidth\": 0, \"ticks\": \"\"}}, \"type\": \"scatter\"}], \"scatter3d\": [{\"line\": {\"colorbar\": {\"outlinewidth\": 0, \"ticks\": \"\"}}, \"marker\": {\"colorbar\": {\"outlinewidth\": 0, \"ticks\": \"\"}}, \"type\": \"scatter3d\"}], \"scattercarpet\": [{\"marker\": {\"colorbar\": {\"outlinewidth\": 0, \"ticks\": \"\"}}, \"type\": \"scattercarpet\"}], \"scattergeo\": [{\"marker\": {\"colorbar\": {\"outlinewidth\": 0, \"ticks\": \"\"}}, \"type\": \"scattergeo\"}], \"scattergl\": [{\"marker\": {\"colorbar\": {\"outlinewidth\": 0, \"ticks\": \"\"}}, \"type\": \"scattergl\"}], \"scattermapbox\": [{\"marker\": {\"colorbar\": {\"outlinewidth\": 0, \"ticks\": \"\"}}, \"type\": \"scattermapbox\"}], \"scatterpolar\": [{\"marker\": {\"colorbar\": {\"outlinewidth\": 0, \"ticks\": \"\"}}, \"type\": \"scatterpolar\"}], \"scatterpolargl\": [{\"marker\": {\"colorbar\": {\"outlinewidth\": 0, \"ticks\": \"\"}}, \"type\": \"scatterpolargl\"}], \"scatterternary\": [{\"marker\": {\"colorbar\": {\"outlinewidth\": 0, \"ticks\": \"\"}}, \"type\": \"scatterternary\"}], \"surface\": [{\"colorbar\": {\"outlinewidth\": 0, \"ticks\": \"\"}, \"colorscale\": [[0.0, \"#0d0887\"], [0.1111111111111111, \"#46039f\"], [0.2222222222222222, \"#7201a8\"], [0.3333333333333333, \"#9c179e\"], [0.4444444444444444, \"#bd3786\"], [0.5555555555555556, \"#d8576b\"], [0.6666666666666666, \"#ed7953\"], [0.7777777777777778, \"#fb9f3a\"], [0.8888888888888888, \"#fdca26\"], [1.0, \"#f0f921\"]], \"type\": \"surface\"}], \"table\": [{\"cells\": {\"fill\": {\"color\": \"#EBF0F8\"}, \"line\": {\"color\": \"white\"}}, \"header\": {\"fill\": {\"color\": \"#C8D4E3\"}, \"line\": {\"color\": \"white\"}}, \"type\": \"table\"}]}, \"layout\": {\"annotationdefaults\": {\"arrowcolor\": \"#2a3f5f\", \"arrowhead\": 0, \"arrowwidth\": 1}, \"coloraxis\": {\"colorbar\": {\"outlinewidth\": 0, \"ticks\": \"\"}}, \"colorscale\": {\"diverging\": [[0, \"#8e0152\"], [0.1, \"#c51b7d\"], [0.2, \"#de77ae\"], [0.3, \"#f1b6da\"], [0.4, \"#fde0ef\"], [0.5, \"#f7f7f7\"], [0.6, \"#e6f5d0\"], [0.7, \"#b8e186\"], [0.8, \"#7fbc41\"], [0.9, \"#4d9221\"], [1, \"#276419\"]], \"sequential\": [[0.0, \"#0d0887\"], [0.1111111111111111, \"#46039f\"], [0.2222222222222222, \"#7201a8\"], [0.3333333333333333, \"#9c179e\"], [0.4444444444444444, \"#bd3786\"], [0.5555555555555556, \"#d8576b\"], [0.6666666666666666, \"#ed7953\"], [0.7777777777777778, \"#fb9f3a\"], [0.8888888888888888, \"#fdca26\"], [1.0, \"#f0f921\"]], \"sequentialminus\": [[0.0, \"#0d0887\"], [0.1111111111111111, \"#46039f\"], [0.2222222222222222, \"#7201a8\"], [0.3333333333333333, \"#9c179e\"], [0.4444444444444444, \"#bd3786\"], [0.5555555555555556, \"#d8576b\"], [0.6666666666666666, \"#ed7953\"], [0.7777777777777778, \"#fb9f3a\"], [0.8888888888888888, \"#fdca26\"], [1.0, \"#f0f921\"]]}, \"colorway\": [\"#636efa\", \"#EF553B\", \"#00cc96\", \"#ab63fa\", \"#FFA15A\", \"#19d3f3\", \"#FF6692\", \"#B6E880\", \"#FF97FF\", \"#FECB52\"], \"font\": {\"color\": \"#2a3f5f\"}, \"geo\": {\"bgcolor\": \"white\", \"lakecolor\": \"white\", \"landcolor\": \"#E5ECF6\", \"showlakes\": true, \"showland\": true, \"subunitcolor\": \"white\"}, \"hoverlabel\": {\"align\": \"left\"}, \"hovermode\": \"closest\", \"mapbox\": {\"style\": \"light\"}, \"paper_bgcolor\": \"white\", \"plot_bgcolor\": \"#E5ECF6\", \"polar\": {\"angularaxis\": {\"gridcolor\": \"white\", \"linecolor\": \"white\", \"ticks\": \"\"}, \"bgcolor\": \"#E5ECF6\", \"radialaxis\": {\"gridcolor\": \"white\", \"linecolor\": \"white\", \"ticks\": \"\"}}, \"scene\": {\"xaxis\": {\"backgroundcolor\": \"#E5ECF6\", \"gridcolor\": \"white\", \"gridwidth\": 2, \"linecolor\": \"white\", \"showbackground\": true, \"ticks\": \"\", \"zerolinecolor\": \"white\"}, \"yaxis\": {\"backgroundcolor\": \"#E5ECF6\", \"gridcolor\": \"white\", \"gridwidth\": 2, \"linecolor\": \"white\", \"showbackground\": true, \"ticks\": \"\", \"zerolinecolor\": \"white\"}, \"zaxis\": {\"backgroundcolor\": \"#E5ECF6\", \"gridcolor\": \"white\", \"gridwidth\": 2, \"linecolor\": \"white\", \"showbackground\": true, \"ticks\": \"\", \"zerolinecolor\": \"white\"}}, \"shapedefaults\": {\"line\": {\"color\": \"#2a3f5f\"}}, \"ternary\": {\"aaxis\": {\"gridcolor\": \"white\", \"linecolor\": \"white\", \"ticks\": \"\"}, \"baxis\": {\"gridcolor\": \"white\", \"linecolor\": \"white\", \"ticks\": \"\"}, \"bgcolor\": \"#E5ECF6\", \"caxis\": {\"gridcolor\": \"white\", \"linecolor\": \"white\", \"ticks\": \"\"}}, \"title\": {\"x\": 0.05}, \"xaxis\": {\"automargin\": true, \"gridcolor\": \"white\", \"linecolor\": \"white\", \"ticks\": \"\", \"title\": {\"standoff\": 15}, \"zerolinecolor\": \"white\", \"zerolinewidth\": 2}, \"yaxis\": {\"automargin\": true, \"gridcolor\": \"white\", \"linecolor\": \"white\", \"ticks\": \"\", \"title\": {\"standoff\": 15}, \"zerolinecolor\": \"white\", \"zerolinewidth\": 2}}}},\n",
       "                        {\"responsive\": true}\n",
       "                    ).then(function(){\n",
       "                            \n",
       "var gd = document.getElementById('7a6bfd52-567c-4a6e-b9df-2ca9ed9bd5e9');\n",
       "var x = new MutationObserver(function (mutations, observer) {{\n",
       "        var display = window.getComputedStyle(gd).display;\n",
       "        if (!display || display === 'none') {{\n",
       "            console.log([gd, 'removed!']);\n",
       "            Plotly.purge(gd);\n",
       "            observer.disconnect();\n",
       "        }}\n",
       "}});\n",
       "\n",
       "// Listen for the removal of the full notebook cells\n",
       "var notebookContainer = gd.closest('#notebook-container');\n",
       "if (notebookContainer) {{\n",
       "    x.observe(notebookContainer, {childList: true});\n",
       "}}\n",
       "\n",
       "// Listen for the clearing of the current output cell\n",
       "var outputEl = gd.closest('.output');\n",
       "if (outputEl) {{\n",
       "    x.observe(outputEl, {childList: true});\n",
       "}}\n",
       "\n",
       "                        })\n",
       "                };\n",
       "                });\n",
       "            </script>\n",
       "        </div>"
      ]
     },
     "metadata": {},
     "output_type": "display_data"
    }
   ],
   "source": [
    "data = [trace]\n",
    "offline.iplot(data)"
   ]
  },
  {
   "cell_type": "markdown",
   "metadata": {},
   "source": [
    "#### Loading the dataset\n",
    "Here we are loading the csv format data that we saved in the previous demo"
   ]
  },
  {
   "cell_type": "code",
   "execution_count": 8,
   "metadata": {},
   "outputs": [
    {
     "data": {
      "text/html": [
       "<div>\n",
       "<style scoped>\n",
       "    .dataframe tbody tr th:only-of-type {\n",
       "        vertical-align: middle;\n",
       "    }\n",
       "\n",
       "    .dataframe tbody tr th {\n",
       "        vertical-align: top;\n",
       "    }\n",
       "\n",
       "    .dataframe thead th {\n",
       "        text-align: right;\n",
       "    }\n",
       "</style>\n",
       "<table border=\"1\" class=\"dataframe\">\n",
       "  <thead>\n",
       "    <tr style=\"text-align: right;\">\n",
       "      <th></th>\n",
       "      <th>longitude</th>\n",
       "      <th>latitude</th>\n",
       "      <th>housing_median_age</th>\n",
       "      <th>total_rooms</th>\n",
       "      <th>total_bedrooms</th>\n",
       "      <th>population</th>\n",
       "      <th>households</th>\n",
       "      <th>median_income</th>\n",
       "      <th>median_house_value</th>\n",
       "      <th>ocean_proximity</th>\n",
       "    </tr>\n",
       "  </thead>\n",
       "  <tbody>\n",
       "    <tr>\n",
       "      <th>2017</th>\n",
       "      <td>-119.80</td>\n",
       "      <td>36.72</td>\n",
       "      <td>19.0</td>\n",
       "      <td>1334.0</td>\n",
       "      <td>336.0</td>\n",
       "      <td>1171.0</td>\n",
       "      <td>319.0</td>\n",
       "      <td>1.0481</td>\n",
       "      <td>48500.0</td>\n",
       "      <td>INLAND</td>\n",
       "    </tr>\n",
       "    <tr>\n",
       "      <th>7293</th>\n",
       "      <td>-118.23</td>\n",
       "      <td>33.98</td>\n",
       "      <td>35.0</td>\n",
       "      <td>1366.0</td>\n",
       "      <td>496.0</td>\n",
       "      <td>2160.0</td>\n",
       "      <td>497.0</td>\n",
       "      <td>2.2059</td>\n",
       "      <td>150000.0</td>\n",
       "      <td>&lt;1H OCEAN</td>\n",
       "    </tr>\n",
       "    <tr>\n",
       "      <th>5398</th>\n",
       "      <td>-118.43</td>\n",
       "      <td>34.03</td>\n",
       "      <td>45.0</td>\n",
       "      <td>1740.0</td>\n",
       "      <td>311.0</td>\n",
       "      <td>788.0</td>\n",
       "      <td>306.0</td>\n",
       "      <td>5.2099</td>\n",
       "      <td>373600.0</td>\n",
       "      <td>&lt;1H OCEAN</td>\n",
       "    </tr>\n",
       "    <tr>\n",
       "      <th>5935</th>\n",
       "      <td>-117.87</td>\n",
       "      <td>34.15</td>\n",
       "      <td>24.0</td>\n",
       "      <td>5745.0</td>\n",
       "      <td>735.0</td>\n",
       "      <td>2061.0</td>\n",
       "      <td>679.0</td>\n",
       "      <td>8.2827</td>\n",
       "      <td>451400.0</td>\n",
       "      <td>INLAND</td>\n",
       "    </tr>\n",
       "    <tr>\n",
       "      <th>11430</th>\n",
       "      <td>-117.97</td>\n",
       "      <td>33.66</td>\n",
       "      <td>22.0</td>\n",
       "      <td>3914.0</td>\n",
       "      <td>600.0</td>\n",
       "      <td>1871.0</td>\n",
       "      <td>607.0</td>\n",
       "      <td>5.8541</td>\n",
       "      <td>281500.0</td>\n",
       "      <td>&lt;1H OCEAN</td>\n",
       "    </tr>\n",
       "    <tr>\n",
       "      <th>10173</th>\n",
       "      <td>-117.98</td>\n",
       "      <td>33.86</td>\n",
       "      <td>26.0</td>\n",
       "      <td>1240.0</td>\n",
       "      <td>285.0</td>\n",
       "      <td>781.0</td>\n",
       "      <td>315.0</td>\n",
       "      <td>4.1287</td>\n",
       "      <td>205800.0</td>\n",
       "      <td>&lt;1H OCEAN</td>\n",
       "    </tr>\n",
       "    <tr>\n",
       "      <th>17182</th>\n",
       "      <td>-122.51</td>\n",
       "      <td>37.53</td>\n",
       "      <td>17.0</td>\n",
       "      <td>1574.0</td>\n",
       "      <td>262.0</td>\n",
       "      <td>672.0</td>\n",
       "      <td>241.0</td>\n",
       "      <td>7.2929</td>\n",
       "      <td>355800.0</td>\n",
       "      <td>NEAR OCEAN</td>\n",
       "    </tr>\n",
       "    <tr>\n",
       "      <th>13397</th>\n",
       "      <td>-117.53</td>\n",
       "      <td>34.06</td>\n",
       "      <td>18.0</td>\n",
       "      <td>5605.0</td>\n",
       "      <td>1303.0</td>\n",
       "      <td>4028.0</td>\n",
       "      <td>1145.0</td>\n",
       "      <td>2.9386</td>\n",
       "      <td>116400.0</td>\n",
       "      <td>INLAND</td>\n",
       "    </tr>\n",
       "    <tr>\n",
       "      <th>18107</th>\n",
       "      <td>-122.01</td>\n",
       "      <td>37.31</td>\n",
       "      <td>23.0</td>\n",
       "      <td>6846.0</td>\n",
       "      <td>1078.0</td>\n",
       "      <td>2951.0</td>\n",
       "      <td>1063.0</td>\n",
       "      <td>6.3702</td>\n",
       "      <td>332000.0</td>\n",
       "      <td>&lt;1H OCEAN</td>\n",
       "    </tr>\n",
       "    <tr>\n",
       "      <th>15592</th>\n",
       "      <td>-116.32</td>\n",
       "      <td>33.28</td>\n",
       "      <td>19.0</td>\n",
       "      <td>1791.0</td>\n",
       "      <td>367.0</td>\n",
       "      <td>327.0</td>\n",
       "      <td>185.0</td>\n",
       "      <td>3.3625</td>\n",
       "      <td>100000.0</td>\n",
       "      <td>INLAND</td>\n",
       "    </tr>\n",
       "  </tbody>\n",
       "</table>\n",
       "</div>"
      ],
      "text/plain": [
       "       longitude  latitude  housing_median_age  total_rooms  total_bedrooms  \\\n",
       "2017     -119.80     36.72                19.0       1334.0           336.0   \n",
       "7293     -118.23     33.98                35.0       1366.0           496.0   \n",
       "5398     -118.43     34.03                45.0       1740.0           311.0   \n",
       "5935     -117.87     34.15                24.0       5745.0           735.0   \n",
       "11430    -117.97     33.66                22.0       3914.0           600.0   \n",
       "10173    -117.98     33.86                26.0       1240.0           285.0   \n",
       "17182    -122.51     37.53                17.0       1574.0           262.0   \n",
       "13397    -117.53     34.06                18.0       5605.0          1303.0   \n",
       "18107    -122.01     37.31                23.0       6846.0          1078.0   \n",
       "15592    -116.32     33.28                19.0       1791.0           367.0   \n",
       "\n",
       "       population  households  median_income  median_house_value  \\\n",
       "2017       1171.0       319.0         1.0481             48500.0   \n",
       "7293       2160.0       497.0         2.2059            150000.0   \n",
       "5398        788.0       306.0         5.2099            373600.0   \n",
       "5935       2061.0       679.0         8.2827            451400.0   \n",
       "11430      1871.0       607.0         5.8541            281500.0   \n",
       "10173       781.0       315.0         4.1287            205800.0   \n",
       "17182       672.0       241.0         7.2929            355800.0   \n",
       "13397      4028.0      1145.0         2.9386            116400.0   \n",
       "18107      2951.0      1063.0         6.3702            332000.0   \n",
       "15592       327.0       185.0         3.3625            100000.0   \n",
       "\n",
       "      ocean_proximity  \n",
       "2017           INLAND  \n",
       "7293        <1H OCEAN  \n",
       "5398        <1H OCEAN  \n",
       "5935           INLAND  \n",
       "11430       <1H OCEAN  \n",
       "10173       <1H OCEAN  \n",
       "17182      NEAR OCEAN  \n",
       "13397          INLAND  \n",
       "18107       <1H OCEAN  \n",
       "15592          INLAND  "
      ]
     },
     "execution_count": 8,
     "metadata": {},
     "output_type": "execute_result"
    }
   ],
   "source": [
    "housing_data = pd.read_csv('datasets/housing.csv')\n",
    "\n",
    "housing_data.sample(10)"
   ]
  },
  {
   "cell_type": "code",
   "execution_count": 9,
   "metadata": {},
   "outputs": [
    {
     "data": {
      "text/plain": [
       "(20640, 10)"
      ]
     },
     "execution_count": 9,
     "metadata": {},
     "output_type": "execute_result"
    }
   ],
   "source": [
    "housing_data.shape"
   ]
  },
  {
   "cell_type": "markdown",
   "metadata": {},
   "source": [
    "##### Dataset is very big so we are taking only 1% length of the dataset"
   ]
  },
  {
   "cell_type": "code",
   "execution_count": 10,
   "metadata": {},
   "outputs": [
    {
     "data": {
      "text/plain": [
       "(1445, 10)"
      ]
     },
     "execution_count": 10,
     "metadata": {},
     "output_type": "execute_result"
    }
   ],
   "source": [
    "housing_data = housing_data.sample(frac=0.07).reset_index(drop=True)\n",
    "\n",
    "housing_data.shape"
   ]
  },
  {
   "cell_type": "markdown",
   "metadata": {},
   "source": [
    "##### Showing unique values of ocean_proximity"
   ]
  },
  {
   "cell_type": "code",
   "execution_count": 11,
   "metadata": {},
   "outputs": [
    {
     "data": {
      "text/plain": [
       "array(['NEAR BAY', 'INLAND', '<1H OCEAN', 'NEAR OCEAN', 'ISLAND'],\n",
       "      dtype=object)"
      ]
     },
     "execution_count": 11,
     "metadata": {},
     "output_type": "execute_result"
    }
   ],
   "source": [
    "housing_data['ocean_proximity'].unique()"
   ]
  },
  {
   "cell_type": "markdown",
   "metadata": {},
   "source": [
    "##### Plotting the bubble chart where the size of bubble is related to households and color is related to housing_median_age"
   ]
  },
  {
   "cell_type": "code",
   "execution_count": 15,
   "metadata": {},
   "outputs": [],
   "source": [
    "trace = go.Scatter(x = housing_data['median_income'],\n",
    "                   y = housing_data['median_house_value'],\n",
    "                   \n",
    "                   mode = 'markers',\n",
    "                   \n",
    "                   marker = dict(\n",
    "                                 size = housing_data['total_rooms'],\n",
    "                                 sizeref = 500, # Total Rooms are really large values.\n",
    "                                 # \"sizeref\" will divide all of the values by 500\n",
    "                                 # so that they will scale down to smaller numbers\n",
    "                                 # The proportion will be maintained.\n",
    "                                \n",
    "                                 color = housing_data['housing_median_age'],\n",
    "                                 colorscale = 'Jet',\n",
    "                                 showscale = True))"
   ]
  },
  {
   "cell_type": "code",
   "execution_count": 16,
   "metadata": {},
   "outputs": [],
   "source": [
    "data = [trace]\n",
    "\n",
    "layout = go.Layout(height = 600,\n",
    "                   width = 900,\n",
    "                  \n",
    "                   title = 'Housing Data',\n",
    "                   hovermode = 'closest')"
   ]
  },
  {
   "cell_type": "code",
   "execution_count": 14,
   "metadata": {},
   "outputs": [
    {
     "data": {
      "application/vnd.plotly.v1+json": {
       "config": {
        "linkText": "Export to plot.ly",
        "plotlyServerURL": "https://plot.ly",
        "showLink": false
       },
       "data": [
        {
         "marker": {
          "color": [
           16,
           19,
           31,
           36,
           40,
           42,
           26,
           35,
           20,
           18,
           15,
           36,
           37,
           36,
           17,
           36,
           7,
           32,
           25,
           9,
           38,
           41,
           52,
           46,
           37,
           37,
           24,
           33,
           40,
           52,
           17,
           52,
           13,
           26,
           14,
           50,
           15,
           32,
           15,
           3,
           12,
           23,
           44,
           10,
           36,
           20,
           20,
           34,
           19,
           14,
           21,
           35,
           33,
           52,
           26,
           30,
           30,
           32,
           32,
           42,
           44,
           16,
           20,
           46,
           35,
           34,
           22,
           31,
           18,
           22,
           36,
           36,
           32,
           43,
           25,
           14,
           49,
           33,
           24,
           52,
           33,
           28,
           36,
           21,
           21,
           4,
           9,
           26,
           25,
           18,
           11,
           28,
           52,
           22,
           17,
           37,
           52,
           18,
           15,
           42,
           37,
           45,
           28,
           29,
           52,
           41,
           36,
           20,
           38,
           44,
           41,
           36,
           16,
           26,
           48,
           28,
           52,
           36,
           24,
           5,
           40,
           52,
           37,
           17,
           23,
           34,
           39,
           31,
           52,
           26,
           29,
           29,
           33,
           26,
           35,
           33,
           5,
           38,
           13,
           36,
           18,
           32,
           29,
           52,
           34,
           17,
           15,
           26,
           3,
           20,
           20,
           20,
           18,
           2,
           11,
           18,
           32,
           10,
           34,
           45,
           9,
           20,
           34,
           18,
           52,
           23,
           50,
           52,
           32,
           19,
           16,
           15,
           26,
           45,
           14,
           36,
           33,
           24,
           37,
           8,
           43,
           13,
           14,
           34,
           26,
           38,
           22,
           7,
           52,
           8,
           44,
           26,
           17,
           41,
           34,
           20,
           35,
           21,
           52,
           21,
           16,
           21,
           26,
           22,
           27,
           35,
           29,
           18,
           14,
           34,
           23,
           34,
           34,
           14,
           18,
           44,
           31,
           19,
           39,
           19,
           29,
           35,
           31,
           35,
           14,
           9,
           52,
           34,
           52,
           25,
           5,
           25,
           26,
           29,
           27,
           48,
           17,
           8,
           31,
           25,
           33,
           27,
           24,
           40,
           28,
           28,
           23,
           35,
           48,
           27,
           52,
           25,
           37,
           42,
           11,
           16,
           34,
           52,
           25,
           34,
           49,
           18,
           36,
           37,
           32,
           19,
           25,
           25,
           43,
           20,
           40,
           33,
           22,
           23,
           25,
           49,
           23,
           21,
           35,
           35,
           22,
           27,
           31,
           44,
           26,
           26,
           40,
           14,
           43,
           34,
           10,
           24,
           4,
           31,
           16,
           35,
           30,
           14,
           52,
           27,
           42,
           6,
           36,
           26,
           16,
           20,
           36,
           43,
           46,
           21,
           22,
           8,
           35,
           32,
           42,
           42,
           37,
           52,
           14,
           47,
           25,
           42,
           31,
           17,
           52,
           29,
           37,
           35,
           7,
           33,
           41,
           48,
           27,
           45,
           6,
           9,
           33,
           30,
           10,
           28,
           28,
           9,
           47,
           44,
           37,
           28,
           37,
           46,
           40,
           13,
           27,
           29,
           32,
           20,
           47,
           42,
           32,
           14,
           9,
           15,
           42,
           43,
           30,
           24,
           32,
           12,
           20,
           52,
           37,
           52,
           7,
           3,
           30,
           36,
           21,
           19,
           17,
           31,
           25,
           31,
           52,
           16,
           36,
           38,
           33,
           37,
           25,
           49,
           38,
           31,
           9,
           13,
           22,
           18,
           17,
           30,
           52,
           15,
           28,
           35,
           46,
           32,
           22,
           17,
           34,
           22,
           15,
           17,
           32,
           31,
           23,
           52,
           21,
           24,
           4,
           30,
           26,
           32,
           38,
           32,
           29,
           36,
           42,
           45,
           29,
           13,
           46,
           17,
           32,
           32,
           39,
           22,
           17,
           18,
           39,
           22,
           40,
           48,
           14,
           19,
           37,
           34,
           37,
           31,
           30,
           34,
           29,
           24,
           35,
           52,
           44,
           15,
           51,
           52,
           35,
           16,
           20,
           38,
           34,
           17,
           3,
           17,
           24,
           2,
           48,
           17,
           52,
           21,
           16,
           24,
           4,
           34,
           40,
           9,
           27,
           18,
           38,
           39,
           20,
           24,
           26,
           18,
           52,
           34,
           46,
           36,
           15,
           39,
           42,
           12,
           15,
           9,
           35,
           19,
           14,
           35,
           16,
           42,
           33,
           20,
           25,
           45,
           28,
           6,
           14,
           9,
           45,
           50,
           43,
           32,
           30,
           15,
           21,
           47,
           41,
           30,
           38,
           52,
           43,
           40,
           17,
           12,
           44,
           28,
           37,
           33,
           35,
           26,
           23,
           28,
           44,
           27,
           52,
           37,
           25,
           36,
           48,
           43,
           16,
           39,
           52,
           42,
           26,
           42,
           11,
           52,
           52,
           33,
           14,
           26,
           24,
           17,
           17,
           42,
           52,
           35,
           48,
           47,
           42,
           15,
           35,
           52,
           25,
           34,
           25,
           13,
           42,
           4,
           21,
           32,
           30,
           33,
           34,
           25,
           44,
           9,
           29,
           25,
           26,
           27,
           40,
           35,
           21,
           43,
           19,
           36,
           32,
           21,
           23,
           46,
           26,
           15,
           37,
           41,
           18,
           34,
           30,
           45,
           33,
           35,
           16,
           16,
           34,
           31,
           12,
           25,
           36,
           14,
           49,
           52,
           42,
           43,
           19,
           22,
           5,
           13,
           37,
           41,
           28,
           12,
           27,
           26,
           6,
           50,
           23,
           30,
           34,
           7,
           4,
           44,
           29,
           52,
           11,
           16,
           16,
           26,
           11,
           35,
           17,
           50,
           37,
           37,
           52,
           35,
           23,
           29,
           22,
           26,
           24,
           44,
           15,
           15,
           12,
           43,
           36,
           26,
           8,
           44,
           52,
           52,
           31,
           15,
           22,
           33,
           23,
           25,
           31,
           52,
           1,
           5,
           31,
           37,
           44,
           24,
           49,
           52,
           52,
           15,
           28,
           32,
           47,
           15,
           30,
           37,
           13,
           37,
           17,
           31,
           48,
           40,
           43,
           47,
           41,
           43,
           33,
           34,
           25,
           52,
           44,
           2,
           16,
           31,
           6,
           25,
           44,
           14,
           6,
           29,
           30,
           30,
           25,
           40,
           44,
           12,
           15,
           27,
           17,
           21,
           15,
           12,
           21,
           49,
           50,
           19,
           14,
           21,
           6,
           20,
           19,
           36,
           17,
           20,
           25,
           52,
           23,
           30,
           22,
           24,
           32,
           21,
           40,
           24,
           51,
           23,
           37,
           29,
           36,
           15,
           15,
           17,
           32,
           30,
           52,
           17,
           44,
           16,
           22,
           52,
           7,
           41,
           23,
           14,
           32,
           52,
           22,
           52,
           10,
           27,
           36,
           42,
           23,
           16,
           32,
           13,
           23,
           17,
           38,
           43,
           44,
           4,
           18,
           13,
           24,
           44,
           16,
           28,
           6,
           31,
           26,
           17,
           20,
           10,
           40,
           17,
           20,
           16,
           49,
           36,
           38,
           38,
           39,
           15,
           19,
           4,
           24,
           14,
           52,
           4,
           21,
           29,
           41,
           21,
           31,
           16,
           17,
           36,
           39,
           5,
           36,
           52,
           36,
           29,
           34,
           30,
           35,
           41,
           23,
           33,
           8,
           3,
           36,
           13,
           52,
           47,
           34,
           47,
           25,
           33,
           28,
           14,
           47,
           36,
           29,
           12,
           35,
           17,
           14,
           32,
           36,
           27,
           29,
           6,
           35,
           16,
           6,
           25,
           48,
           30,
           14,
           25,
           33,
           45,
           24,
           33,
           44,
           18,
           5,
           22,
           31,
           31,
           43,
           7,
           42,
           33,
           42,
           23,
           20,
           32,
           28,
           38,
           33,
           22,
           16,
           32,
           35,
           27,
           22,
           24,
           42,
           52,
           17,
           41,
           38,
           4,
           19,
           36,
           40,
           42,
           37,
           28,
           35,
           36,
           41,
           35,
           32,
           52,
           17,
           8,
           16,
           21,
           25,
           52,
           39,
           18,
           15,
           36,
           36,
           23,
           44,
           18,
           32,
           35,
           48,
           25,
           5,
           20,
           34,
           36,
           52,
           44,
           40,
           19,
           45,
           41,
           33,
           5,
           21,
           23,
           3,
           21,
           16,
           30,
           13,
           17,
           44,
           31,
           14,
           5,
           16,
           20,
           12,
           32,
           26,
           21,
           24,
           30,
           40,
           12,
           24,
           6,
           34,
           36,
           52,
           13,
           23,
           29,
           22,
           13,
           37,
           30,
           7,
           38,
           5,
           28,
           35,
           29,
           14,
           9,
           9,
           5,
           19,
           46,
           4,
           34,
           43,
           21,
           37,
           33,
           30,
           25,
           43,
           25,
           17,
           39,
           29,
           14,
           10,
           19,
           30,
           36,
           18,
           4,
           28,
           27,
           33,
           22,
           16,
           31,
           46,
           18,
           5,
           35,
           20,
           52,
           14,
           34,
           34,
           16,
           47,
           43,
           19,
           30,
           30,
           25,
           16,
           34,
           41,
           6,
           26,
           31,
           26,
           18,
           25,
           39,
           16,
           52,
           9,
           32,
           32,
           37,
           36,
           52,
           32,
           33,
           19,
           32,
           34,
           17,
           15,
           18,
           36,
           29,
           19,
           15,
           21,
           35,
           12,
           42,
           52,
           9,
           30,
           8,
           21,
           23,
           37,
           20,
           28,
           13,
           35,
           11,
           14,
           36,
           16,
           24,
           30,
           6,
           16,
           16,
           36,
           29,
           31,
           4,
           50,
           44,
           15,
           34,
           37,
           44,
           17,
           31,
           19,
           29,
           17,
           28,
           33,
           39,
           15,
           32,
           20,
           29,
           32,
           52,
           23,
           22,
           30,
           27,
           31,
           27,
           36,
           41,
           47,
           17,
           23,
           45,
           17,
           39,
           33,
           5,
           43,
           19,
           30,
           34,
           42,
           17,
           39,
           26,
           21,
           41,
           18,
           24,
           36,
           52,
           34,
           17,
           32,
           21,
           22,
           21,
           18,
           30,
           52,
           27,
           52,
           31,
           25,
           52,
           44,
           21,
           26,
           35,
           13,
           11,
           14,
           7,
           16,
           40,
           36,
           25,
           27,
           25,
           28,
           42,
           37,
           26,
           15,
           15,
           41,
           34,
           30,
           32,
           41,
           48,
           19,
           23,
           52,
           18,
           29,
           26,
           29,
           15,
           46,
           23,
           20,
           47,
           29,
           24,
           32,
           15,
           36,
           52,
           28,
           46,
           26,
           20,
           22,
           16,
           12,
           25,
           15,
           29,
           44,
           24,
           19,
           52,
           18,
           32,
           18,
           15,
           26,
           10,
           15,
           26,
           30,
           35,
           43,
           52,
           11,
           23,
           20,
           33,
           44,
           26,
           25,
           43,
           48,
           28,
           37,
           52,
           19,
           40,
           38,
           40,
           14,
           19,
           18,
           43,
           17,
           32,
           52,
           49,
           9,
           16,
           40,
           35,
           21,
           21,
           16,
           28,
           39,
           19,
           28,
           37,
           19,
           22,
           26,
           41,
           45,
           52,
           34,
           34,
           47,
           27,
           24,
           13,
           9,
           36,
           24,
           17,
           48,
           35,
           38,
           19,
           5,
           14,
           52,
           41,
           5,
           33,
           52,
           15,
           17,
           23,
           52,
           11,
           42,
           47,
           26,
           21,
           35,
           45,
           27,
           5,
           21,
           19,
           30,
           36,
           22,
           23,
           34,
           42,
           23,
           17,
           35,
           17,
           23,
           40,
           18,
           16,
           33,
           14,
           42,
           13,
           52,
           16,
           52,
           16,
           10,
           19,
           39,
           21,
           5,
           9,
           23,
           33,
           52,
           33,
           15,
           24,
           11,
           20,
           49,
           17,
           9,
           52,
           4,
           46,
           32,
           35,
           43,
           16,
           32,
           15,
           52,
           17,
           26,
           40,
           21,
           49,
           29,
           19,
           36,
           24,
           21,
           43,
           24,
           52,
           9,
           27,
           28,
           5,
           28,
           26,
           21,
           37,
           19,
           47,
           40,
           24,
           14,
           43,
           31,
           15,
           9,
           48,
           32,
           40,
           20,
           49,
           14,
           19,
           26,
           24,
           27,
           27,
           25,
           14,
           36,
           23,
           22,
           34,
           34,
           36,
           21,
           12,
           21,
           43,
           35,
           52,
           33,
           33,
           31,
           40,
           33,
           19,
           21,
           28,
           5,
           36,
           35,
           11,
           39,
           20,
           37,
           52,
           52,
           24,
           52,
           17,
           39,
           28,
           23,
           30,
           29,
           7,
           33,
           41,
           26,
           34,
           16,
           12,
           52,
           17,
           33,
           34,
           24,
           39,
           50,
           52,
           50,
           26,
           5,
           12,
           51,
           40,
           31
          ],
          "colorscale": [
           [
            0,
            "rgb(0,0,131)"
           ],
           [
            0.2,
            "rgb(0,60,170)"
           ],
           [
            0.4,
            "rgb(5,255,255)"
           ],
           [
            0.6,
            "rgb(255,255,0)"
           ],
           [
            0.8,
            "rgb(250,0,0)"
           ],
           [
            1,
            "rgb(128,0,0)"
           ]
          ],
          "showscale": true,
          "size": [
           2947,
           1616,
           3533,
           1469,
           1565,
           510,
           1125,
           2501,
           2462,
           1643,
           1716,
           1191,
           621,
           1643,
           2142,
           1904,
           8596,
           2065,
           1851,
           2568,
           2965,
           1676,
           63,
           3238,
           1987,
           1383,
           1602,
           2677,
           1340,
           1540,
           1887,
           2513,
           2872,
           48,
           2413,
           3587,
           2857,
           2572,
           2782,
           1170,
           2213,
           2446,
           1218,
           516,
           1265,
           2332,
           2100,
           1541,
           1673,
           5320,
           2143,
           1945,
           2347,
           1145,
           2496,
           2281,
           2930,
           1991,
           604,
           525,
           1219,
           2483,
           1349,
           1777,
           2329,
           3296,
           1311,
           1161,
           2399,
           2711,
           5456,
           1493,
           1815,
           3889,
           4617,
           2591,
           1467,
           4104,
           1705,
           2005,
           1701,
           3983,
           561,
           7906,
           3891,
           5027,
           521,
           3670,
           2879,
           5505,
           5546,
           2932,
           1057,
           1162,
           4874,
           1462,
           1621,
           6075,
           644,
           2082,
           1024,
           2213,
           254,
           1694,
           3424,
           1425,
           1632,
           6201,
           4116,
           1494,
           1445,
           2987,
           324,
           1664,
           2476,
           2444,
           2167,
           931,
           2037,
           7264,
           1259,
           154,
           1699,
           2354,
           6184,
           1654,
           1323,
           2397,
           1703,
           2211,
           5154,
           3334,
           2821,
           3054,
           1062,
           1036,
           1519,
           2254,
           2084,
           786,
           10862,
           2885,
           2461,
           3217,
           2200,
           8005,
           2319,
           1382,
           12870,
           3189,
           1834,
           1176,
           2203,
           4055,
           4091,
           1994,
           2068,
           2387,
           2856,
           1718,
           3648,
           3425,
           2634,
           2705,
           2784,
           2216,
           1430,
           1000,
           2623,
           1983,
           2952,
           4836,
           1767,
           2021,
           2307,
           2058,
           2275,
           2069,
           2586,
           6246,
           1269,
           4808,
           2105,
           3041,
           3587,
           2202,
           2213,
           5664,
           391,
           2628,
           1325,
           1284,
           3675,
           1482,
           1797,
           2683,
           684,
           4559,
           1547,
           2050,
           2978,
           6198,
           5444,
           2520,
           1265,
           1193,
           1947,
           1746,
           1932,
           1014,
           2543,
           1830,
           2936,
           3400,
           2602,
           1856,
           2746,
           1867,
           1583,
           1403,
           1976,
           2914,
           372,
           2791,
           2443,
           3666,
           1567,
           325,
           2562,
           6296,
           1405,
           6964,
           2796,
           1929,
           1683,
           2381,
           4617,
           1904,
           981,
           2720,
           1775,
           2258,
           1380,
           1498,
           590,
           636,
           5759,
           365,
           1353,
           3990,
           2547,
           4561,
           3355,
           2863,
           5121,
           6510,
           1900,
           831,
           2691,
           2515,
           1969,
           8953,
           1158,
           821,
           2015,
           4043,
           1442,
           4044,
           2361,
           2303,
           2344,
           905,
           1058,
           4312,
           1025,
           3273,
           602,
           1185,
           2294,
           1296,
           3080,
           1426,
           334,
           495,
           2641,
           1647,
           1010,
           885,
           1241,
           3580,
           1686,
           1268,
           80,
           418,
           1328,
           3053,
           3162,
           1847,
           2269,
           669,
           3944,
           2918,
           1047,
           2830,
           4241,
           1911,
           1390,
           1237,
           206,
           7195,
           2823,
           3593,
           1230,
           1355,
           1700,
           1298,
           1161,
           2208,
           11442,
           1190,
           2402,
           1816,
           3037,
           2980,
           1070,
           1377,
           2216,
           1025,
           10223,
           4769,
           1379,
           1188,
           2937,
           2098,
           211,
           5455,
           1828,
           6540,
           2381,
           1246,
           1838,
           3466,
           508,
           2151,
           1958,
           2839,
           1644,
           2198,
           198,
           3839,
           1793,
           1243,
           2697,
           710,
           1150,
           2504,
           2388,
           1710,
           4838,
           4058,
           1239,
           4269,
           1729,
           4026,
           1153,
           782,
           1911,
           2166,
           1814,
           1135,
           6352,
           8874,
           249,
           361,
           1864,
           3337,
           4032,
           987,
           1880,
           1317,
           3069,
           1545,
           1435,
           1545,
           2109,
           2379,
           1566,
           1130,
           3195,
           2051,
           1931,
           2644,
           2105,
           2704,
           3391,
           3977,
           2275,
           2190,
           5274,
           1897,
           3022,
           2542,
           4020,
           1986,
           988,
           5661,
           1924,
           1481,
           1513,
           3473,
           2668,
           1596,
           1799,
           3002,
           7474,
           2748,
           3361,
           1981,
           2803,
           3250,
           3692,
           1370,
           1680,
           507,
           1315,
           9947,
           3581,
           3722,
           721,
           2455,
           2647,
           4232,
           4713,
           2626,
           1877,
           3526,
           3058,
           2764,
           1506,
           2611,
           903,
           2697,
           3881,
           1952,
           3306,
           1903,
           3422,
           2930,
           2400,
           1670,
           1870,
           3243,
           1637,
           567,
           1542,
           2574,
           1431,
           2398,
           1719,
           2255,
           6251,
           4422,
           1266,
           21897,
           1351,
           5544,
           1249,
           2868,
           2240,
           1966,
           1380,
           842,
           2186,
           7538,
           2565,
           4799,
           1036,
           2603,
           1193,
           1335,
           4822,
           975,
           1479,
           2185,
           1197,
           2024,
           3643,
           3008,
           4219,
           1430,
           2654,
           4632,
           2146,
           1127,
           4721,
           1225,
           2426,
           1291,
           4244,
           2595,
           3715,
           455,
           6909,
           3028,
           679,
           2782,
           1106,
           1845,
           4864,
           1962,
           1242,
           1199,
           10227,
           2085,
           3257,
           1120,
           2176,
           1573,
           1432,
           2631,
           1610,
           4174,
           1734,
           2823,
           932,
           1190,
           2104,
           3616,
           1920,
           2608,
           2236,
           1839,
           1190,
           2706,
           1799,
           1240,
           3436,
           1226,
           3757,
           1752,
           1878,
           1977,
           7005,
           1611,
           5500,
           4079,
           2164,
           2149,
           1956,
           2710,
           3794,
           3353,
           2721,
           1467,
           1121,
           2700,
           2387,
           2118,
           264,
           2209,
           802,
           2841,
           3066,
           2518,
           1914,
           5451,
           1413,
           966,
           2198,
           2893,
           1802,
           1221,
           3004,
           2037,
           863,
           4759,
           3740,
           1565,
           1983,
           777,
           1545,
           2494,
           2534,
           403,
           8501,
           3598,
           2491,
           2837,
           1100,
           1976,
           4257,
           4713,
           1365,
           1501,
           2436,
           1617,
           3745,
           1535,
           1115,
           1745,
           2512,
           3769,
           1770,
           3776,
           2914,
           1920,
           2099,
           2672,
           1283,
           90,
           1618,
           1536,
           1515,
           2272,
           1775,
           3682,
           2488,
           2394,
           1325,
           1086,
           1675,
           1757,
           6988,
           2236,
           2628,
           4198,
           1113,
           5954,
           9911,
           941,
           331,
           907,
           852,
           1334,
           2668,
           2372,
           1568,
           1717,
           5018,
           1487,
           4005,
           1053,
           3706,
           3079,
           952,
           749,
           5484,
           2469,
           1395,
           1321,
           2849,
           5736,
           2924,
           1587,
           923,
           6429,
           4913,
           1739,
           957,
           1968,
           1989,
           4221,
           1903,
           32,
           6876,
           3040,
           1177,
           1006,
           2062,
           2087,
           1732,
           2330,
           743,
           3442,
           2297,
           2025,
           1518,
           3023,
           1722,
           3999,
           2161,
           5957,
           977,
           953,
           1087,
           1137,
           1531,
           3808,
           1908,
           3092,
           1854,
           881,
           834,
           4994,
           1759,
           2629,
           1459,
           144,
           2337,
           227,
           2819,
           6854,
           10565,
           1728,
           932,
           2985,
           80,
           3873,
           3763,
           504,
           1026,
           2108,
           1917,
           10236,
           1926,
           1672,
           3889,
           2884,
           2460,
           4929,
           1283,
           1724,
           2009,
           3785,
           5514,
           1242,
           16431,
           1935,
           1317,
           4519,
           2076,
           3306,
           2244,
           2515,
           2145,
           146,
           3740,
           3935,
           1056,
           3250,
           1126,
           407,
           936,
           1724,
           2236,
           2430,
           2093,
           3045,
           1786,
           3087,
           1255,
           1871,
           1327,
           5593,
           2153,
           1416,
           2855,
           1739,
           8414,
           1941,
           2870,
           5106,
           1854,
           25,
           2920,
           2159,
           6435,
           2303,
           1380,
           1430,
           1843,
           3992,
           3868,
           5126,
           5679,
           3917,
           3966,
           940,
           1918,
           1862,
           8046,
           3216,
           4787,
           431,
           3154,
           1609,
           3769,
           1953,
           2023,
           3403,
           6541,
           1828,
           2198,
           4526,
           1767,
           2412,
           1610,
           3583,
           684,
           1156,
           2002,
           4644,
           2034,
           8574,
           1302,
           520,
           1665,
           9755,
           1556,
           3245,
           465,
           2103,
           4424,
           2638,
           2060,
           2210,
           2004,
           2618,
           3157,
           3563,
           1226,
           1326,
           2050,
           2260,
           2707,
           726,
           806,
           1724,
           831,
           6484,
           1311,
           3742,
           2318,
           2901,
           1403,
           504,
           1799,
           1730,
           1194,
           3731,
           1494,
           1376,
           1650,
           2772,
           2810,
           4393,
           3998,
           1875,
           322,
           3184,
           2793,
           2992,
           1613,
           1332,
           3819,
           3906,
           1798,
           3433,
           1671,
           6508,
           4032,
           1032,
           4092,
           898,
           1625,
           2550,
           1922,
           1910,
           1252,
           2265,
           2430,
           6126,
           1779,
           2557,
           3320,
           6859,
           2281,
           2643,
           3513,
           727,
           44,
           1824,
           2022,
           2701,
           1705,
           2215,
           354,
           1946,
           2532,
           107,
           2737,
           2090,
           818,
           1684,
           3244,
           3212,
           1382,
           1720,
           1073,
           1442,
           1716,
           3903,
           2125,
           1756,
           1293,
           1803,
           3053,
           2205,
           7268,
           6445,
           4061,
           801,
           642,
           3610,
           2897,
           1726,
           1680,
           1983,
           1618,
           3977,
           4089,
           1931,
           1601,
           1669,
           5807,
           1586,
           3559,
           3099,
           2612,
           2581,
           1966,
           1524,
           1222,
           1240,
           3581,
           2785,
           1779,
           2846,
           1206,
           1024,
           4367,
           2395,
           866,
           2124,
           1798,
           1616,
           3396,
           3151,
           2859,
           1534,
           2459,
           4013,
           1561,
           4185,
           6130,
           4426,
           1667,
           3189,
           3663,
           3725,
           2254,
           1822,
           2216,
           3480,
           1759,
           2240,
           2575,
           3075,
           1028,
           1765,
           4314,
           1838,
           4332,
           4169,
           932,
           889,
           5490,
           999,
           3995,
           5348,
           392,
           176,
           3274,
           1882,
           1220,
           1386,
           2232,
           2892,
           2201,
           1354,
           1523,
           661,
           2718,
           1553,
           1846,
           2991,
           4300,
           15990,
           2572,
           998,
           1810,
           2372,
           4287,
           1095,
           3140,
           2607,
           1866,
           1487,
           1231,
           1617,
           4034,
           1499,
           2973,
           2127,
           3155,
           2465,
           3268,
           1584,
           2046,
           1113,
           2890,
           724,
           1226,
           6082,
           1816,
           2131,
           2429,
           1485,
           3071,
           2712,
           2384,
           8099,
           1815,
           3670,
           1548,
           1193,
           2268,
           3661,
           1067,
           1568,
           1561,
           1860,
           1969,
           811,
           2086,
           3366,
           1478,
           4814,
           1011,
           1193,
           1018,
           2681,
           1907,
           1864,
           2284,
           1729,
           1321,
           993,
           2485,
           4877,
           1771,
           4983,
           554,
           204,
           1229,
           1066,
           2089,
           2566,
           2277,
           5873,
           6290,
           1176,
           2022,
           4865,
           1337,
           12779,
           1476,
           1006,
           3094,
           2085,
           1537,
           1533,
           1344,
           2846,
           1898,
           2169,
           3137,
           1297,
           3674,
           1611,
           7092,
           3108,
           4413,
           1499,
           3570,
           2199,
           2849,
           2685,
           1992,
           2385,
           1540,
           4309,
           3827,
           4311,
           5268,
           2630,
           2449,
           2676,
           921,
           2476,
           1250,
           1082,
           1086,
           1693,
           2052,
           1645,
           1486,
           2878,
           527,
           1366,
           3915,
           2159,
           2203,
           3173,
           698,
           1388,
           1034,
           3095,
           2873,
           3504,
           2283,
           3364,
           1865,
           2116,
           2962,
           4203,
           1249,
           2066,
           4078,
           1384,
           1560,
           1619,
           2425,
           2666,
           6612,
           2097,
           1008,
           427,
           1750,
           2768,
           4013,
           6341,
           1250,
           2529,
           5895,
           975,
           1463,
           5675,
           1145,
           3807,
           2347,
           2820,
           378,
           3165,
           1635,
           2203,
           1509,
           2959,
           1899,
           3357,
           830,
           1514,
           1028,
           2912,
           895,
           2677,
           4716,
           2893,
           1478,
           2102,
           1504,
           506,
           3960,
           1504,
           5650,
           3592,
           1587,
           4472,
           1210,
           979,
           4164,
           1388,
           2712,
           1465,
           4769,
           1868,
           4776,
           1295,
           3148,
           1207,
           724,
           3044,
           2265,
           2742,
           3208,
           2089,
           2723,
           1613,
           6121,
           212,
           4403,
           875,
           2053,
           1818,
           1510,
           1272,
           1651,
           7079,
           2673,
           3597,
           1917,
           2406,
           8272,
           1621,
           2405,
           1321,
           1566,
           857,
           5411,
           1417,
           3804,
           1867,
           1551,
           256,
           7923,
           500,
           3328,
           1164,
           1881,
           3783,
           1122,
           4221,
           2549,
           881,
           2483,
           6203,
           2092,
           2127,
           2309,
           2968,
           3109,
           2403,
           1931,
           3553,
           1156,
           2183,
           3490,
           1777,
           1078,
           432,
           1486,
           1297,
           7779,
           1713,
           6169,
           2523,
           1663,
           4199,
           1052,
           1851,
           1501,
           1085,
           187,
           810,
           2170,
           1608,
           7854,
           4924,
           3088,
           3244,
           2772,
           1658,
           1684,
           3761,
           1150,
           2344,
           3507,
           2429,
           1431,
           121,
           1245,
           761,
           2455,
           2398,
           4524,
           2225,
           3488,
           588,
           440,
           3008,
           1882,
           3939,
           2506,
           2803,
           545,
           1449,
           2404,
           2216,
           1239,
           3580,
           907,
           2937,
           3257,
           2722,
           1457,
           1831,
           6227,
           4741,
           915,
           4426,
           3785,
           3464,
           2600,
           1369,
           2111,
           2352,
           2357,
           1880,
           2204,
           1881,
           1785,
           5039,
           655,
           191,
           58,
           1393,
           3216,
           1936,
           1858,
           9653,
           719,
           8479,
           2102,
           1087,
           1463,
           2352,
           5541,
           1464,
           3443,
           2230,
           1554,
           4663,
           3298,
           2344,
           938,
           2594,
           2229,
           1797,
           4649,
           6190,
           3310,
           48,
           2692,
           299,
           2672,
           1265,
           930,
           3403,
           3666,
           3046,
           2348,
           1533,
           8185,
           2230,
           691,
           2936,
           1145,
           1560,
           3464,
           460,
           3179,
           3930,
           720,
           5484,
           2019,
           9425,
           1967,
           1663,
           3118,
           710,
           2125,
           2084,
           2226,
           1550,
           2787,
           1575,
           2142,
           2524,
           3260,
           1465,
           1331,
           1445,
           2517,
           7976,
           2106,
           1967,
           2167,
           2072,
           2052,
           7035,
           3278,
           2063,
           1629,
           1775,
           1602,
           4365,
           888,
           2889,
           1172,
           1038,
           1829,
           2582,
           2474,
           1777,
           2918,
           1440,
           2744,
           2677,
           1989,
           25957,
           409,
           3039,
           1866,
           2627,
           2059,
           1542,
           1172,
           1274,
           1407,
           2849,
           208,
           4992,
           2690,
           524,
           2055
          ],
          "sizeref": 500
         },
         "mode": "markers",
         "type": "scatter",
         "x": [
          3.6731,
          3.7857,
          5.5843,
          1.043,
          5.2035,
          2.5,
          4.825,
          1.4464,
          3.2321,
          5.1769,
          1.0612,
          2.5185,
          2.3333,
          4.1181,
          3.7059,
          2.0972,
          3.9054,
          4.4279,
          3.2937,
          5.4287,
          3.0241,
          4.7734,
          7.2423,
          6.1592,
          4.3203,
          2.5,
          1.7609,
          3.2048,
          3.4722,
          4.3125,
          2.5652,
          3.675,
          4.475,
          7.7197,
          2.7857,
          5.5106,
          4.6875,
          5,
          2.1935,
          8.0428,
          4.5568,
          2.6266,
          1.9688,
          4.2788,
          4.8929,
          2.1746,
          4.8187,
          2.56,
          2.7060000000000004,
          3.1393,
          3.9833,
          5.2162,
          3.4492,
          8.338,
          5.5413,
          3.6531,
          2.7813,
          2.0353,
          6.2037,
          2.6771,
          4.0417,
          5.5545,
          3.5417,
          4.45,
          3.8839,
          8.4802,
          2.2813,
          3.0114,
          5.2769,
          8.5407,
          4.7755,
          4.8646,
          1.7244,
          3.5529,
          2.9576,
          3.5774,
          4.3452,
          5.3506,
          2.4219,
          4.1029,
          5.4469,
          3.5147,
          1.4375,
          1.8937,
          5.5524,
          3.5507,
          5.1305,
          5.02,
          3.3864,
          5,
          3.7109,
          3.2417,
          2.4531,
          2.5875,
          2.444,
          5.1545,
          6.2223,
          5.22,
          3.2097,
          3.25,
          3.225,
          3.2806,
          4.8571,
          6.0501,
          3.9048,
          1.6731,
          4.2292,
          4.5744,
          3.5625,
          5.4035,
          2.6333,
          4.8013,
          2.4615,
          3.5192,
          10.6767,
          3.0179,
          1.6111,
          3.1667,
          0.9355,
          5.0443,
          1.8382,
          3.2875,
          4.3542,
          1.8369,
          10.1675,
          4.6389,
          3.1968,
          2.6641,
          1.1386,
          5.2649,
          3.2664,
          3.6548,
          2.5481,
          4.6944,
          2.7153,
          3.4107,
          10.3798,
          3.0812,
          3.2937,
          2.2321,
          2.4678,
          3.1795,
          4.8409,
          2.4398,
          1.8514,
          3.9722,
          3.125,
          2.7589,
          4.2429,
          7.5813,
          3.2125,
          2.375,
          2.25,
          4.2132,
          3.0139,
          2.7614,
          5.212000000000001,
          2.8882,
          3.2083,
          4.05,
          3.0992,
          6.2552,
          5.9401,
          2.7759,
          5.6402,
          4.559,
          9.532,
          1.4375,
          2.7159,
          6.6355,
          5.6063,
          2.1865,
          5.4787,
          2.7788,
          2.1652,
          3.8833,
          2.7452,
          2.5326,
          4.3214,
          2.7917,
          2.1447,
          3.6583,
          2.9934,
          4.5304,
          2.6392,
          6.8939,
          1.1912,
          5.8252,
          1.6471,
          5.3002,
          4.4211,
          2.5833,
          3.3882,
          8.8619,
          4.1339,
          1.7031,
          2.8393,
          3.2052,
          4.7721,
          4.84,
          6.5006,
          3.7796,
          2.7556,
          5.8898,
          5.3911,
          1.8652,
          2.1658,
          3.2560000000000002,
          3.6875,
          2.8864,
          5.9164,
          2.1182,
          3.7841,
          3.9926,
          1.9267,
          2.0984,
          3.5139,
          2.8929,
          3.0958,
          3.215,
          2.1782,
          2.9934,
          3.5547,
          2.5625,
          2.1111,
          4.6458,
          2.6914,
          5.5124,
          4.8854,
          4.5357,
          3.6037,
          5.2898,
          1.8355,
          5.5347,
          4.7069,
          8.0257,
          3.9224,
          5.7201,
          4.875,
          3.0958,
          4.6607,
          2.9937,
          4.2219,
          3.7974,
          1.8958,
          3.6161,
          3.0927,
          2.5588,
          2.4359,
          4.0439,
          8.2598,
          4.5581,
          7.2988,
          6.7138,
          4.7168,
          7.9943,
          2.2222,
          1.9464,
          3.9196,
          3.7381,
          3.8462,
          10.7372,
          4.7426,
          3.0125,
          6.1104,
          6.1504,
          4.6629,
          8.0837,
          3.4196,
          2.9,
          3.1923,
          2.7014,
          2.02,
          2.7667,
          3.875,
          4.275,
          3.5268,
          3.1917,
          4.0667,
          2.7432,
          2.9960000000000004,
          2.0673,
          0.7684,
          2.6667,
          4.1339,
          4.6875,
          3.8984,
          2.5966,
          2.8194,
          5.4065,
          2.1765,
          1.742,
          7.7197,
          2.775,
          5.0366,
          5.1589,
          2.8359,
          4.9271,
          4.7188,
          2.4659,
          4.1739999999999995,
          4.1406,
          1.712,
          6.1273,
          4.375,
          2.5156,
          2.5812,
          4.325,
          4.15,
          3.0912,
          5.1333,
          3.5227,
          2.1519999999999997,
          1.3444,
          2.9213,
          12.8483,
          4.4167,
          5.8408,
          2.6016,
          3.375,
          2.3194,
          5.1874,
          3.3445,
          3.1553,
          1.825,
          2.6573,
          3.8421,
          5.1995,
          5.4872,
          5.5798,
          2.6553,
          2.3125,
          5.4051,
          3.9615,
          1.9659,
          4.2321,
          4.4531,
          6.0663,
          2.6322,
          1.4397,
          5.2145,
          2.9926,
          1.9583,
          4.4583,
          2.8298,
          6.2135,
          3.3636,
          2.0542,
          4.5625,
          3.1875,
          4.925,
          1.8355,
          3.2546,
          4.0962,
          2.5192,
          3.0294,
          3.9331,
          4.7143,
          6.6536,
          7.5,
          1.983,
          9.0702,
          1.7,
          3.1327,
          2.825,
          2.8274,
          2.7647,
          4.131,
          5.0574,
          7.5418,
          4.9867,
          6.8588,
          4.5,
          5.5461,
          3.8194,
          5.0195,
          3.1728,
          2.9286,
          2.7298,
          7.4219,
          5.5634,
          4.5112,
          4.1439,
          3.825,
          1.4583,
          4.25,
          3.075,
          2.4597,
          3.1359,
          2.052,
          2.085,
          6.5338,
          2.213,
          2.0243,
          3.4028,
          2.6161,
          4.0652,
          1.875,
          3.57,
          5.7039,
          2.543,
          4.45,
          5.9639,
          7.2137,
          5.6047,
          3.7727,
          5.3886,
          3.6196,
          3.0469,
          2.6973,
          3.3669,
          3.6719,
          7.439,
          3.1087,
          8.7591,
          4.3472,
          3.9107,
          3.1204,
          4.119,
          4.6424,
          3.1726,
          2.6127,
          1.9167,
          2.6159,
          2.9375,
          5.422000000000001,
          4.1932,
          3.6027,
          1.6029,
          1.9732,
          4.2407,
          6.6539,
          4.8286,
          4.0167,
          3.875,
          5.6642,
          1.8156,
          5.1249,
          1.1301,
          2.3657,
          3.75,
          12.4291,
          7.3195,
          2.8621,
          2.8614,
          5.395,
          1.7075,
          3.5395,
          4.1312,
          2.9732,
          1.8932,
          5.5849,
          2.489,
          1.625,
          5.9145,
          3.3849,
          1.4821,
          5.2319,
          2.8438,
          2.875,
          8.4355,
          2.8285,
          1.4828,
          4.5432,
          3.5278,
          5.322,
          2.07,
          2.7846,
          6.0198,
          5.0318,
          4.7961,
          1.8355,
          2.8007,
          5.4625,
          4.5132,
          2.1182,
          3.2578,
          7.9096,
          1.9417,
          1.9469999999999998,
          4.2281,
          1.9562,
          2.945,
          2.1136,
          2.1714,
          3.8233,
          1.8533,
          9.2463,
          1.2387,
          2.6544,
          2.8393,
          6.3712,
          3.7813,
          6.3325,
          3.6895,
          3.4013,
          1.6444,
          1.9083,
          9.8214,
          5.6112,
          5.7705,
          4.9562,
          3.6875,
          4.4259,
          6.4214,
          2.9154,
          3.6625,
          2.8971,
          4.3393,
          2.6726,
          2.6607,
          3.6083,
          2.5212,
          1.2679,
          4.2415,
          2.2386,
          15.0001,
          5.0505,
          4.3333,
          2.0764,
          4.3594,
          4.551,
          2.5132,
          5.1733,
          4.375,
          2.6302,
          4.0096,
          3.1497,
          2.2109,
          2.1186,
          3.0833,
          3.55,
          2.0329,
          5.0719,
          3.0083,
          2.4931,
          4.275,
          4.9286,
          5.2001,
          3.1167,
          3.3348,
          2.5913,
          2.125,
          3.1923,
          4.1071,
          4.5913,
          3.2632,
          1.8816,
          6.5841,
          5,
          2.8068,
          5.1721,
          2.9798,
          6.6368,
          3.3929,
          1.4867,
          3.7562,
          2.1842,
          1.4063,
          15.0001,
          5.0077,
          3.9236,
          3.7880000000000003,
          4.7861,
          4.4562,
          2.6098,
          2.3625,
          5.2066,
          4.1098,
          3.1719,
          2.8125,
          3.7574,
          4.1857,
          11.0546,
          6.8879,
          4.8333,
          3.9628,
          3.4279,
          6.7123,
          1.6833,
          4.4643,
          4.0313,
          2.0575,
          4.6667,
          3.6523,
          7.8177,
          2.5639999999999996,
          4.9271,
          3.6953,
          2.2981,
          3.4047,
          7.5426,
          4.037,
          4.6806,
          6.1968,
          2.6182,
          3.2355,
          4.2411,
          2.5882,
          2.875,
          7.5975,
          3.9712,
          5,
          3.4421,
          2.3068,
          3.0368,
          1.4138,
          12.1579,
          3.3333,
          0.8054,
          3.1607,
          2.8,
          4.3906,
          8.8204,
          7.978,
          2.1875,
          2.551,
          4.3889,
          2.5833,
          2.4213,
          2.1579,
          3.4103,
          4.2224,
          4.0977,
          3.0952,
          3.6712,
          3.1654,
          3.2056,
          3.4237,
          3.6458,
          0.7069,
          2.2125,
          1.3971,
          3.7153,
          2.3393,
          1.4719,
          3.125,
          2.5197,
          2.7694,
          2.5139,
          6.4666,
          2.5833,
          6.6828,
          4.69,
          1.5208,
          2.4583,
          4.4375,
          1.9832,
          2.5301,
          4.2679,
          3.2841,
          6.4114,
          6.2475,
          1.9821,
          3.5687,
          3.1929,
          5.4413,
          2.9632,
          1.3672,
          3.3702,
          6.5645,
          2.3125,
          2.9559,
          4.5938,
          3.0963,
          2.3182,
          2.4937,
          2.7717,
          5.2636,
          5.4858,
          2.5208,
          2.0474,
          2.5819,
          2.0699,
          1.8388,
          4.2059,
          3.4018,
          3.3724,
          3.2228,
          6.0794,
          2.2734,
          6.2907,
          1.9866,
          1.9926,
          3.5326,
          3.2969,
          3.9073,
          4.625,
          3.5714,
          5.3377,
          2.5759,
          2.625,
          3.7321,
          5.5321,
          5.223,
          10.1241,
          3.35,
          1.0096,
          1.5156,
          3.1591,
          4.5461,
          3.5878,
          4.1797,
          3.375,
          3.6875,
          2.1602,
          3.125,
          2.1736,
          8.4888,
          1.9531,
          1.5625,
          3.1630000000000003,
          2.7391,
          4.747,
          3.3889,
          3.6786,
          4.5,
          4.05,
          6.4967,
          2.7262,
          2.3203,
          4.3977,
          3.1944,
          5.1514,
          3.8598,
          2.4922,
          5.2861,
          2.4814,
          4.526,
          2.8561,
          4.3281,
          5.7984,
          6.4524,
          3.5912,
          4.2054,
          2.3,
          1.3039,
          5.7951,
          3.9485,
          4.5,
          3.3158,
          6.0266,
          1.2852,
          1.3365,
          3.2016,
          3.0864,
          8.0957,
          3.1953,
          5.0527,
          6.4667,
          2.6635,
          2.0044,
          12.5902,
          7.2965,
          5.0072,
          5.1741,
          3.1312,
          2.4429,
          3.2794,
          3.0417,
          3.2301,
          3.9909,
          2.6406,
          1.625,
          2.0202,
          3.8897,
          5.575,
          3.2019,
          3.1667,
          3.3214,
          4.4695,
          6.7287,
          9.4667,
          9.5268,
          4.7695,
          5.2586,
          3.8409,
          2.3056,
          2.8542,
          7.745,
          6.5515,
          3.0859,
          12.9758,
          3.2833,
          1.9805,
          1.1125,
          4.1875,
          2.4906,
          2.8125,
          3.6354,
          2.1339,
          4.5943,
          1.0951,
          5.6885,
          6.5394,
          4.5086,
          2.6983,
          3.9745,
          2.0114,
          2.5147,
          1.7257,
          3.3654,
          6.5285,
          5.1036,
          3.7917,
          2.2857,
          1.9946,
          5.6501,
          2.4667,
          2.1927,
          2.0893,
          1.6178,
          4.1364,
          8.1163,
          1.9886,
          2.1715,
          1.875,
          4.1053,
          4.5833,
          3.3702,
          4.5699,
          6.5474,
          2.8333,
          5.0323,
          3.9018,
          3.7885,
          5.9291,
          5.118,
          3.375,
          4.5881,
          3.4545,
          7.316,
          7.1754,
          2.1366,
          3.8409,
          3.6607,
          8.289,
          3.7277,
          2.3281,
          3.1369,
          3.125,
          3.5403,
          2.2287,
          3.8068,
          3.59,
          5.6876,
          3.4138,
          3.5769,
          4.6111,
          3.5529,
          1.4240000000000002,
          2.246,
          3.4722,
          6.0226,
          5.8718,
          5.6765,
          1.0972,
          4.5817,
          3.1389,
          4.2348,
          4.3468,
          3.6389,
          4.1378,
          2.6897,
          2.0523,
          8.7939,
          2.0474,
          4.8173,
          4.6042,
          3.4583,
          2.898,
          4.9005,
          2.8892,
          2.9196,
          1.9809,
          2.5395,
          2.5735,
          2.5352,
          3.8095,
          2.4653,
          4.125,
          2.3365,
          8.4112,
          1.6716,
          2.3421,
          1.9257,
          2.1458,
          3.5507,
          2.875,
          0.7917,
          2.5797,
          1.9706,
          1.0531,
          4.2396,
          5.8369,
          6.46,
          11.7045,
          1.8611,
          2.7109,
          1.8413,
          5.5737,
          2.655,
          2.9943,
          3.6,
          1.1786,
          6.1739999999999995,
          3.4741,
          6.0266,
          3.3703,
          2.5841,
          7.1572,
          2.1971,
          1.2083,
          3.9784,
          3.3906,
          5.5767,
          4.66,
          6.3199,
          2.875,
          4.1399,
          4.1675,
          3.7292,
          3.0642,
          5.75,
          2.4012,
          6.5483,
          6.6959,
          3.4784,
          7.2354,
          5.397,
          3.7109,
          1.5122,
          5.539,
          3.3482,
          4.3429,
          3.39,
          2.4414,
          3.733,
          5.1589,
          2.101,
          4.0214,
          3.7045,
          2.875,
          1.1346,
          4.75,
          2.9097,
          7.3982,
          5.5773,
          3.0396,
          6.2715,
          7.1736,
          3.3689,
          5.477,
          3.0481,
          2.9167,
          3.2739999999999996,
          3.1406,
          5.2989999999999995,
          3.2757,
          2.3214,
          2.5,
          1.3801,
          4.5469,
          6.1642,
          1.8125,
          2.3317,
          1.4274,
          2.8558,
          3.5035,
          2.8125,
          8.2037,
          1.6797,
          4.0417,
          2.331,
          2.7014,
          4.9609,
          6.5253,
          2.125,
          3.3239,
          11.0567,
          6.0426,
          2.2361,
          8.1611,
          3.6509,
          3.6442,
          6.5226,
          2.5587,
          5.3727,
          4.1136,
          6.629,
          3.2031,
          1.7566,
          15.0001,
          1.4419,
          2.63,
          3.5139,
          2.8208,
          7.7848,
          3.4861,
          4.0208,
          5.2227,
          5.1112,
          8.5677,
          2.6548,
          6.5044,
          5.0427,
          5.3363,
          5.2312,
          4.1023,
          8.9021,
          3.8065,
          3.83,
          3.0645,
          3.3906,
          4.1964,
          1.9722,
          6.8482,
          6.0302,
          2.6292,
          1.1434,
          2.6696,
          3.3333,
          4.2875,
          3.6486,
          4.235,
          2.113,
          3.0091,
          3.2222,
          2.9318,
          1.942,
          4.8185,
          2.4728,
          5.4243,
          4.4081,
          3.5652,
          3.1741,
          2.6607,
          3.0687,
          2.8438,
          2.9605,
          6.2778,
          2.9554,
          4.4659,
          1.6724,
          2.8042,
          2.5401,
          2.0557,
          3.2369,
          2.7045,
          7.5594,
          10.5045,
          3.075,
          6.0332,
          7.2379,
          4.8929,
          2.5321,
          4.0062,
          10.8082,
          6.8591,
          2.4421,
          1.5885,
          6.9454,
          2.3516,
          9.7646,
          7.0175,
          3.1607,
          2.3633,
          4.1518,
          4.75,
          3.5504,
          6.7371,
          1.6382,
          2.5655,
          4.2852,
          5.0374,
          3.8661,
          5.3259,
          3.2386,
          4.2143,
          5.6017,
          1.9722,
          7.5696,
          4.5125,
          3.8839,
          4.4792,
          3.2222,
          3.0156,
          2.5875,
          6.3131,
          1.681,
          2.1006,
          4.3333,
          6.9772,
          2.4539,
          4.9562,
          4.5893,
          2.7587,
          2.5473,
          3.6516,
          3.8421,
          3.2857,
          4.6781,
          3.0742,
          9.8177,
          4.015,
          2.8203,
          2.6328,
          4.3047,
          1.9224,
          3.4531,
          4.0417,
          3.9868,
          2.4609,
          3.6923,
          2.6902,
          1.5536,
          3.5647,
          1.7179,
          2.5,
          4.0625,
          3.6339,
          4.1995,
          2.8385,
          6.7079,
          2.2356,
          1.8015,
          10.7237,
          1.4524,
          5.1702,
          4.6719,
          2.8793,
          2.1343,
          5.542999999999999,
          3.5625,
          2.2243,
          5.3441,
          2.5261,
          3.267,
          10.8034,
          3.0132,
          2.5125,
          4.3,
          5.8587,
          2.4432,
          8.3912,
          2.9899,
          2.8654,
          11.3283,
          4.5673,
          3.6193,
          4.625,
          4.8554,
          2.35,
          4.7853,
          7.3669,
          0.9889,
          3.25,
          3.9352,
          5.716,
          3.6518,
          4.4167,
          4.5083,
          2.1912,
          1.5908,
          1.2745,
          4.9783,
          4.0893,
          6.348,
          1.6034,
          4.2685,
          6.3824,
          2.1607,
          3.6364,
          5.9174,
          3.875,
          2.5067,
          2.7260000000000004,
          13.466,
          1.8781,
          7.3141,
          4.3919,
          7.1366,
          3.0441,
          1.4625,
          2.8192,
          6.7247,
          3.375,
          2.5,
          4.0039,
          5.1675,
          2.7483,
          4.6458,
          5.6513,
          3.0625,
          2.4167,
          2.9559,
          2.9184,
          2.7157,
          3.0466,
          1.9531,
          3.9167,
          4.131,
          9.2327,
          8.1124,
          3.8162,
          2.234,
          3.5885,
          3.6875,
          2.3496,
          6.0622,
          3.0125,
          0.9288,
          3.6546,
          4.3036,
          3.5989999999999998,
          1.9063,
          1.6806,
          3.0735,
          2.625,
          5.3963,
          12.4237,
          4.9079,
          10.0973,
          2.92,
          3.375,
          4.9808,
          3.2793,
          0.987,
          3.1324,
          2.4259,
          2.1439,
          1.7207,
          3.775,
          5.3269,
          3.5403,
          3.3125,
          2.9861,
          1.1917,
          6.871,
          6.3013,
          2.0536,
          2.3816,
          2.9469,
          3.6654,
          7.1273,
          7.7201,
          3.0461,
          2.5763,
          3.1677,
          5.3339,
          3.5789,
          2,
          2.6979,
          5.8505,
          2.2716,
          1.6902,
          3.4472,
          3.6729,
          4.5083,
          5.5435,
          1.755,
          2.4643,
          2.1764,
          2.662,
          5.1047,
          3.5179,
          10.7721,
          6.1228,
          1.6585,
          3.2361,
          2.0848,
          3.9091,
          1.8,
          3.1094,
          10.4286,
          4.6125,
          4.9504,
          3.233,
          2.8553,
          7.7854,
          2.6275,
          3.35,
          4.1467,
          3.4598,
          3.6875,
          3.4777,
          6.7206,
          3.225,
          6.8109,
          2.9821,
          1.2668,
          0.7526,
          3.7596,
          2.7727,
          2.8889,
          2.5547,
          7.1687,
          1.2056,
          5.2327,
          3.3710000000000004,
          2.9091,
          6.7927,
          3.8472,
          1.7958,
          1.4861,
          2.7222,
          2.995,
          2.7316,
          3.5208,
          2.6637,
          1.2875,
          2.6487,
          4.5523,
          2.8447,
          2.0089,
          3.8426,
          4.106,
          4.3723,
          1.8894,
          4.1,
          3.2829,
          3.3026,
          8.7394,
          4.0341,
          4.775,
          4.9583,
          3.1755,
          2.1836,
          2.3693,
          1.8589,
          3.5208,
          6.2323,
          7.8528,
          2.0455,
          3.375,
          2.8125,
          2.0025,
          5.4791,
          3.5625,
          3.7361,
          1.8456,
          3.7239999999999998,
          3.6827,
          2.5875,
          3.5536,
          3.238,
          5.5777,
          4.25,
          4.7404,
          1.6865,
          4.2135,
          1.4418,
          2.1507,
          1.6504,
          1.642,
          3.0265,
          5.5111,
          5.9196,
          3.2674,
          4.4034,
          4.5401,
          2.375,
          4.5417,
          1.3125,
          1.9797,
          2.6364,
          1.3281,
          4.775,
          10.1316,
          3.4583,
          1.3222,
          2.5625,
          4.1667,
          2.3944,
          4.125,
          2.1139,
          3.1103,
          2.925,
          4.0668,
          1.6089,
          4.1947,
          6.3767,
          2.5313,
          2.1927,
          3.2619,
          2.6298,
          4.4948,
          5.5931,
          10.3653,
          2.7734,
          5.6315,
          3.2717,
          2.2604,
          7.226,
          2.7043,
          2.8512,
          5.7051,
          3.4073,
          3.5078,
          3.9464,
          4.1827,
          3.8913,
          5.0785,
          5.6396,
          1.9913,
          4.9583,
          4.0114,
          2.8702,
          1.9625,
          3.4827,
          6.2917,
          2.5035,
          6.1333,
          4.3125,
          5.0489999999999995,
          4.5814,
          3.875,
          3.8547,
          2.16,
          2.5875,
          4.8092,
          2.8281,
          2.8833,
          1.4653,
          5.5208,
          2.875,
          4.2639,
          6.1444,
          6.2715,
          4.542,
          1.6971,
          3.9531,
          4.5461,
          4.7731,
          2.3971,
          1.7167,
          3.1442,
          2.1905,
          2.29,
          2.6893,
          2.5333,
          6.2079,
          3.6581,
          1.7188,
          3.0915
         ],
         "y": [
          318000,
          78600,
          384600,
          90100,
          485700,
          73000,
          181000,
          113200,
          162500,
          133000,
          300000,
          138800,
          122800,
          172700,
          146300,
          187500,
          80900,
          226400,
          135300,
          331600,
          166300,
          450800,
          350000,
          381700,
          232800,
          207100,
          99300,
          261800,
          135400,
          243000,
          165300,
          269900,
          102400,
          400000,
          77400,
          252200,
          189800,
          287600,
          183300,
          500001,
          170100,
          198500,
          173900,
          125000,
          156200,
          58700,
          90900,
          250000,
          64800,
          116300,
          162500,
          171900,
          264300,
          405800,
          302100,
          166300,
          118900,
          113600,
          205400,
          67000,
          170600,
          214200,
          96600,
          348300,
          224900,
          500001,
          67300,
          177000,
          293900,
          398800,
          280700,
          213200,
          111200,
          223000,
          108500,
          113900,
          260100,
          388100,
          137500,
          500001,
          274700,
          313900,
          165000,
          109800,
          279200,
          186100,
          158900,
          169600,
          197400,
          269700,
          199800,
          210800,
          229000,
          81300,
          90000,
          418400,
          500001,
          399400,
          71300,
          185300,
          147500,
          164200,
          237500,
          254200,
          164700,
          88200,
          179500,
          314000,
          96500,
          356300,
          170800,
          224100,
          137500,
          190500,
          500001,
          198800,
          74700,
          158000,
          112500,
          194800,
          126400,
          275000,
          179800,
          59400,
          500001,
          214600,
          151000,
          185200,
          74100,
          199800,
          142900,
          180300,
          150800,
          171100,
          265500,
          110400,
          500001,
          233100,
          114200,
          37500,
          74300,
          125600,
          244000,
          163100,
          66500,
          313400,
          115600,
          137500,
          147300,
          374100,
          251000,
          177700,
          103200,
          96500,
          199000,
          237500,
          201200,
          137500,
          76200,
          284900,
          142600,
          296400,
          315300,
          200000,
          209800,
          116800,
          483300,
          168800,
          68000,
          276100,
          320500,
          129300,
          198100,
          115400,
          37500,
          210400,
          98100,
          139100,
          342700,
          98200,
          133300,
          183200,
          118200,
          181300,
          287500,
          455900,
          170000,
          264700,
          95000,
          191700,
          324000,
          62300,
          190800,
          500001,
          187300,
          64600,
          272000,
          179000,
          217100,
          116400,
          237700,
          159000,
          213200,
          242800,
          281200,
          116100,
          57600,
          183300,
          93200,
          172500,
          237400,
          68900,
          176900,
          92500,
          67500,
          158000,
          192800,
          98100,
          145800,
          104600,
          126800,
          350000,
          200000,
          62700,
          116700,
          217000,
          366700,
          174300,
          330600,
          188400,
          187500,
          177100,
          61200,
          500001,
          176900,
          500001,
          230600,
          155700,
          232400,
          137800,
          187900,
          81100,
          162800,
          228700,
          85700,
          131300,
          140600,
          78800,
          123700,
          500001,
          500001,
          500001,
          500001,
          368600,
          223200,
          452100,
          75000,
          249000,
          142700,
          165000,
          231300,
          500001,
          242700,
          130400,
          240700,
          268400,
          162500,
          380600,
          302200,
          176100,
          191900,
          108200,
          87500,
          153200,
          137500,
          227600,
          146400,
          204500,
          276900,
          135200,
          126100,
          118800,
          153100,
          179200,
          222300,
          274400,
          170500,
          109300,
          81300,
          243800,
          128400,
          118800,
          193800,
          120800,
          257800,
          439200,
          80300,
          155300,
          335300,
          231300,
          394400,
          178200,
          82100,
          289600,
          166500,
          59300,
          200000,
          166000,
          265000,
          126300,
          207200,
          93100,
          170800,
          45600,
          305000,
          500001,
          158000,
          500000,
          121200,
          198300,
          52900,
          230800,
          92900,
          250000,
          133000,
          252800,
          174000,
          500001,
          203400,
          338200,
          183100,
          125700,
          273500,
          268600,
          500001,
          162800,
          500001,
          372600,
          140700,
          51700,
          229200,
          158200,
          92600,
          397100,
          71200,
          217200,
          257700,
          103400,
          100000,
          99800,
          240300,
          74200,
          134100,
          214100,
          110400,
          135700,
          187600,
          150700,
          307800,
          316400,
          63300,
          500001,
          85900,
          218100,
          67600,
          79500,
          163000,
          314300,
          240800,
          492000,
          181700,
          302000,
          92800,
          262500,
          125700,
          200200,
          146800,
          151800,
          103400,
          500001,
          500001,
          139000,
          212600,
          96400,
          53000,
          172100,
          165100,
          93800,
          350000,
          108900,
          92600,
          267900,
          87500,
          82300,
          91000,
          132500,
          421300,
          122300,
          109800,
          199400,
          220700,
          263600,
          262300,
          401900,
          205100,
          159700,
          125300,
          163400,
          82700,
          135200,
          158900,
          227900,
          500001,
          202800,
          434700,
          185000,
          190700,
          204200,
          128800,
          312700,
          198700,
          69600,
          136400,
          272900,
          144800,
          316600,
          269200,
          211900,
          89700,
          69400,
          433800,
          284900,
          158500,
          189600,
          410000,
          237000,
          218800,
          432400,
          78500,
          94000,
          174400,
          500001,
          367500,
          196900,
          145200,
          241900,
          86900,
          127900,
          193800,
          282100,
          136100,
          257400,
          119100,
          187500,
          236900,
          96900,
          143300,
          500001,
          139300,
          129800,
          467600,
          171300,
          73100,
          151300,
          339800,
          282700,
          136300,
          91200,
          289600,
          134500,
          168800,
          63000,
          257100,
          223600,
          259900,
          71300,
          184200,
          500001,
          38800,
          68900,
          206000,
          192500,
          431400,
          57300,
          190600,
          139800,
          57500,
          500001,
          212800,
          128100,
          104400,
          369800,
          184900,
          250000,
          239300,
          176500,
          103400,
          119200,
          500001,
          308000,
          247100,
          165700,
          353900,
          158000,
          340600,
          203300,
          190700,
          127800,
          217300,
          70400,
          169300,
          180100,
          145200,
          56700,
          409600,
          87200,
          500001,
          380400,
          303900,
          145600,
          349000,
          178300,
          163100,
          198100,
          177600,
          81300,
          165000,
          217600,
          73200,
          94400,
          219300,
          214600,
          225000,
          220000,
          163500,
          170300,
          256800,
          307000,
          235600,
          121600,
          122800,
          151600,
          132500,
          221800,
          145800,
          500001,
          306000,
          65800,
          306400,
          175200,
          95300,
          237100,
          204800,
          500001,
          75700,
          124000,
          321200,
          107900,
          61500,
          500001,
          185000,
          335000,
          134200,
          210700,
          206200,
          162500,
          233000,
          500001,
          246600,
          140600,
          173500,
          92700,
          198600,
          487200,
          500001,
          277200,
          215600,
          84700,
          354600,
          40000,
          308100,
          385300,
          67000,
          384600,
          158500,
          500001,
          145800,
          209700,
          150000,
          112100,
          294500,
          294800,
          156900,
          209400,
          344700,
          172600,
          214200,
          371700,
          258300,
          143800,
          369100,
          187500,
          354200,
          155300,
          132300,
          129300,
          52500,
          500001,
          276800,
          60000,
          182000,
          153300,
          241200,
          390500,
          223900,
          119700,
          59100,
          380400,
          54400,
          132500,
          450000,
          90900,
          125700,
          322100,
          157700,
          308600,
          155000,
          134100,
          113700,
          325800,
          70300,
          104000,
          134400,
          229800,
          90300,
          88600,
          77500,
          225600,
          161900,
          219000,
          348200,
          112500,
          370900,
          199300,
          89000,
          136900,
          500001,
          122100,
          192900,
          331800,
          158300,
          278700,
          331300,
          98300,
          120700,
          265200,
          187900,
          286300,
          55000,
          370000,
          189100,
          128600,
          288400,
          112500,
          156900,
          182100,
          66000,
          500000,
          191300,
          187800,
          60000,
          56000,
          209600,
          183000,
          175000,
          350000,
          204500,
          137900,
          232500,
          338500,
          88700,
          253100,
          177400,
          81500,
          262500,
          189000,
          91600,
          173900,
          84600,
          373800,
          225000,
          111300,
          167500,
          500001,
          209200,
          500001,
          237500,
          162500,
          75800,
          434700,
          270800,
          222800,
          141000,
          133700,
          178100,
          65200,
          65000,
          72100,
          500001,
          100000,
          52800,
          137800,
          140300,
          261100,
          68500,
          159700,
          234300,
          177900,
          387500,
          109800,
          163500,
          353600,
          213500,
          436700,
          174400,
          243800,
          195100,
          74600,
          148700,
          179100,
          145700,
          297600,
          296900,
          284900,
          150700,
          206300,
          77500,
          226900,
          230000,
          234400,
          125900,
          216700,
          150000,
          183300,
          97000,
          177900,
          500001,
          85700,
          231400,
          216800,
          113600,
          212500,
          500001,
          342900,
          236200,
          227700,
          91000,
          228800,
          92500,
          113700,
          189900,
          236000,
          156700,
          118800,
          71100,
          218400,
          132200,
          203600,
          122900,
          148800,
          214700,
          299300,
          500001,
          437900,
          291700,
          137000,
          291400,
          62300,
          126500,
          237400,
          319600,
          167800,
          500001,
          233300,
          92900,
          206300,
          217600,
          122500,
          83500,
          162900,
          78500,
          123500,
          65800,
          268200,
          272000,
          171100,
          260100,
          170800,
          131300,
          137100,
          91500,
          222100,
          300400,
          103400,
          90500,
          500001,
          156900,
          254900,
          81400,
          253300,
          112500,
          137500,
          412000,
          365800,
          119200,
          131100,
          127300,
          171400,
          190700,
          335700,
          170800,
          422900,
          155700,
          222400,
          91500,
          156900,
          284600,
          195200,
          350000,
          136400,
          161200,
          285400,
          362900,
          101900,
          163000,
          160600,
          372400,
          500001,
          85800,
          119600,
          172700,
          195400,
          140000,
          161000,
          200600,
          246500,
          126700,
          103800,
          139300,
          133900,
          73200,
          183300,
          243100,
          192900,
          201400,
          265100,
          104500,
          500001,
          248700,
          157800,
          425900,
          186600,
          216500,
          148300,
          133900,
          500001,
          61300,
          115800,
          220700,
          186300,
          121400,
          264000,
          159800,
          208800,
          104600,
          109200,
          130500,
          184400,
          119900,
          49500,
          212500,
          69600,
          286900,
          123800,
          154200,
          135300,
          34400,
          257900,
          177500,
          22500,
          183500,
          144200,
          65700,
          90600,
          255700,
          425500,
          500001,
          60500,
          133000,
          62300,
          214500,
          86300,
          190600,
          193500,
          45600,
          358800,
          245800,
          177400,
          228700,
          112500,
          294900,
          275000,
          92600,
          113500,
          303700,
          218100,
          244800,
          236700,
          82700,
          115400,
          142500,
          168100,
          342900,
          176600,
          159400,
          335000,
          411200,
          105500,
          391100,
          341700,
          198800,
          47500,
          396900,
          318100,
          214300,
          149500,
          71900,
          163500,
          167800,
          46700,
          139500,
          212300,
          70200,
          137500,
          355800,
          210900,
          369100,
          109000,
          124300,
          97200,
          262100,
          83400,
          209100,
          210000,
          102700,
          148300,
          417600,
          226800,
          186000,
          247000,
          162500,
          56600,
          381000,
          277800,
          93500,
          172500,
          90500,
          97100,
          238600,
          70200,
          500001,
          60700,
          146400,
          65500,
          156700,
          186700,
          216800,
          151800,
          91300,
          495400,
          110000,
          93800,
          348000,
          173200,
          186300,
          258500,
          87800,
          360900,
          279900,
          352400,
          144600,
          49000,
          500001,
          45500,
          156000,
          146800,
          139900,
          500001,
          177200,
          191500,
          213500,
          170900,
          500001,
          123200,
          350400,
          126900,
          212800,
          197600,
          226800,
          500001,
          146000,
          149000,
          106000,
          300000,
          258100,
          116100,
          308300,
          273100,
          182700,
          91300,
          185100,
          247900,
          500001,
          246900,
          156300,
          102100,
          70800,
          139600,
          112400,
          86200,
          157900,
          88300,
          214700,
          435200,
          119000,
          163800,
          91500,
          63500,
          181700,
          129400,
          309700,
          136500,
          138100,
          96900,
          236100,
          125400,
          225000,
          167800,
          190600,
          500001,
          500001,
          215800,
          244900,
          251000,
          212500,
          197200,
          153800,
          500001,
          352400,
          222100,
          154200,
          276500,
          47500,
          500001,
          366700,
          119300,
          198400,
          91800,
          197000,
          173800,
          267400,
          105000,
          116400,
          173500,
          165400,
          168100,
          216400,
          112500,
          146900,
          430000,
          99200,
          328700,
          195400,
          327200,
          212500,
          218700,
          270300,
          68900,
          436400,
          145500,
          74800,
          170800,
          383300,
          115000,
          238700,
          190000,
          228600,
          101600,
          130500,
          220700,
          193200,
          500001,
          57900,
          500001,
          186700,
          195200,
          110300,
          152100,
          94000,
          263900,
          265300,
          281900,
          219600,
          159700,
          94400,
          155000,
          251800,
          132000,
          63600,
          141700,
          98600,
          147400,
          192200,
          250800,
          119500,
          62000,
          500001,
          51700,
          265400,
          337000,
          118100,
          400000,
          305900,
          180800,
          89200,
          193500,
          375000,
          176200,
          500001,
          142600,
          270800,
          226400,
          494700,
          101100,
          419000,
          228100,
          176800,
          500001,
          190400,
          250000,
          248800,
          206700,
          95700,
          153100,
          187500,
          87500,
          179200,
          232900,
          348300,
          164300,
          425000,
          405200,
          112500,
          78600,
          92900,
          163900,
          223000,
          500001,
          84400,
          216600,
          500001,
          96100,
          252800,
          225900,
          182600,
          232600,
          208700,
          500001,
          147500,
          337100,
          157100,
          273900,
          193800,
          94200,
          162500,
          333800,
          178100,
          175900,
          148900,
          270600,
          218800,
          212100,
          227900,
          93800,
          192000,
          163200,
          100500,
          350000,
          159600,
          61100,
          265600,
          123800,
          461300,
          500001,
          235000,
          61700,
          191900,
          186000,
          68000,
          390000,
          111700,
          36600,
          186200,
          282100,
          176500,
          261600,
          141700,
          212300,
          97400,
          500001,
          500001,
          234100,
          500001,
          242200,
          257800,
          263100,
          174500,
          112500,
          132000,
          164600,
          60200,
          105100,
          163300,
          375000,
          98600,
          150000,
          81500,
          86900,
          500001,
          500001,
          55000,
          116000,
          111600,
          184500,
          346300,
          362700,
          216900,
          173900,
          453400,
          371700,
          120300,
          72100,
          266700,
          417100,
          350000,
          61500,
          225400,
          137800,
          188000,
          136000,
          74100,
          244400,
          135300,
          92400,
          157900,
          207800,
          500001,
          375700,
          92900,
          84000,
          135200,
          276000,
          154200,
          136100,
          500001,
          361700,
          214800,
          99400,
          360700,
          395300,
          142100,
          85400,
          175000,
          74600,
          171500,
          230600,
          344600,
          229400,
          401000,
          325000,
          225000,
          162500,
          381300,
          186800,
          335300,
          150400,
          384400,
          87500,
          500001,
          165000,
          141900,
          234700,
          197600,
          140400,
          95100,
          161200,
          124300,
          97500,
          195800,
          175000,
          179200,
          196000,
          500001,
          87700,
          68100,
          344400,
          115900,
          135600,
          112500,
          158300,
          162500,
          119100,
          500001,
          156500,
          148200,
          445700,
          81700,
          162000,
          127000,
          144000,
          251200,
          339100,
          337500,
          72500,
          106300,
          229900,
          54700,
          285900,
          211600,
          197200,
          103100,
          131600,
          236800,
          144500,
          71400,
          287500,
          279300,
          284100,
          207500,
          58800,
          161400,
          103500,
          221500,
          151800,
          32500,
          350000,
          196300,
          500001,
          129100,
          133200,
          166900,
          71300,
          238900,
          145800,
          85800,
          93500,
          113300,
          191900,
          500001,
          183700,
          51400,
          146100,
          197700,
          130700,
          175900,
          70900,
          281900,
          246900,
          137500,
          162500,
          222700,
          269000,
          61300,
          116700,
          183800,
          145200,
          190600,
          217600,
          500001,
          141100,
          484600,
          130700,
          126300,
          255300,
          186200,
          181000,
          326000,
          254700,
          126500,
          230300,
          345500,
          126300,
          289500,
          430300,
          95300,
          146200,
          97700,
          137000,
          101500,
          93600,
          465700,
          153200,
          387200,
          267200,
          323500,
          233300,
          372000,
          208300,
          259100,
          161200,
          217400,
          171700,
          83000,
          310000,
          171300,
          168600,
          154200,
          500001,
          255100,
          195300,
          138800,
          178600,
          213800,
          199200,
          99400,
          100000,
          130300,
          124000,
          121800,
          230800,
          75000,
          307300,
          225000,
          112500,
          139900
         ]
        }
       ],
       "layout": {
        "height": 600,
        "hovermode": "closest",
        "template": {
         "data": {
          "bar": [
           {
            "error_x": {
             "color": "#2a3f5f"
            },
            "error_y": {
             "color": "#2a3f5f"
            },
            "marker": {
             "line": {
              "color": "#E5ECF6",
              "width": 0.5
             }
            },
            "type": "bar"
           }
          ],
          "barpolar": [
           {
            "marker": {
             "line": {
              "color": "#E5ECF6",
              "width": 0.5
             }
            },
            "type": "barpolar"
           }
          ],
          "carpet": [
           {
            "aaxis": {
             "endlinecolor": "#2a3f5f",
             "gridcolor": "white",
             "linecolor": "white",
             "minorgridcolor": "white",
             "startlinecolor": "#2a3f5f"
            },
            "baxis": {
             "endlinecolor": "#2a3f5f",
             "gridcolor": "white",
             "linecolor": "white",
             "minorgridcolor": "white",
             "startlinecolor": "#2a3f5f"
            },
            "type": "carpet"
           }
          ],
          "choropleth": [
           {
            "colorbar": {
             "outlinewidth": 0,
             "ticks": ""
            },
            "type": "choropleth"
           }
          ],
          "contour": [
           {
            "colorbar": {
             "outlinewidth": 0,
             "ticks": ""
            },
            "colorscale": [
             [
              0,
              "#0d0887"
             ],
             [
              0.1111111111111111,
              "#46039f"
             ],
             [
              0.2222222222222222,
              "#7201a8"
             ],
             [
              0.3333333333333333,
              "#9c179e"
             ],
             [
              0.4444444444444444,
              "#bd3786"
             ],
             [
              0.5555555555555556,
              "#d8576b"
             ],
             [
              0.6666666666666666,
              "#ed7953"
             ],
             [
              0.7777777777777778,
              "#fb9f3a"
             ],
             [
              0.8888888888888888,
              "#fdca26"
             ],
             [
              1,
              "#f0f921"
             ]
            ],
            "type": "contour"
           }
          ],
          "contourcarpet": [
           {
            "colorbar": {
             "outlinewidth": 0,
             "ticks": ""
            },
            "type": "contourcarpet"
           }
          ],
          "heatmap": [
           {
            "colorbar": {
             "outlinewidth": 0,
             "ticks": ""
            },
            "colorscale": [
             [
              0,
              "#0d0887"
             ],
             [
              0.1111111111111111,
              "#46039f"
             ],
             [
              0.2222222222222222,
              "#7201a8"
             ],
             [
              0.3333333333333333,
              "#9c179e"
             ],
             [
              0.4444444444444444,
              "#bd3786"
             ],
             [
              0.5555555555555556,
              "#d8576b"
             ],
             [
              0.6666666666666666,
              "#ed7953"
             ],
             [
              0.7777777777777778,
              "#fb9f3a"
             ],
             [
              0.8888888888888888,
              "#fdca26"
             ],
             [
              1,
              "#f0f921"
             ]
            ],
            "type": "heatmap"
           }
          ],
          "heatmapgl": [
           {
            "colorbar": {
             "outlinewidth": 0,
             "ticks": ""
            },
            "colorscale": [
             [
              0,
              "#0d0887"
             ],
             [
              0.1111111111111111,
              "#46039f"
             ],
             [
              0.2222222222222222,
              "#7201a8"
             ],
             [
              0.3333333333333333,
              "#9c179e"
             ],
             [
              0.4444444444444444,
              "#bd3786"
             ],
             [
              0.5555555555555556,
              "#d8576b"
             ],
             [
              0.6666666666666666,
              "#ed7953"
             ],
             [
              0.7777777777777778,
              "#fb9f3a"
             ],
             [
              0.8888888888888888,
              "#fdca26"
             ],
             [
              1,
              "#f0f921"
             ]
            ],
            "type": "heatmapgl"
           }
          ],
          "histogram": [
           {
            "marker": {
             "colorbar": {
              "outlinewidth": 0,
              "ticks": ""
             }
            },
            "type": "histogram"
           }
          ],
          "histogram2d": [
           {
            "colorbar": {
             "outlinewidth": 0,
             "ticks": ""
            },
            "colorscale": [
             [
              0,
              "#0d0887"
             ],
             [
              0.1111111111111111,
              "#46039f"
             ],
             [
              0.2222222222222222,
              "#7201a8"
             ],
             [
              0.3333333333333333,
              "#9c179e"
             ],
             [
              0.4444444444444444,
              "#bd3786"
             ],
             [
              0.5555555555555556,
              "#d8576b"
             ],
             [
              0.6666666666666666,
              "#ed7953"
             ],
             [
              0.7777777777777778,
              "#fb9f3a"
             ],
             [
              0.8888888888888888,
              "#fdca26"
             ],
             [
              1,
              "#f0f921"
             ]
            ],
            "type": "histogram2d"
           }
          ],
          "histogram2dcontour": [
           {
            "colorbar": {
             "outlinewidth": 0,
             "ticks": ""
            },
            "colorscale": [
             [
              0,
              "#0d0887"
             ],
             [
              0.1111111111111111,
              "#46039f"
             ],
             [
              0.2222222222222222,
              "#7201a8"
             ],
             [
              0.3333333333333333,
              "#9c179e"
             ],
             [
              0.4444444444444444,
              "#bd3786"
             ],
             [
              0.5555555555555556,
              "#d8576b"
             ],
             [
              0.6666666666666666,
              "#ed7953"
             ],
             [
              0.7777777777777778,
              "#fb9f3a"
             ],
             [
              0.8888888888888888,
              "#fdca26"
             ],
             [
              1,
              "#f0f921"
             ]
            ],
            "type": "histogram2dcontour"
           }
          ],
          "mesh3d": [
           {
            "colorbar": {
             "outlinewidth": 0,
             "ticks": ""
            },
            "type": "mesh3d"
           }
          ],
          "parcoords": [
           {
            "line": {
             "colorbar": {
              "outlinewidth": 0,
              "ticks": ""
             }
            },
            "type": "parcoords"
           }
          ],
          "pie": [
           {
            "automargin": true,
            "type": "pie"
           }
          ],
          "scatter": [
           {
            "marker": {
             "colorbar": {
              "outlinewidth": 0,
              "ticks": ""
             }
            },
            "type": "scatter"
           }
          ],
          "scatter3d": [
           {
            "line": {
             "colorbar": {
              "outlinewidth": 0,
              "ticks": ""
             }
            },
            "marker": {
             "colorbar": {
              "outlinewidth": 0,
              "ticks": ""
             }
            },
            "type": "scatter3d"
           }
          ],
          "scattercarpet": [
           {
            "marker": {
             "colorbar": {
              "outlinewidth": 0,
              "ticks": ""
             }
            },
            "type": "scattercarpet"
           }
          ],
          "scattergeo": [
           {
            "marker": {
             "colorbar": {
              "outlinewidth": 0,
              "ticks": ""
             }
            },
            "type": "scattergeo"
           }
          ],
          "scattergl": [
           {
            "marker": {
             "colorbar": {
              "outlinewidth": 0,
              "ticks": ""
             }
            },
            "type": "scattergl"
           }
          ],
          "scattermapbox": [
           {
            "marker": {
             "colorbar": {
              "outlinewidth": 0,
              "ticks": ""
             }
            },
            "type": "scattermapbox"
           }
          ],
          "scatterpolar": [
           {
            "marker": {
             "colorbar": {
              "outlinewidth": 0,
              "ticks": ""
             }
            },
            "type": "scatterpolar"
           }
          ],
          "scatterpolargl": [
           {
            "marker": {
             "colorbar": {
              "outlinewidth": 0,
              "ticks": ""
             }
            },
            "type": "scatterpolargl"
           }
          ],
          "scatterternary": [
           {
            "marker": {
             "colorbar": {
              "outlinewidth": 0,
              "ticks": ""
             }
            },
            "type": "scatterternary"
           }
          ],
          "surface": [
           {
            "colorbar": {
             "outlinewidth": 0,
             "ticks": ""
            },
            "colorscale": [
             [
              0,
              "#0d0887"
             ],
             [
              0.1111111111111111,
              "#46039f"
             ],
             [
              0.2222222222222222,
              "#7201a8"
             ],
             [
              0.3333333333333333,
              "#9c179e"
             ],
             [
              0.4444444444444444,
              "#bd3786"
             ],
             [
              0.5555555555555556,
              "#d8576b"
             ],
             [
              0.6666666666666666,
              "#ed7953"
             ],
             [
              0.7777777777777778,
              "#fb9f3a"
             ],
             [
              0.8888888888888888,
              "#fdca26"
             ],
             [
              1,
              "#f0f921"
             ]
            ],
            "type": "surface"
           }
          ],
          "table": [
           {
            "cells": {
             "fill": {
              "color": "#EBF0F8"
             },
             "line": {
              "color": "white"
             }
            },
            "header": {
             "fill": {
              "color": "#C8D4E3"
             },
             "line": {
              "color": "white"
             }
            },
            "type": "table"
           }
          ]
         },
         "layout": {
          "annotationdefaults": {
           "arrowcolor": "#2a3f5f",
           "arrowhead": 0,
           "arrowwidth": 1
          },
          "coloraxis": {
           "colorbar": {
            "outlinewidth": 0,
            "ticks": ""
           }
          },
          "colorscale": {
           "diverging": [
            [
             0,
             "#8e0152"
            ],
            [
             0.1,
             "#c51b7d"
            ],
            [
             0.2,
             "#de77ae"
            ],
            [
             0.3,
             "#f1b6da"
            ],
            [
             0.4,
             "#fde0ef"
            ],
            [
             0.5,
             "#f7f7f7"
            ],
            [
             0.6,
             "#e6f5d0"
            ],
            [
             0.7,
             "#b8e186"
            ],
            [
             0.8,
             "#7fbc41"
            ],
            [
             0.9,
             "#4d9221"
            ],
            [
             1,
             "#276419"
            ]
           ],
           "sequential": [
            [
             0,
             "#0d0887"
            ],
            [
             0.1111111111111111,
             "#46039f"
            ],
            [
             0.2222222222222222,
             "#7201a8"
            ],
            [
             0.3333333333333333,
             "#9c179e"
            ],
            [
             0.4444444444444444,
             "#bd3786"
            ],
            [
             0.5555555555555556,
             "#d8576b"
            ],
            [
             0.6666666666666666,
             "#ed7953"
            ],
            [
             0.7777777777777778,
             "#fb9f3a"
            ],
            [
             0.8888888888888888,
             "#fdca26"
            ],
            [
             1,
             "#f0f921"
            ]
           ],
           "sequentialminus": [
            [
             0,
             "#0d0887"
            ],
            [
             0.1111111111111111,
             "#46039f"
            ],
            [
             0.2222222222222222,
             "#7201a8"
            ],
            [
             0.3333333333333333,
             "#9c179e"
            ],
            [
             0.4444444444444444,
             "#bd3786"
            ],
            [
             0.5555555555555556,
             "#d8576b"
            ],
            [
             0.6666666666666666,
             "#ed7953"
            ],
            [
             0.7777777777777778,
             "#fb9f3a"
            ],
            [
             0.8888888888888888,
             "#fdca26"
            ],
            [
             1,
             "#f0f921"
            ]
           ]
          },
          "colorway": [
           "#636efa",
           "#EF553B",
           "#00cc96",
           "#ab63fa",
           "#FFA15A",
           "#19d3f3",
           "#FF6692",
           "#B6E880",
           "#FF97FF",
           "#FECB52"
          ],
          "font": {
           "color": "#2a3f5f"
          },
          "geo": {
           "bgcolor": "white",
           "lakecolor": "white",
           "landcolor": "#E5ECF6",
           "showlakes": true,
           "showland": true,
           "subunitcolor": "white"
          },
          "hoverlabel": {
           "align": "left"
          },
          "hovermode": "closest",
          "mapbox": {
           "style": "light"
          },
          "paper_bgcolor": "white",
          "plot_bgcolor": "#E5ECF6",
          "polar": {
           "angularaxis": {
            "gridcolor": "white",
            "linecolor": "white",
            "ticks": ""
           },
           "bgcolor": "#E5ECF6",
           "radialaxis": {
            "gridcolor": "white",
            "linecolor": "white",
            "ticks": ""
           }
          },
          "scene": {
           "xaxis": {
            "backgroundcolor": "#E5ECF6",
            "gridcolor": "white",
            "gridwidth": 2,
            "linecolor": "white",
            "showbackground": true,
            "ticks": "",
            "zerolinecolor": "white"
           },
           "yaxis": {
            "backgroundcolor": "#E5ECF6",
            "gridcolor": "white",
            "gridwidth": 2,
            "linecolor": "white",
            "showbackground": true,
            "ticks": "",
            "zerolinecolor": "white"
           },
           "zaxis": {
            "backgroundcolor": "#E5ECF6",
            "gridcolor": "white",
            "gridwidth": 2,
            "linecolor": "white",
            "showbackground": true,
            "ticks": "",
            "zerolinecolor": "white"
           }
          },
          "shapedefaults": {
           "line": {
            "color": "#2a3f5f"
           }
          },
          "ternary": {
           "aaxis": {
            "gridcolor": "white",
            "linecolor": "white",
            "ticks": ""
           },
           "baxis": {
            "gridcolor": "white",
            "linecolor": "white",
            "ticks": ""
           },
           "bgcolor": "#E5ECF6",
           "caxis": {
            "gridcolor": "white",
            "linecolor": "white",
            "ticks": ""
           }
          },
          "title": {
           "x": 0.05
          },
          "xaxis": {
           "automargin": true,
           "gridcolor": "white",
           "linecolor": "white",
           "ticks": "",
           "title": {
            "standoff": 15
           },
           "zerolinecolor": "white",
           "zerolinewidth": 2
          },
          "yaxis": {
           "automargin": true,
           "gridcolor": "white",
           "linecolor": "white",
           "ticks": "",
           "title": {
            "standoff": 15
           },
           "zerolinecolor": "white",
           "zerolinewidth": 2
          }
         }
        },
        "title": {
         "text": "Housing Data"
        },
        "width": 900
       }
      },
      "text/html": [
       "<div>\n",
       "        \n",
       "        \n",
       "            <div id=\"cea60f22-b900-4785-9ee9-58d8dfd8062d\" class=\"plotly-graph-div\" style=\"height:600px; width:900px;\"></div>\n",
       "            <script type=\"text/javascript\">\n",
       "                require([\"plotly\"], function(Plotly) {\n",
       "                    window.PLOTLYENV=window.PLOTLYENV || {};\n",
       "                    \n",
       "                if (document.getElementById(\"cea60f22-b900-4785-9ee9-58d8dfd8062d\")) {\n",
       "                    Plotly.newPlot(\n",
       "                        'cea60f22-b900-4785-9ee9-58d8dfd8062d',\n",
       "                        [{\"marker\": {\"color\": [16.0, 19.0, 31.0, 36.0, 40.0, 42.0, 26.0, 35.0, 20.0, 18.0, 15.0, 36.0, 37.0, 36.0, 17.0, 36.0, 7.0, 32.0, 25.0, 9.0, 38.0, 41.0, 52.0, 46.0, 37.0, 37.0, 24.0, 33.0, 40.0, 52.0, 17.0, 52.0, 13.0, 26.0, 14.0, 50.0, 15.0, 32.0, 15.0, 3.0, 12.0, 23.0, 44.0, 10.0, 36.0, 20.0, 20.0, 34.0, 19.0, 14.0, 21.0, 35.0, 33.0, 52.0, 26.0, 30.0, 30.0, 32.0, 32.0, 42.0, 44.0, 16.0, 20.0, 46.0, 35.0, 34.0, 22.0, 31.0, 18.0, 22.0, 36.0, 36.0, 32.0, 43.0, 25.0, 14.0, 49.0, 33.0, 24.0, 52.0, 33.0, 28.0, 36.0, 21.0, 21.0, 4.0, 9.0, 26.0, 25.0, 18.0, 11.0, 28.0, 52.0, 22.0, 17.0, 37.0, 52.0, 18.0, 15.0, 42.0, 37.0, 45.0, 28.0, 29.0, 52.0, 41.0, 36.0, 20.0, 38.0, 44.0, 41.0, 36.0, 16.0, 26.0, 48.0, 28.0, 52.0, 36.0, 24.0, 5.0, 40.0, 52.0, 37.0, 17.0, 23.0, 34.0, 39.0, 31.0, 52.0, 26.0, 29.0, 29.0, 33.0, 26.0, 35.0, 33.0, 5.0, 38.0, 13.0, 36.0, 18.0, 32.0, 29.0, 52.0, 34.0, 17.0, 15.0, 26.0, 3.0, 20.0, 20.0, 20.0, 18.0, 2.0, 11.0, 18.0, 32.0, 10.0, 34.0, 45.0, 9.0, 20.0, 34.0, 18.0, 52.0, 23.0, 50.0, 52.0, 32.0, 19.0, 16.0, 15.0, 26.0, 45.0, 14.0, 36.0, 33.0, 24.0, 37.0, 8.0, 43.0, 13.0, 14.0, 34.0, 26.0, 38.0, 22.0, 7.0, 52.0, 8.0, 44.0, 26.0, 17.0, 41.0, 34.0, 20.0, 35.0, 21.0, 52.0, 21.0, 16.0, 21.0, 26.0, 22.0, 27.0, 35.0, 29.0, 18.0, 14.0, 34.0, 23.0, 34.0, 34.0, 14.0, 18.0, 44.0, 31.0, 19.0, 39.0, 19.0, 29.0, 35.0, 31.0, 35.0, 14.0, 9.0, 52.0, 34.0, 52.0, 25.0, 5.0, 25.0, 26.0, 29.0, 27.0, 48.0, 17.0, 8.0, 31.0, 25.0, 33.0, 27.0, 24.0, 40.0, 28.0, 28.0, 23.0, 35.0, 48.0, 27.0, 52.0, 25.0, 37.0, 42.0, 11.0, 16.0, 34.0, 52.0, 25.0, 34.0, 49.0, 18.0, 36.0, 37.0, 32.0, 19.0, 25.0, 25.0, 43.0, 20.0, 40.0, 33.0, 22.0, 23.0, 25.0, 49.0, 23.0, 21.0, 35.0, 35.0, 22.0, 27.0, 31.0, 44.0, 26.0, 26.0, 40.0, 14.0, 43.0, 34.0, 10.0, 24.0, 4.0, 31.0, 16.0, 35.0, 30.0, 14.0, 52.0, 27.0, 42.0, 6.0, 36.0, 26.0, 16.0, 20.0, 36.0, 43.0, 46.0, 21.0, 22.0, 8.0, 35.0, 32.0, 42.0, 42.0, 37.0, 52.0, 14.0, 47.0, 25.0, 42.0, 31.0, 17.0, 52.0, 29.0, 37.0, 35.0, 7.0, 33.0, 41.0, 48.0, 27.0, 45.0, 6.0, 9.0, 33.0, 30.0, 10.0, 28.0, 28.0, 9.0, 47.0, 44.0, 37.0, 28.0, 37.0, 46.0, 40.0, 13.0, 27.0, 29.0, 32.0, 20.0, 47.0, 42.0, 32.0, 14.0, 9.0, 15.0, 42.0, 43.0, 30.0, 24.0, 32.0, 12.0, 20.0, 52.0, 37.0, 52.0, 7.0, 3.0, 30.0, 36.0, 21.0, 19.0, 17.0, 31.0, 25.0, 31.0, 52.0, 16.0, 36.0, 38.0, 33.0, 37.0, 25.0, 49.0, 38.0, 31.0, 9.0, 13.0, 22.0, 18.0, 17.0, 30.0, 52.0, 15.0, 28.0, 35.0, 46.0, 32.0, 22.0, 17.0, 34.0, 22.0, 15.0, 17.0, 32.0, 31.0, 23.0, 52.0, 21.0, 24.0, 4.0, 30.0, 26.0, 32.0, 38.0, 32.0, 29.0, 36.0, 42.0, 45.0, 29.0, 13.0, 46.0, 17.0, 32.0, 32.0, 39.0, 22.0, 17.0, 18.0, 39.0, 22.0, 40.0, 48.0, 14.0, 19.0, 37.0, 34.0, 37.0, 31.0, 30.0, 34.0, 29.0, 24.0, 35.0, 52.0, 44.0, 15.0, 51.0, 52.0, 35.0, 16.0, 20.0, 38.0, 34.0, 17.0, 3.0, 17.0, 24.0, 2.0, 48.0, 17.0, 52.0, 21.0, 16.0, 24.0, 4.0, 34.0, 40.0, 9.0, 27.0, 18.0, 38.0, 39.0, 20.0, 24.0, 26.0, 18.0, 52.0, 34.0, 46.0, 36.0, 15.0, 39.0, 42.0, 12.0, 15.0, 9.0, 35.0, 19.0, 14.0, 35.0, 16.0, 42.0, 33.0, 20.0, 25.0, 45.0, 28.0, 6.0, 14.0, 9.0, 45.0, 50.0, 43.0, 32.0, 30.0, 15.0, 21.0, 47.0, 41.0, 30.0, 38.0, 52.0, 43.0, 40.0, 17.0, 12.0, 44.0, 28.0, 37.0, 33.0, 35.0, 26.0, 23.0, 28.0, 44.0, 27.0, 52.0, 37.0, 25.0, 36.0, 48.0, 43.0, 16.0, 39.0, 52.0, 42.0, 26.0, 42.0, 11.0, 52.0, 52.0, 33.0, 14.0, 26.0, 24.0, 17.0, 17.0, 42.0, 52.0, 35.0, 48.0, 47.0, 42.0, 15.0, 35.0, 52.0, 25.0, 34.0, 25.0, 13.0, 42.0, 4.0, 21.0, 32.0, 30.0, 33.0, 34.0, 25.0, 44.0, 9.0, 29.0, 25.0, 26.0, 27.0, 40.0, 35.0, 21.0, 43.0, 19.0, 36.0, 32.0, 21.0, 23.0, 46.0, 26.0, 15.0, 37.0, 41.0, 18.0, 34.0, 30.0, 45.0, 33.0, 35.0, 16.0, 16.0, 34.0, 31.0, 12.0, 25.0, 36.0, 14.0, 49.0, 52.0, 42.0, 43.0, 19.0, 22.0, 5.0, 13.0, 37.0, 41.0, 28.0, 12.0, 27.0, 26.0, 6.0, 50.0, 23.0, 30.0, 34.0, 7.0, 4.0, 44.0, 29.0, 52.0, 11.0, 16.0, 16.0, 26.0, 11.0, 35.0, 17.0, 50.0, 37.0, 37.0, 52.0, 35.0, 23.0, 29.0, 22.0, 26.0, 24.0, 44.0, 15.0, 15.0, 12.0, 43.0, 36.0, 26.0, 8.0, 44.0, 52.0, 52.0, 31.0, 15.0, 22.0, 33.0, 23.0, 25.0, 31.0, 52.0, 1.0, 5.0, 31.0, 37.0, 44.0, 24.0, 49.0, 52.0, 52.0, 15.0, 28.0, 32.0, 47.0, 15.0, 30.0, 37.0, 13.0, 37.0, 17.0, 31.0, 48.0, 40.0, 43.0, 47.0, 41.0, 43.0, 33.0, 34.0, 25.0, 52.0, 44.0, 2.0, 16.0, 31.0, 6.0, 25.0, 44.0, 14.0, 6.0, 29.0, 30.0, 30.0, 25.0, 40.0, 44.0, 12.0, 15.0, 27.0, 17.0, 21.0, 15.0, 12.0, 21.0, 49.0, 50.0, 19.0, 14.0, 21.0, 6.0, 20.0, 19.0, 36.0, 17.0, 20.0, 25.0, 52.0, 23.0, 30.0, 22.0, 24.0, 32.0, 21.0, 40.0, 24.0, 51.0, 23.0, 37.0, 29.0, 36.0, 15.0, 15.0, 17.0, 32.0, 30.0, 52.0, 17.0, 44.0, 16.0, 22.0, 52.0, 7.0, 41.0, 23.0, 14.0, 32.0, 52.0, 22.0, 52.0, 10.0, 27.0, 36.0, 42.0, 23.0, 16.0, 32.0, 13.0, 23.0, 17.0, 38.0, 43.0, 44.0, 4.0, 18.0, 13.0, 24.0, 44.0, 16.0, 28.0, 6.0, 31.0, 26.0, 17.0, 20.0, 10.0, 40.0, 17.0, 20.0, 16.0, 49.0, 36.0, 38.0, 38.0, 39.0, 15.0, 19.0, 4.0, 24.0, 14.0, 52.0, 4.0, 21.0, 29.0, 41.0, 21.0, 31.0, 16.0, 17.0, 36.0, 39.0, 5.0, 36.0, 52.0, 36.0, 29.0, 34.0, 30.0, 35.0, 41.0, 23.0, 33.0, 8.0, 3.0, 36.0, 13.0, 52.0, 47.0, 34.0, 47.0, 25.0, 33.0, 28.0, 14.0, 47.0, 36.0, 29.0, 12.0, 35.0, 17.0, 14.0, 32.0, 36.0, 27.0, 29.0, 6.0, 35.0, 16.0, 6.0, 25.0, 48.0, 30.0, 14.0, 25.0, 33.0, 45.0, 24.0, 33.0, 44.0, 18.0, 5.0, 22.0, 31.0, 31.0, 43.0, 7.0, 42.0, 33.0, 42.0, 23.0, 20.0, 32.0, 28.0, 38.0, 33.0, 22.0, 16.0, 32.0, 35.0, 27.0, 22.0, 24.0, 42.0, 52.0, 17.0, 41.0, 38.0, 4.0, 19.0, 36.0, 40.0, 42.0, 37.0, 28.0, 35.0, 36.0, 41.0, 35.0, 32.0, 52.0, 17.0, 8.0, 16.0, 21.0, 25.0, 52.0, 39.0, 18.0, 15.0, 36.0, 36.0, 23.0, 44.0, 18.0, 32.0, 35.0, 48.0, 25.0, 5.0, 20.0, 34.0, 36.0, 52.0, 44.0, 40.0, 19.0, 45.0, 41.0, 33.0, 5.0, 21.0, 23.0, 3.0, 21.0, 16.0, 30.0, 13.0, 17.0, 44.0, 31.0, 14.0, 5.0, 16.0, 20.0, 12.0, 32.0, 26.0, 21.0, 24.0, 30.0, 40.0, 12.0, 24.0, 6.0, 34.0, 36.0, 52.0, 13.0, 23.0, 29.0, 22.0, 13.0, 37.0, 30.0, 7.0, 38.0, 5.0, 28.0, 35.0, 29.0, 14.0, 9.0, 9.0, 5.0, 19.0, 46.0, 4.0, 34.0, 43.0, 21.0, 37.0, 33.0, 30.0, 25.0, 43.0, 25.0, 17.0, 39.0, 29.0, 14.0, 10.0, 19.0, 30.0, 36.0, 18.0, 4.0, 28.0, 27.0, 33.0, 22.0, 16.0, 31.0, 46.0, 18.0, 5.0, 35.0, 20.0, 52.0, 14.0, 34.0, 34.0, 16.0, 47.0, 43.0, 19.0, 30.0, 30.0, 25.0, 16.0, 34.0, 41.0, 6.0, 26.0, 31.0, 26.0, 18.0, 25.0, 39.0, 16.0, 52.0, 9.0, 32.0, 32.0, 37.0, 36.0, 52.0, 32.0, 33.0, 19.0, 32.0, 34.0, 17.0, 15.0, 18.0, 36.0, 29.0, 19.0, 15.0, 21.0, 35.0, 12.0, 42.0, 52.0, 9.0, 30.0, 8.0, 21.0, 23.0, 37.0, 20.0, 28.0, 13.0, 35.0, 11.0, 14.0, 36.0, 16.0, 24.0, 30.0, 6.0, 16.0, 16.0, 36.0, 29.0, 31.0, 4.0, 50.0, 44.0, 15.0, 34.0, 37.0, 44.0, 17.0, 31.0, 19.0, 29.0, 17.0, 28.0, 33.0, 39.0, 15.0, 32.0, 20.0, 29.0, 32.0, 52.0, 23.0, 22.0, 30.0, 27.0, 31.0, 27.0, 36.0, 41.0, 47.0, 17.0, 23.0, 45.0, 17.0, 39.0, 33.0, 5.0, 43.0, 19.0, 30.0, 34.0, 42.0, 17.0, 39.0, 26.0, 21.0, 41.0, 18.0, 24.0, 36.0, 52.0, 34.0, 17.0, 32.0, 21.0, 22.0, 21.0, 18.0, 30.0, 52.0, 27.0, 52.0, 31.0, 25.0, 52.0, 44.0, 21.0, 26.0, 35.0, 13.0, 11.0, 14.0, 7.0, 16.0, 40.0, 36.0, 25.0, 27.0, 25.0, 28.0, 42.0, 37.0, 26.0, 15.0, 15.0, 41.0, 34.0, 30.0, 32.0, 41.0, 48.0, 19.0, 23.0, 52.0, 18.0, 29.0, 26.0, 29.0, 15.0, 46.0, 23.0, 20.0, 47.0, 29.0, 24.0, 32.0, 15.0, 36.0, 52.0, 28.0, 46.0, 26.0, 20.0, 22.0, 16.0, 12.0, 25.0, 15.0, 29.0, 44.0, 24.0, 19.0, 52.0, 18.0, 32.0, 18.0, 15.0, 26.0, 10.0, 15.0, 26.0, 30.0, 35.0, 43.0, 52.0, 11.0, 23.0, 20.0, 33.0, 44.0, 26.0, 25.0, 43.0, 48.0, 28.0, 37.0, 52.0, 19.0, 40.0, 38.0, 40.0, 14.0, 19.0, 18.0, 43.0, 17.0, 32.0, 52.0, 49.0, 9.0, 16.0, 40.0, 35.0, 21.0, 21.0, 16.0, 28.0, 39.0, 19.0, 28.0, 37.0, 19.0, 22.0, 26.0, 41.0, 45.0, 52.0, 34.0, 34.0, 47.0, 27.0, 24.0, 13.0, 9.0, 36.0, 24.0, 17.0, 48.0, 35.0, 38.0, 19.0, 5.0, 14.0, 52.0, 41.0, 5.0, 33.0, 52.0, 15.0, 17.0, 23.0, 52.0, 11.0, 42.0, 47.0, 26.0, 21.0, 35.0, 45.0, 27.0, 5.0, 21.0, 19.0, 30.0, 36.0, 22.0, 23.0, 34.0, 42.0, 23.0, 17.0, 35.0, 17.0, 23.0, 40.0, 18.0, 16.0, 33.0, 14.0, 42.0, 13.0, 52.0, 16.0, 52.0, 16.0, 10.0, 19.0, 39.0, 21.0, 5.0, 9.0, 23.0, 33.0, 52.0, 33.0, 15.0, 24.0, 11.0, 20.0, 49.0, 17.0, 9.0, 52.0, 4.0, 46.0, 32.0, 35.0, 43.0, 16.0, 32.0, 15.0, 52.0, 17.0, 26.0, 40.0, 21.0, 49.0, 29.0, 19.0, 36.0, 24.0, 21.0, 43.0, 24.0, 52.0, 9.0, 27.0, 28.0, 5.0, 28.0, 26.0, 21.0, 37.0, 19.0, 47.0, 40.0, 24.0, 14.0, 43.0, 31.0, 15.0, 9.0, 48.0, 32.0, 40.0, 20.0, 49.0, 14.0, 19.0, 26.0, 24.0, 27.0, 27.0, 25.0, 14.0, 36.0, 23.0, 22.0, 34.0, 34.0, 36.0, 21.0, 12.0, 21.0, 43.0, 35.0, 52.0, 33.0, 33.0, 31.0, 40.0, 33.0, 19.0, 21.0, 28.0, 5.0, 36.0, 35.0, 11.0, 39.0, 20.0, 37.0, 52.0, 52.0, 24.0, 52.0, 17.0, 39.0, 28.0, 23.0, 30.0, 29.0, 7.0, 33.0, 41.0, 26.0, 34.0, 16.0, 12.0, 52.0, 17.0, 33.0, 34.0, 24.0, 39.0, 50.0, 52.0, 50.0, 26.0, 5.0, 12.0, 51.0, 40.0, 31.0], \"colorscale\": [[0.0, \"rgb(0,0,131)\"], [0.2, \"rgb(0,60,170)\"], [0.4, \"rgb(5,255,255)\"], [0.6, \"rgb(255,255,0)\"], [0.8, \"rgb(250,0,0)\"], [1.0, \"rgb(128,0,0)\"]], \"showscale\": true, \"size\": [2947.0, 1616.0, 3533.0, 1469.0, 1565.0, 510.0, 1125.0, 2501.0, 2462.0, 1643.0, 1716.0, 1191.0, 621.0, 1643.0, 2142.0, 1904.0, 8596.0, 2065.0, 1851.0, 2568.0, 2965.0, 1676.0, 63.0, 3238.0, 1987.0, 1383.0, 1602.0, 2677.0, 1340.0, 1540.0, 1887.0, 2513.0, 2872.0, 48.0, 2413.0, 3587.0, 2857.0, 2572.0, 2782.0, 1170.0, 2213.0, 2446.0, 1218.0, 516.0, 1265.0, 2332.0, 2100.0, 1541.0, 1673.0, 5320.0, 2143.0, 1945.0, 2347.0, 1145.0, 2496.0, 2281.0, 2930.0, 1991.0, 604.0, 525.0, 1219.0, 2483.0, 1349.0, 1777.0, 2329.0, 3296.0, 1311.0, 1161.0, 2399.0, 2711.0, 5456.0, 1493.0, 1815.0, 3889.0, 4617.0, 2591.0, 1467.0, 4104.0, 1705.0, 2005.0, 1701.0, 3983.0, 561.0, 7906.0, 3891.0, 5027.0, 521.0, 3670.0, 2879.0, 5505.0, 5546.0, 2932.0, 1057.0, 1162.0, 4874.0, 1462.0, 1621.0, 6075.0, 644.0, 2082.0, 1024.0, 2213.0, 254.0, 1694.0, 3424.0, 1425.0, 1632.0, 6201.0, 4116.0, 1494.0, 1445.0, 2987.0, 324.0, 1664.0, 2476.0, 2444.0, 2167.0, 931.0, 2037.0, 7264.0, 1259.0, 154.0, 1699.0, 2354.0, 6184.0, 1654.0, 1323.0, 2397.0, 1703.0, 2211.0, 5154.0, 3334.0, 2821.0, 3054.0, 1062.0, 1036.0, 1519.0, 2254.0, 2084.0, 786.0, 10862.0, 2885.0, 2461.0, 3217.0, 2200.0, 8005.0, 2319.0, 1382.0, 12870.0, 3189.0, 1834.0, 1176.0, 2203.0, 4055.0, 4091.0, 1994.0, 2068.0, 2387.0, 2856.0, 1718.0, 3648.0, 3425.0, 2634.0, 2705.0, 2784.0, 2216.0, 1430.0, 1000.0, 2623.0, 1983.0, 2952.0, 4836.0, 1767.0, 2021.0, 2307.0, 2058.0, 2275.0, 2069.0, 2586.0, 6246.0, 1269.0, 4808.0, 2105.0, 3041.0, 3587.0, 2202.0, 2213.0, 5664.0, 391.0, 2628.0, 1325.0, 1284.0, 3675.0, 1482.0, 1797.0, 2683.0, 684.0, 4559.0, 1547.0, 2050.0, 2978.0, 6198.0, 5444.0, 2520.0, 1265.0, 1193.0, 1947.0, 1746.0, 1932.0, 1014.0, 2543.0, 1830.0, 2936.0, 3400.0, 2602.0, 1856.0, 2746.0, 1867.0, 1583.0, 1403.0, 1976.0, 2914.0, 372.0, 2791.0, 2443.0, 3666.0, 1567.0, 325.0, 2562.0, 6296.0, 1405.0, 6964.0, 2796.0, 1929.0, 1683.0, 2381.0, 4617.0, 1904.0, 981.0, 2720.0, 1775.0, 2258.0, 1380.0, 1498.0, 590.0, 636.0, 5759.0, 365.0, 1353.0, 3990.0, 2547.0, 4561.0, 3355.0, 2863.0, 5121.0, 6510.0, 1900.0, 831.0, 2691.0, 2515.0, 1969.0, 8953.0, 1158.0, 821.0, 2015.0, 4043.0, 1442.0, 4044.0, 2361.0, 2303.0, 2344.0, 905.0, 1058.0, 4312.0, 1025.0, 3273.0, 602.0, 1185.0, 2294.0, 1296.0, 3080.0, 1426.0, 334.0, 495.0, 2641.0, 1647.0, 1010.0, 885.0, 1241.0, 3580.0, 1686.0, 1268.0, 80.0, 418.0, 1328.0, 3053.0, 3162.0, 1847.0, 2269.0, 669.0, 3944.0, 2918.0, 1047.0, 2830.0, 4241.0, 1911.0, 1390.0, 1237.0, 206.0, 7195.0, 2823.0, 3593.0, 1230.0, 1355.0, 1700.0, 1298.0, 1161.0, 2208.0, 11442.0, 1190.0, 2402.0, 1816.0, 3037.0, 2980.0, 1070.0, 1377.0, 2216.0, 1025.0, 10223.0, 4769.0, 1379.0, 1188.0, 2937.0, 2098.0, 211.0, 5455.0, 1828.0, 6540.0, 2381.0, 1246.0, 1838.0, 3466.0, 508.0, 2151.0, 1958.0, 2839.0, 1644.0, 2198.0, 198.0, 3839.0, 1793.0, 1243.0, 2697.0, 710.0, 1150.0, 2504.0, 2388.0, 1710.0, 4838.0, 4058.0, 1239.0, 4269.0, 1729.0, 4026.0, 1153.0, 782.0, 1911.0, 2166.0, 1814.0, 1135.0, 6352.0, 8874.0, 249.0, 361.0, 1864.0, 3337.0, 4032.0, 987.0, 1880.0, 1317.0, 3069.0, 1545.0, 1435.0, 1545.0, 2109.0, 2379.0, 1566.0, 1130.0, 3195.0, 2051.0, 1931.0, 2644.0, 2105.0, 2704.0, 3391.0, 3977.0, 2275.0, 2190.0, 5274.0, 1897.0, 3022.0, 2542.0, 4020.0, 1986.0, 988.0, 5661.0, 1924.0, 1481.0, 1513.0, 3473.0, 2668.0, 1596.0, 1799.0, 3002.0, 7474.0, 2748.0, 3361.0, 1981.0, 2803.0, 3250.0, 3692.0, 1370.0, 1680.0, 507.0, 1315.0, 9947.0, 3581.0, 3722.0, 721.0, 2455.0, 2647.0, 4232.0, 4713.0, 2626.0, 1877.0, 3526.0, 3058.0, 2764.0, 1506.0, 2611.0, 903.0, 2697.0, 3881.0, 1952.0, 3306.0, 1903.0, 3422.0, 2930.0, 2400.0, 1670.0, 1870.0, 3243.0, 1637.0, 567.0, 1542.0, 2574.0, 1431.0, 2398.0, 1719.0, 2255.0, 6251.0, 4422.0, 1266.0, 21897.0, 1351.0, 5544.0, 1249.0, 2868.0, 2240.0, 1966.0, 1380.0, 842.0, 2186.0, 7538.0, 2565.0, 4799.0, 1036.0, 2603.0, 1193.0, 1335.0, 4822.0, 975.0, 1479.0, 2185.0, 1197.0, 2024.0, 3643.0, 3008.0, 4219.0, 1430.0, 2654.0, 4632.0, 2146.0, 1127.0, 4721.0, 1225.0, 2426.0, 1291.0, 4244.0, 2595.0, 3715.0, 455.0, 6909.0, 3028.0, 679.0, 2782.0, 1106.0, 1845.0, 4864.0, 1962.0, 1242.0, 1199.0, 10227.0, 2085.0, 3257.0, 1120.0, 2176.0, 1573.0, 1432.0, 2631.0, 1610.0, 4174.0, 1734.0, 2823.0, 932.0, 1190.0, 2104.0, 3616.0, 1920.0, 2608.0, 2236.0, 1839.0, 1190.0, 2706.0, 1799.0, 1240.0, 3436.0, 1226.0, 3757.0, 1752.0, 1878.0, 1977.0, 7005.0, 1611.0, 5500.0, 4079.0, 2164.0, 2149.0, 1956.0, 2710.0, 3794.0, 3353.0, 2721.0, 1467.0, 1121.0, 2700.0, 2387.0, 2118.0, 264.0, 2209.0, 802.0, 2841.0, 3066.0, 2518.0, 1914.0, 5451.0, 1413.0, 966.0, 2198.0, 2893.0, 1802.0, 1221.0, 3004.0, 2037.0, 863.0, 4759.0, 3740.0, 1565.0, 1983.0, 777.0, 1545.0, 2494.0, 2534.0, 403.0, 8501.0, 3598.0, 2491.0, 2837.0, 1100.0, 1976.0, 4257.0, 4713.0, 1365.0, 1501.0, 2436.0, 1617.0, 3745.0, 1535.0, 1115.0, 1745.0, 2512.0, 3769.0, 1770.0, 3776.0, 2914.0, 1920.0, 2099.0, 2672.0, 1283.0, 90.0, 1618.0, 1536.0, 1515.0, 2272.0, 1775.0, 3682.0, 2488.0, 2394.0, 1325.0, 1086.0, 1675.0, 1757.0, 6988.0, 2236.0, 2628.0, 4198.0, 1113.0, 5954.0, 9911.0, 941.0, 331.0, 907.0, 852.0, 1334.0, 2668.0, 2372.0, 1568.0, 1717.0, 5018.0, 1487.0, 4005.0, 1053.0, 3706.0, 3079.0, 952.0, 749.0, 5484.0, 2469.0, 1395.0, 1321.0, 2849.0, 5736.0, 2924.0, 1587.0, 923.0, 6429.0, 4913.0, 1739.0, 957.0, 1968.0, 1989.0, 4221.0, 1903.0, 32.0, 6876.0, 3040.0, 1177.0, 1006.0, 2062.0, 2087.0, 1732.0, 2330.0, 743.0, 3442.0, 2297.0, 2025.0, 1518.0, 3023.0, 1722.0, 3999.0, 2161.0, 5957.0, 977.0, 953.0, 1087.0, 1137.0, 1531.0, 3808.0, 1908.0, 3092.0, 1854.0, 881.0, 834.0, 4994.0, 1759.0, 2629.0, 1459.0, 144.0, 2337.0, 227.0, 2819.0, 6854.0, 10565.0, 1728.0, 932.0, 2985.0, 80.0, 3873.0, 3763.0, 504.0, 1026.0, 2108.0, 1917.0, 10236.0, 1926.0, 1672.0, 3889.0, 2884.0, 2460.0, 4929.0, 1283.0, 1724.0, 2009.0, 3785.0, 5514.0, 1242.0, 16431.0, 1935.0, 1317.0, 4519.0, 2076.0, 3306.0, 2244.0, 2515.0, 2145.0, 146.0, 3740.0, 3935.0, 1056.0, 3250.0, 1126.0, 407.0, 936.0, 1724.0, 2236.0, 2430.0, 2093.0, 3045.0, 1786.0, 3087.0, 1255.0, 1871.0, 1327.0, 5593.0, 2153.0, 1416.0, 2855.0, 1739.0, 8414.0, 1941.0, 2870.0, 5106.0, 1854.0, 25.0, 2920.0, 2159.0, 6435.0, 2303.0, 1380.0, 1430.0, 1843.0, 3992.0, 3868.0, 5126.0, 5679.0, 3917.0, 3966.0, 940.0, 1918.0, 1862.0, 8046.0, 3216.0, 4787.0, 431.0, 3154.0, 1609.0, 3769.0, 1953.0, 2023.0, 3403.0, 6541.0, 1828.0, 2198.0, 4526.0, 1767.0, 2412.0, 1610.0, 3583.0, 684.0, 1156.0, 2002.0, 4644.0, 2034.0, 8574.0, 1302.0, 520.0, 1665.0, 9755.0, 1556.0, 3245.0, 465.0, 2103.0, 4424.0, 2638.0, 2060.0, 2210.0, 2004.0, 2618.0, 3157.0, 3563.0, 1226.0, 1326.0, 2050.0, 2260.0, 2707.0, 726.0, 806.0, 1724.0, 831.0, 6484.0, 1311.0, 3742.0, 2318.0, 2901.0, 1403.0, 504.0, 1799.0, 1730.0, 1194.0, 3731.0, 1494.0, 1376.0, 1650.0, 2772.0, 2810.0, 4393.0, 3998.0, 1875.0, 322.0, 3184.0, 2793.0, 2992.0, 1613.0, 1332.0, 3819.0, 3906.0, 1798.0, 3433.0, 1671.0, 6508.0, 4032.0, 1032.0, 4092.0, 898.0, 1625.0, 2550.0, 1922.0, 1910.0, 1252.0, 2265.0, 2430.0, 6126.0, 1779.0, 2557.0, 3320.0, 6859.0, 2281.0, 2643.0, 3513.0, 727.0, 44.0, 1824.0, 2022.0, 2701.0, 1705.0, 2215.0, 354.0, 1946.0, 2532.0, 107.0, 2737.0, 2090.0, 818.0, 1684.0, 3244.0, 3212.0, 1382.0, 1720.0, 1073.0, 1442.0, 1716.0, 3903.0, 2125.0, 1756.0, 1293.0, 1803.0, 3053.0, 2205.0, 7268.0, 6445.0, 4061.0, 801.0, 642.0, 3610.0, 2897.0, 1726.0, 1680.0, 1983.0, 1618.0, 3977.0, 4089.0, 1931.0, 1601.0, 1669.0, 5807.0, 1586.0, 3559.0, 3099.0, 2612.0, 2581.0, 1966.0, 1524.0, 1222.0, 1240.0, 3581.0, 2785.0, 1779.0, 2846.0, 1206.0, 1024.0, 4367.0, 2395.0, 866.0, 2124.0, 1798.0, 1616.0, 3396.0, 3151.0, 2859.0, 1534.0, 2459.0, 4013.0, 1561.0, 4185.0, 6130.0, 4426.0, 1667.0, 3189.0, 3663.0, 3725.0, 2254.0, 1822.0, 2216.0, 3480.0, 1759.0, 2240.0, 2575.0, 3075.0, 1028.0, 1765.0, 4314.0, 1838.0, 4332.0, 4169.0, 932.0, 889.0, 5490.0, 999.0, 3995.0, 5348.0, 392.0, 176.0, 3274.0, 1882.0, 1220.0, 1386.0, 2232.0, 2892.0, 2201.0, 1354.0, 1523.0, 661.0, 2718.0, 1553.0, 1846.0, 2991.0, 4300.0, 15990.0, 2572.0, 998.0, 1810.0, 2372.0, 4287.0, 1095.0, 3140.0, 2607.0, 1866.0, 1487.0, 1231.0, 1617.0, 4034.0, 1499.0, 2973.0, 2127.0, 3155.0, 2465.0, 3268.0, 1584.0, 2046.0, 1113.0, 2890.0, 724.0, 1226.0, 6082.0, 1816.0, 2131.0, 2429.0, 1485.0, 3071.0, 2712.0, 2384.0, 8099.0, 1815.0, 3670.0, 1548.0, 1193.0, 2268.0, 3661.0, 1067.0, 1568.0, 1561.0, 1860.0, 1969.0, 811.0, 2086.0, 3366.0, 1478.0, 4814.0, 1011.0, 1193.0, 1018.0, 2681.0, 1907.0, 1864.0, 2284.0, 1729.0, 1321.0, 993.0, 2485.0, 4877.0, 1771.0, 4983.0, 554.0, 204.0, 1229.0, 1066.0, 2089.0, 2566.0, 2277.0, 5873.0, 6290.0, 1176.0, 2022.0, 4865.0, 1337.0, 12779.0, 1476.0, 1006.0, 3094.0, 2085.0, 1537.0, 1533.0, 1344.0, 2846.0, 1898.0, 2169.0, 3137.0, 1297.0, 3674.0, 1611.0, 7092.0, 3108.0, 4413.0, 1499.0, 3570.0, 2199.0, 2849.0, 2685.0, 1992.0, 2385.0, 1540.0, 4309.0, 3827.0, 4311.0, 5268.0, 2630.0, 2449.0, 2676.0, 921.0, 2476.0, 1250.0, 1082.0, 1086.0, 1693.0, 2052.0, 1645.0, 1486.0, 2878.0, 527.0, 1366.0, 3915.0, 2159.0, 2203.0, 3173.0, 698.0, 1388.0, 1034.0, 3095.0, 2873.0, 3504.0, 2283.0, 3364.0, 1865.0, 2116.0, 2962.0, 4203.0, 1249.0, 2066.0, 4078.0, 1384.0, 1560.0, 1619.0, 2425.0, 2666.0, 6612.0, 2097.0, 1008.0, 427.0, 1750.0, 2768.0, 4013.0, 6341.0, 1250.0, 2529.0, 5895.0, 975.0, 1463.0, 5675.0, 1145.0, 3807.0, 2347.0, 2820.0, 378.0, 3165.0, 1635.0, 2203.0, 1509.0, 2959.0, 1899.0, 3357.0, 830.0, 1514.0, 1028.0, 2912.0, 895.0, 2677.0, 4716.0, 2893.0, 1478.0, 2102.0, 1504.0, 506.0, 3960.0, 1504.0, 5650.0, 3592.0, 1587.0, 4472.0, 1210.0, 979.0, 4164.0, 1388.0, 2712.0, 1465.0, 4769.0, 1868.0, 4776.0, 1295.0, 3148.0, 1207.0, 724.0, 3044.0, 2265.0, 2742.0, 3208.0, 2089.0, 2723.0, 1613.0, 6121.0, 212.0, 4403.0, 875.0, 2053.0, 1818.0, 1510.0, 1272.0, 1651.0, 7079.0, 2673.0, 3597.0, 1917.0, 2406.0, 8272.0, 1621.0, 2405.0, 1321.0, 1566.0, 857.0, 5411.0, 1417.0, 3804.0, 1867.0, 1551.0, 256.0, 7923.0, 500.0, 3328.0, 1164.0, 1881.0, 3783.0, 1122.0, 4221.0, 2549.0, 881.0, 2483.0, 6203.0, 2092.0, 2127.0, 2309.0, 2968.0, 3109.0, 2403.0, 1931.0, 3553.0, 1156.0, 2183.0, 3490.0, 1777.0, 1078.0, 432.0, 1486.0, 1297.0, 7779.0, 1713.0, 6169.0, 2523.0, 1663.0, 4199.0, 1052.0, 1851.0, 1501.0, 1085.0, 187.0, 810.0, 2170.0, 1608.0, 7854.0, 4924.0, 3088.0, 3244.0, 2772.0, 1658.0, 1684.0, 3761.0, 1150.0, 2344.0, 3507.0, 2429.0, 1431.0, 121.0, 1245.0, 761.0, 2455.0, 2398.0, 4524.0, 2225.0, 3488.0, 588.0, 440.0, 3008.0, 1882.0, 3939.0, 2506.0, 2803.0, 545.0, 1449.0, 2404.0, 2216.0, 1239.0, 3580.0, 907.0, 2937.0, 3257.0, 2722.0, 1457.0, 1831.0, 6227.0, 4741.0, 915.0, 4426.0, 3785.0, 3464.0, 2600.0, 1369.0, 2111.0, 2352.0, 2357.0, 1880.0, 2204.0, 1881.0, 1785.0, 5039.0, 655.0, 191.0, 58.0, 1393.0, 3216.0, 1936.0, 1858.0, 9653.0, 719.0, 8479.0, 2102.0, 1087.0, 1463.0, 2352.0, 5541.0, 1464.0, 3443.0, 2230.0, 1554.0, 4663.0, 3298.0, 2344.0, 938.0, 2594.0, 2229.0, 1797.0, 4649.0, 6190.0, 3310.0, 48.0, 2692.0, 299.0, 2672.0, 1265.0, 930.0, 3403.0, 3666.0, 3046.0, 2348.0, 1533.0, 8185.0, 2230.0, 691.0, 2936.0, 1145.0, 1560.0, 3464.0, 460.0, 3179.0, 3930.0, 720.0, 5484.0, 2019.0, 9425.0, 1967.0, 1663.0, 3118.0, 710.0, 2125.0, 2084.0, 2226.0, 1550.0, 2787.0, 1575.0, 2142.0, 2524.0, 3260.0, 1465.0, 1331.0, 1445.0, 2517.0, 7976.0, 2106.0, 1967.0, 2167.0, 2072.0, 2052.0, 7035.0, 3278.0, 2063.0, 1629.0, 1775.0, 1602.0, 4365.0, 888.0, 2889.0, 1172.0, 1038.0, 1829.0, 2582.0, 2474.0, 1777.0, 2918.0, 1440.0, 2744.0, 2677.0, 1989.0, 25957.0, 409.0, 3039.0, 1866.0, 2627.0, 2059.0, 1542.0, 1172.0, 1274.0, 1407.0, 2849.0, 208.0, 4992.0, 2690.0, 524.0, 2055.0], \"sizeref\": 500}, \"mode\": \"markers\", \"type\": \"scatter\", \"x\": [3.6731, 3.7857, 5.5843, 1.043, 5.2035, 2.5, 4.825, 1.4464, 3.2321, 5.1769, 1.0612, 2.5185, 2.3333, 4.1181, 3.7059, 2.0972, 3.9054, 4.4279, 3.2937, 5.4287, 3.0241, 4.7734, 7.2423, 6.1592, 4.3203, 2.5, 1.7609, 3.2048, 3.4722, 4.3125, 2.5652, 3.675, 4.475, 7.7197, 2.7857, 5.5106, 4.6875, 5.0, 2.1935, 8.0428, 4.5568, 2.6266, 1.9688, 4.2788, 4.8929, 2.1746, 4.8187, 2.56, 2.7060000000000004, 3.1393, 3.9833, 5.2162, 3.4492, 8.338, 5.5413, 3.6531, 2.7813, 2.0353, 6.2037, 2.6771, 4.0417, 5.5545, 3.5417, 4.45, 3.8839, 8.4802, 2.2813, 3.0114, 5.2769, 8.5407, 4.7755, 4.8646, 1.7244, 3.5529, 2.9576, 3.5774, 4.3452, 5.3506, 2.4219, 4.1029, 5.4469, 3.5147, 1.4375, 1.8937, 5.5524, 3.5507, 5.1305, 5.02, 3.3864, 5.0, 3.7109, 3.2417, 2.4531, 2.5875, 2.444, 5.1545, 6.2223, 5.22, 3.2097, 3.25, 3.225, 3.2806, 4.8571, 6.0501, 3.9048, 1.6731, 4.2292, 4.5744, 3.5625, 5.4035, 2.6333, 4.8013, 2.4615, 3.5192, 10.6767, 3.0179, 1.6111, 3.1667, 0.9355, 5.0443, 1.8382, 3.2875, 4.3542, 1.8369, 10.1675, 4.6389, 3.1968, 2.6641, 1.1386, 5.2649, 3.2664, 3.6548, 2.5481, 4.6944, 2.7153, 3.4107, 10.3798, 3.0812, 3.2937, 2.2321, 2.4678, 3.1795, 4.8409, 2.4398, 1.8514, 3.9722, 3.125, 2.7589, 4.2429, 7.5813, 3.2125, 2.375, 2.25, 4.2132, 3.0139, 2.7614, 5.212000000000001, 2.8882, 3.2083, 4.05, 3.0992, 6.2552, 5.9401, 2.7759, 5.6402, 4.559, 9.532, 1.4375, 2.7159, 6.6355, 5.6063, 2.1865, 5.4787, 2.7788, 2.1652, 3.8833, 2.7452, 2.5326, 4.3214, 2.7917, 2.1447, 3.6583, 2.9934, 4.5304, 2.6392, 6.8939, 1.1912, 5.8252, 1.6471, 5.3002, 4.4211, 2.5833, 3.3882, 8.8619, 4.1339, 1.7031, 2.8393, 3.2052, 4.7721, 4.84, 6.5006, 3.7796, 2.7556, 5.8898, 5.3911, 1.8652, 2.1658, 3.2560000000000002, 3.6875, 2.8864, 5.9164, 2.1182, 3.7841, 3.9926, 1.9267, 2.0984, 3.5139, 2.8929, 3.0958, 3.215, 2.1782, 2.9934, 3.5547, 2.5625, 2.1111, 4.6458, 2.6914, 5.5124, 4.8854, 4.5357, 3.6037, 5.2898, 1.8355, 5.5347, 4.7069, 8.0257, 3.9224, 5.7201, 4.875, 3.0958, 4.6607, 2.9937, 4.2219, 3.7974, 1.8958, 3.6161, 3.0927, 2.5588, 2.4359, 4.0439, 8.2598, 4.5581, 7.2988, 6.7138, 4.7168, 7.9943, 2.2222, 1.9464, 3.9196, 3.7381, 3.8462, 10.7372, 4.7426, 3.0125, 6.1104, 6.1504, 4.6629, 8.0837, 3.4196, 2.9, 3.1923, 2.7014, 2.02, 2.7667, 3.875, 4.275, 3.5268, 3.1917, 4.0667, 2.7432, 2.9960000000000004, 2.0673, 0.7684, 2.6667, 4.1339, 4.6875, 3.8984, 2.5966, 2.8194, 5.4065, 2.1765, 1.742, 7.7197, 2.775, 5.0366, 5.1589, 2.8359, 4.9271, 4.7188, 2.4659, 4.1739999999999995, 4.1406, 1.712, 6.1273, 4.375, 2.5156, 2.5812, 4.325, 4.15, 3.0912, 5.1333, 3.5227, 2.1519999999999997, 1.3444, 2.9213, 12.8483, 4.4167, 5.8408, 2.6016, 3.375, 2.3194, 5.1874, 3.3445, 3.1553, 1.825, 2.6573, 3.8421, 5.1995, 5.4872, 5.5798, 2.6553, 2.3125, 5.4051, 3.9615, 1.9659, 4.2321, 4.4531, 6.0663, 2.6322, 1.4397, 5.2145, 2.9926, 1.9583, 4.4583, 2.8298, 6.2135, 3.3636, 2.0542, 4.5625, 3.1875, 4.925, 1.8355, 3.2546, 4.0962, 2.5192, 3.0294, 3.9331, 4.7143, 6.6536, 7.5, 1.983, 9.0702, 1.7, 3.1327, 2.825, 2.8274, 2.7647, 4.131, 5.0574, 7.5418, 4.9867, 6.8588, 4.5, 5.5461, 3.8194, 5.0195, 3.1728, 2.9286, 2.7298, 7.4219, 5.5634, 4.5112, 4.1439, 3.825, 1.4583, 4.25, 3.075, 2.4597, 3.1359, 2.052, 2.085, 6.5338, 2.213, 2.0243, 3.4028, 2.6161, 4.0652, 1.875, 3.57, 5.7039, 2.543, 4.45, 5.9639, 7.2137, 5.6047, 3.7727, 5.3886, 3.6196, 3.0469, 2.6973, 3.3669, 3.6719, 7.439, 3.1087, 8.7591, 4.3472, 3.9107, 3.1204, 4.119, 4.6424, 3.1726, 2.6127, 1.9167, 2.6159, 2.9375, 5.422000000000001, 4.1932, 3.6027, 1.6029, 1.9732, 4.2407, 6.6539, 4.8286, 4.0167, 3.875, 5.6642, 1.8156, 5.1249, 1.1301, 2.3657, 3.75, 12.4291, 7.3195, 2.8621, 2.8614, 5.395, 1.7075, 3.5395, 4.1312, 2.9732, 1.8932, 5.5849, 2.489, 1.625, 5.9145, 3.3849, 1.4821, 5.2319, 2.8438, 2.875, 8.4355, 2.8285, 1.4828, 4.5432, 3.5278, 5.322, 2.07, 2.7846, 6.0198, 5.0318, 4.7961, 1.8355, 2.8007, 5.4625, 4.5132, 2.1182, 3.2578, 7.9096, 1.9417, 1.9469999999999998, 4.2281, 1.9562, 2.945, 2.1136, 2.1714, 3.8233, 1.8533, 9.2463, 1.2387, 2.6544, 2.8393, 6.3712, 3.7813, 6.3325, 3.6895, 3.4013, 1.6444, 1.9083, 9.8214, 5.6112, 5.7705, 4.9562, 3.6875, 4.4259, 6.4214, 2.9154, 3.6625, 2.8971, 4.3393, 2.6726, 2.6607, 3.6083, 2.5212, 1.2679, 4.2415, 2.2386, 15.0001, 5.0505, 4.3333, 2.0764, 4.3594, 4.551, 2.5132, 5.1733, 4.375, 2.6302, 4.0096, 3.1497, 2.2109, 2.1186, 3.0833, 3.55, 2.0329, 5.0719, 3.0083, 2.4931, 4.275, 4.9286, 5.2001, 3.1167, 3.3348, 2.5913, 2.125, 3.1923, 4.1071, 4.5913, 3.2632, 1.8816, 6.5841, 5.0, 2.8068, 5.1721, 2.9798, 6.6368, 3.3929, 1.4867, 3.7562, 2.1842, 1.4063, 15.0001, 5.0077, 3.9236, 3.7880000000000003, 4.7861, 4.4562, 2.6098, 2.3625, 5.2066, 4.1098, 3.1719, 2.8125, 3.7574, 4.1857, 11.0546, 6.8879, 4.8333, 3.9628, 3.4279, 6.7123, 1.6833, 4.4643, 4.0313, 2.0575, 4.6667, 3.6523, 7.8177, 2.5639999999999996, 4.9271, 3.6953, 2.2981, 3.4047, 7.5426, 4.037, 4.6806, 6.1968, 2.6182, 3.2355, 4.2411, 2.5882, 2.875, 7.5975, 3.9712, 5.0, 3.4421, 2.3068, 3.0368, 1.4138, 12.1579, 3.3333, 0.8054, 3.1607, 2.8, 4.3906, 8.8204, 7.978, 2.1875, 2.551, 4.3889, 2.5833, 2.4213, 2.1579, 3.4103, 4.2224, 4.0977, 3.0952, 3.6712, 3.1654, 3.2056, 3.4237, 3.6458, 0.7069, 2.2125, 1.3971, 3.7153, 2.3393, 1.4719, 3.125, 2.5197, 2.7694, 2.5139, 6.4666, 2.5833, 6.6828, 4.69, 1.5208, 2.4583, 4.4375, 1.9832, 2.5301, 4.2679, 3.2841, 6.4114, 6.2475, 1.9821, 3.5687, 3.1929, 5.4413, 2.9632, 1.3672, 3.3702, 6.5645, 2.3125, 2.9559, 4.5938, 3.0963, 2.3182, 2.4937, 2.7717, 5.2636, 5.4858, 2.5208, 2.0474, 2.5819, 2.0699, 1.8388, 4.2059, 3.4018, 3.3724, 3.2228, 6.0794, 2.2734, 6.2907, 1.9866, 1.9926, 3.5326, 3.2969, 3.9073, 4.625, 3.5714, 5.3377, 2.5759, 2.625, 3.7321, 5.5321, 5.223, 10.1241, 3.35, 1.0096, 1.5156, 3.1591, 4.5461, 3.5878, 4.1797, 3.375, 3.6875, 2.1602, 3.125, 2.1736, 8.4888, 1.9531, 1.5625, 3.1630000000000003, 2.7391, 4.747, 3.3889, 3.6786, 4.5, 4.05, 6.4967, 2.7262, 2.3203, 4.3977, 3.1944, 5.1514, 3.8598, 2.4922, 5.2861, 2.4814, 4.526, 2.8561, 4.3281, 5.7984, 6.4524, 3.5912, 4.2054, 2.3, 1.3039, 5.7951, 3.9485, 4.5, 3.3158, 6.0266, 1.2852, 1.3365, 3.2016, 3.0864, 8.0957, 3.1953, 5.0527, 6.4667, 2.6635, 2.0044, 12.5902, 7.2965, 5.0072, 5.1741, 3.1312, 2.4429, 3.2794, 3.0417, 3.2301, 3.9909, 2.6406, 1.625, 2.0202, 3.8897, 5.575, 3.2019, 3.1667, 3.3214, 4.4695, 6.7287, 9.4667, 9.5268, 4.7695, 5.2586, 3.8409, 2.3056, 2.8542, 7.745, 6.5515, 3.0859, 12.9758, 3.2833, 1.9805, 1.1125, 4.1875, 2.4906, 2.8125, 3.6354, 2.1339, 4.5943, 1.0951, 5.6885, 6.5394, 4.5086, 2.6983, 3.9745, 2.0114, 2.5147, 1.7257, 3.3654, 6.5285, 5.1036, 3.7917, 2.2857, 1.9946, 5.6501, 2.4667, 2.1927, 2.0893, 1.6178, 4.1364, 8.1163, 1.9886, 2.1715, 1.875, 4.1053, 4.5833, 3.3702, 4.5699, 6.5474, 2.8333, 5.0323, 3.9018, 3.7885, 5.9291, 5.118, 3.375, 4.5881, 3.4545, 7.316, 7.1754, 2.1366, 3.8409, 3.6607, 8.289, 3.7277, 2.3281, 3.1369, 3.125, 3.5403, 2.2287, 3.8068, 3.59, 5.6876, 3.4138, 3.5769, 4.6111, 3.5529, 1.4240000000000002, 2.246, 3.4722, 6.0226, 5.8718, 5.6765, 1.0972, 4.5817, 3.1389, 4.2348, 4.3468, 3.6389, 4.1378, 2.6897, 2.0523, 8.7939, 2.0474, 4.8173, 4.6042, 3.4583, 2.898, 4.9005, 2.8892, 2.9196, 1.9809, 2.5395, 2.5735, 2.5352, 3.8095, 2.4653, 4.125, 2.3365, 8.4112, 1.6716, 2.3421, 1.9257, 2.1458, 3.5507, 2.875, 0.7917, 2.5797, 1.9706, 1.0531, 4.2396, 5.8369, 6.46, 11.7045, 1.8611, 2.7109, 1.8413, 5.5737, 2.655, 2.9943, 3.6, 1.1786, 6.1739999999999995, 3.4741, 6.0266, 3.3703, 2.5841, 7.1572, 2.1971, 1.2083, 3.9784, 3.3906, 5.5767, 4.66, 6.3199, 2.875, 4.1399, 4.1675, 3.7292, 3.0642, 5.75, 2.4012, 6.5483, 6.6959, 3.4784, 7.2354, 5.397, 3.7109, 1.5122, 5.539, 3.3482, 4.3429, 3.39, 2.4414, 3.733, 5.1589, 2.101, 4.0214, 3.7045, 2.875, 1.1346, 4.75, 2.9097, 7.3982, 5.5773, 3.0396, 6.2715, 7.1736, 3.3689, 5.477, 3.0481, 2.9167, 3.2739999999999996, 3.1406, 5.2989999999999995, 3.2757, 2.3214, 2.5, 1.3801, 4.5469, 6.1642, 1.8125, 2.3317, 1.4274, 2.8558, 3.5035, 2.8125, 8.2037, 1.6797, 4.0417, 2.331, 2.7014, 4.9609, 6.5253, 2.125, 3.3239, 11.0567, 6.0426, 2.2361, 8.1611, 3.6509, 3.6442, 6.5226, 2.5587, 5.3727, 4.1136, 6.629, 3.2031, 1.7566, 15.0001, 1.4419, 2.63, 3.5139, 2.8208, 7.7848, 3.4861, 4.0208, 5.2227, 5.1112, 8.5677, 2.6548, 6.5044, 5.0427, 5.3363, 5.2312, 4.1023, 8.9021, 3.8065, 3.83, 3.0645, 3.3906, 4.1964, 1.9722, 6.8482, 6.0302, 2.6292, 1.1434, 2.6696, 3.3333, 4.2875, 3.6486, 4.235, 2.113, 3.0091, 3.2222, 2.9318, 1.942, 4.8185, 2.4728, 5.4243, 4.4081, 3.5652, 3.1741, 2.6607, 3.0687, 2.8438, 2.9605, 6.2778, 2.9554, 4.4659, 1.6724, 2.8042, 2.5401, 2.0557, 3.2369, 2.7045, 7.5594, 10.5045, 3.075, 6.0332, 7.2379, 4.8929, 2.5321, 4.0062, 10.8082, 6.8591, 2.4421, 1.5885, 6.9454, 2.3516, 9.7646, 7.0175, 3.1607, 2.3633, 4.1518, 4.75, 3.5504, 6.7371, 1.6382, 2.5655, 4.2852, 5.0374, 3.8661, 5.3259, 3.2386, 4.2143, 5.6017, 1.9722, 7.5696, 4.5125, 3.8839, 4.4792, 3.2222, 3.0156, 2.5875, 6.3131, 1.681, 2.1006, 4.3333, 6.9772, 2.4539, 4.9562, 4.5893, 2.7587, 2.5473, 3.6516, 3.8421, 3.2857, 4.6781, 3.0742, 9.8177, 4.015, 2.8203, 2.6328, 4.3047, 1.9224, 3.4531, 4.0417, 3.9868, 2.4609, 3.6923, 2.6902, 1.5536, 3.5647, 1.7179, 2.5, 4.0625, 3.6339, 4.1995, 2.8385, 6.7079, 2.2356, 1.8015, 10.7237, 1.4524, 5.1702, 4.6719, 2.8793, 2.1343, 5.542999999999999, 3.5625, 2.2243, 5.3441, 2.5261, 3.267, 10.8034, 3.0132, 2.5125, 4.3, 5.8587, 2.4432, 8.3912, 2.9899, 2.8654, 11.3283, 4.5673, 3.6193, 4.625, 4.8554, 2.35, 4.7853, 7.3669, 0.9889, 3.25, 3.9352, 5.716, 3.6518, 4.4167, 4.5083, 2.1912, 1.5908, 1.2745, 4.9783, 4.0893, 6.348, 1.6034, 4.2685, 6.3824, 2.1607, 3.6364, 5.9174, 3.875, 2.5067, 2.7260000000000004, 13.466, 1.8781, 7.3141, 4.3919, 7.1366, 3.0441, 1.4625, 2.8192, 6.7247, 3.375, 2.5, 4.0039, 5.1675, 2.7483, 4.6458, 5.6513, 3.0625, 2.4167, 2.9559, 2.9184, 2.7157, 3.0466, 1.9531, 3.9167, 4.131, 9.2327, 8.1124, 3.8162, 2.234, 3.5885, 3.6875, 2.3496, 6.0622, 3.0125, 0.9288, 3.6546, 4.3036, 3.5989999999999998, 1.9063, 1.6806, 3.0735, 2.625, 5.3963, 12.4237, 4.9079, 10.0973, 2.92, 3.375, 4.9808, 3.2793, 0.987, 3.1324, 2.4259, 2.1439, 1.7207, 3.775, 5.3269, 3.5403, 3.3125, 2.9861, 1.1917, 6.871, 6.3013, 2.0536, 2.3816, 2.9469, 3.6654, 7.1273, 7.7201, 3.0461, 2.5763, 3.1677, 5.3339, 3.5789, 2.0, 2.6979, 5.8505, 2.2716, 1.6902, 3.4472, 3.6729, 4.5083, 5.5435, 1.755, 2.4643, 2.1764, 2.662, 5.1047, 3.5179, 10.7721, 6.1228, 1.6585, 3.2361, 2.0848, 3.9091, 1.8, 3.1094, 10.4286, 4.6125, 4.9504, 3.233, 2.8553, 7.7854, 2.6275, 3.35, 4.1467, 3.4598, 3.6875, 3.4777, 6.7206, 3.225, 6.8109, 2.9821, 1.2668, 0.7526, 3.7596, 2.7727, 2.8889, 2.5547, 7.1687, 1.2056, 5.2327, 3.3710000000000004, 2.9091, 6.7927, 3.8472, 1.7958, 1.4861, 2.7222, 2.995, 2.7316, 3.5208, 2.6637, 1.2875, 2.6487, 4.5523, 2.8447, 2.0089, 3.8426, 4.106, 4.3723, 1.8894, 4.1, 3.2829, 3.3026, 8.7394, 4.0341, 4.775, 4.9583, 3.1755, 2.1836, 2.3693, 1.8589, 3.5208, 6.2323, 7.8528, 2.0455, 3.375, 2.8125, 2.0025, 5.4791, 3.5625, 3.7361, 1.8456, 3.7239999999999998, 3.6827, 2.5875, 3.5536, 3.238, 5.5777, 4.25, 4.7404, 1.6865, 4.2135, 1.4418, 2.1507, 1.6504, 1.642, 3.0265, 5.5111, 5.9196, 3.2674, 4.4034, 4.5401, 2.375, 4.5417, 1.3125, 1.9797, 2.6364, 1.3281, 4.775, 10.1316, 3.4583, 1.3222, 2.5625, 4.1667, 2.3944, 4.125, 2.1139, 3.1103, 2.925, 4.0668, 1.6089, 4.1947, 6.3767, 2.5313, 2.1927, 3.2619, 2.6298, 4.4948, 5.5931, 10.3653, 2.7734, 5.6315, 3.2717, 2.2604, 7.226, 2.7043, 2.8512, 5.7051, 3.4073, 3.5078, 3.9464, 4.1827, 3.8913, 5.0785, 5.6396, 1.9913, 4.9583, 4.0114, 2.8702, 1.9625, 3.4827, 6.2917, 2.5035, 6.1333, 4.3125, 5.0489999999999995, 4.5814, 3.875, 3.8547, 2.16, 2.5875, 4.8092, 2.8281, 2.8833, 1.4653, 5.5208, 2.875, 4.2639, 6.1444, 6.2715, 4.542, 1.6971, 3.9531, 4.5461, 4.7731, 2.3971, 1.7167, 3.1442, 2.1905, 2.29, 2.6893, 2.5333, 6.2079, 3.6581, 1.7188, 3.0915], \"y\": [318000.0, 78600.0, 384600.0, 90100.0, 485700.0, 73000.0, 181000.0, 113200.0, 162500.0, 133000.0, 300000.0, 138800.0, 122800.0, 172700.0, 146300.0, 187500.0, 80900.0, 226400.0, 135300.0, 331600.0, 166300.0, 450800.0, 350000.0, 381700.0, 232800.0, 207100.0, 99300.0, 261800.0, 135400.0, 243000.0, 165300.0, 269900.0, 102400.0, 400000.0, 77400.0, 252200.0, 189800.0, 287600.0, 183300.0, 500001.0, 170100.0, 198500.0, 173900.0, 125000.0, 156200.0, 58700.0, 90900.0, 250000.0, 64800.0, 116300.0, 162500.0, 171900.0, 264300.0, 405800.0, 302100.0, 166300.0, 118900.0, 113600.0, 205400.0, 67000.0, 170600.0, 214200.0, 96600.0, 348300.0, 224900.0, 500001.0, 67300.0, 177000.0, 293900.0, 398800.0, 280700.0, 213200.0, 111200.0, 223000.0, 108500.0, 113900.0, 260100.0, 388100.0, 137500.0, 500001.0, 274700.0, 313900.0, 165000.0, 109800.0, 279200.0, 186100.0, 158900.0, 169600.0, 197400.0, 269700.0, 199800.0, 210800.0, 229000.0, 81300.0, 90000.0, 418400.0, 500001.0, 399400.0, 71300.0, 185300.0, 147500.0, 164200.0, 237500.0, 254200.0, 164700.0, 88200.0, 179500.0, 314000.0, 96500.0, 356300.0, 170800.0, 224100.0, 137500.0, 190500.0, 500001.0, 198800.0, 74700.0, 158000.0, 112500.0, 194800.0, 126400.0, 275000.0, 179800.0, 59400.0, 500001.0, 214600.0, 151000.0, 185200.0, 74100.0, 199800.0, 142900.0, 180300.0, 150800.0, 171100.0, 265500.0, 110400.0, 500001.0, 233100.0, 114200.0, 37500.0, 74300.0, 125600.0, 244000.0, 163100.0, 66500.0, 313400.0, 115600.0, 137500.0, 147300.0, 374100.0, 251000.0, 177700.0, 103200.0, 96500.0, 199000.0, 237500.0, 201200.0, 137500.0, 76200.0, 284900.0, 142600.0, 296400.0, 315300.0, 200000.0, 209800.0, 116800.0, 483300.0, 168800.0, 68000.0, 276100.0, 320500.0, 129300.0, 198100.0, 115400.0, 37500.0, 210400.0, 98100.0, 139100.0, 342700.0, 98200.0, 133300.0, 183200.0, 118200.0, 181300.0, 287500.0, 455900.0, 170000.0, 264700.0, 95000.0, 191700.0, 324000.0, 62300.0, 190800.0, 500001.0, 187300.0, 64600.0, 272000.0, 179000.0, 217100.0, 116400.0, 237700.0, 159000.0, 213200.0, 242800.0, 281200.0, 116100.0, 57600.0, 183300.0, 93200.0, 172500.0, 237400.0, 68900.0, 176900.0, 92500.0, 67500.0, 158000.0, 192800.0, 98100.0, 145800.0, 104600.0, 126800.0, 350000.0, 200000.0, 62700.0, 116700.0, 217000.0, 366700.0, 174300.0, 330600.0, 188400.0, 187500.0, 177100.0, 61200.0, 500001.0, 176900.0, 500001.0, 230600.0, 155700.0, 232400.0, 137800.0, 187900.0, 81100.0, 162800.0, 228700.0, 85700.0, 131300.0, 140600.0, 78800.0, 123700.0, 500001.0, 500001.0, 500001.0, 500001.0, 368600.0, 223200.0, 452100.0, 75000.0, 249000.0, 142700.0, 165000.0, 231300.0, 500001.0, 242700.0, 130400.0, 240700.0, 268400.0, 162500.0, 380600.0, 302200.0, 176100.0, 191900.0, 108200.0, 87500.0, 153200.0, 137500.0, 227600.0, 146400.0, 204500.0, 276900.0, 135200.0, 126100.0, 118800.0, 153100.0, 179200.0, 222300.0, 274400.0, 170500.0, 109300.0, 81300.0, 243800.0, 128400.0, 118800.0, 193800.0, 120800.0, 257800.0, 439200.0, 80300.0, 155300.0, 335300.0, 231300.0, 394400.0, 178200.0, 82100.0, 289600.0, 166500.0, 59300.0, 200000.0, 166000.0, 265000.0, 126300.0, 207200.0, 93100.0, 170800.0, 45600.0, 305000.0, 500001.0, 158000.0, 500000.0, 121200.0, 198300.0, 52900.0, 230800.0, 92900.0, 250000.0, 133000.0, 252800.0, 174000.0, 500001.0, 203400.0, 338200.0, 183100.0, 125700.0, 273500.0, 268600.0, 500001.0, 162800.0, 500001.0, 372600.0, 140700.0, 51700.0, 229200.0, 158200.0, 92600.0, 397100.0, 71200.0, 217200.0, 257700.0, 103400.0, 100000.0, 99800.0, 240300.0, 74200.0, 134100.0, 214100.0, 110400.0, 135700.0, 187600.0, 150700.0, 307800.0, 316400.0, 63300.0, 500001.0, 85900.0, 218100.0, 67600.0, 79500.0, 163000.0, 314300.0, 240800.0, 492000.0, 181700.0, 302000.0, 92800.0, 262500.0, 125700.0, 200200.0, 146800.0, 151800.0, 103400.0, 500001.0, 500001.0, 139000.0, 212600.0, 96400.0, 53000.0, 172100.0, 165100.0, 93800.0, 350000.0, 108900.0, 92600.0, 267900.0, 87500.0, 82300.0, 91000.0, 132500.0, 421300.0, 122300.0, 109800.0, 199400.0, 220700.0, 263600.0, 262300.0, 401900.0, 205100.0, 159700.0, 125300.0, 163400.0, 82700.0, 135200.0, 158900.0, 227900.0, 500001.0, 202800.0, 434700.0, 185000.0, 190700.0, 204200.0, 128800.0, 312700.0, 198700.0, 69600.0, 136400.0, 272900.0, 144800.0, 316600.0, 269200.0, 211900.0, 89700.0, 69400.0, 433800.0, 284900.0, 158500.0, 189600.0, 410000.0, 237000.0, 218800.0, 432400.0, 78500.0, 94000.0, 174400.0, 500001.0, 367500.0, 196900.0, 145200.0, 241900.0, 86900.0, 127900.0, 193800.0, 282100.0, 136100.0, 257400.0, 119100.0, 187500.0, 236900.0, 96900.0, 143300.0, 500001.0, 139300.0, 129800.0, 467600.0, 171300.0, 73100.0, 151300.0, 339800.0, 282700.0, 136300.0, 91200.0, 289600.0, 134500.0, 168800.0, 63000.0, 257100.0, 223600.0, 259900.0, 71300.0, 184200.0, 500001.0, 38800.0, 68900.0, 206000.0, 192500.0, 431400.0, 57300.0, 190600.0, 139800.0, 57500.0, 500001.0, 212800.0, 128100.0, 104400.0, 369800.0, 184900.0, 250000.0, 239300.0, 176500.0, 103400.0, 119200.0, 500001.0, 308000.0, 247100.0, 165700.0, 353900.0, 158000.0, 340600.0, 203300.0, 190700.0, 127800.0, 217300.0, 70400.0, 169300.0, 180100.0, 145200.0, 56700.0, 409600.0, 87200.0, 500001.0, 380400.0, 303900.0, 145600.0, 349000.0, 178300.0, 163100.0, 198100.0, 177600.0, 81300.0, 165000.0, 217600.0, 73200.0, 94400.0, 219300.0, 214600.0, 225000.0, 220000.0, 163500.0, 170300.0, 256800.0, 307000.0, 235600.0, 121600.0, 122800.0, 151600.0, 132500.0, 221800.0, 145800.0, 500001.0, 306000.0, 65800.0, 306400.0, 175200.0, 95300.0, 237100.0, 204800.0, 500001.0, 75700.0, 124000.0, 321200.0, 107900.0, 61500.0, 500001.0, 185000.0, 335000.0, 134200.0, 210700.0, 206200.0, 162500.0, 233000.0, 500001.0, 246600.0, 140600.0, 173500.0, 92700.0, 198600.0, 487200.0, 500001.0, 277200.0, 215600.0, 84700.0, 354600.0, 40000.0, 308100.0, 385300.0, 67000.0, 384600.0, 158500.0, 500001.0, 145800.0, 209700.0, 150000.0, 112100.0, 294500.0, 294800.0, 156900.0, 209400.0, 344700.0, 172600.0, 214200.0, 371700.0, 258300.0, 143800.0, 369100.0, 187500.0, 354200.0, 155300.0, 132300.0, 129300.0, 52500.0, 500001.0, 276800.0, 60000.0, 182000.0, 153300.0, 241200.0, 390500.0, 223900.0, 119700.0, 59100.0, 380400.0, 54400.0, 132500.0, 450000.0, 90900.0, 125700.0, 322100.0, 157700.0, 308600.0, 155000.0, 134100.0, 113700.0, 325800.0, 70300.0, 104000.0, 134400.0, 229800.0, 90300.0, 88600.0, 77500.0, 225600.0, 161900.0, 219000.0, 348200.0, 112500.0, 370900.0, 199300.0, 89000.0, 136900.0, 500001.0, 122100.0, 192900.0, 331800.0, 158300.0, 278700.0, 331300.0, 98300.0, 120700.0, 265200.0, 187900.0, 286300.0, 55000.0, 370000.0, 189100.0, 128600.0, 288400.0, 112500.0, 156900.0, 182100.0, 66000.0, 500000.0, 191300.0, 187800.0, 60000.0, 56000.0, 209600.0, 183000.0, 175000.0, 350000.0, 204500.0, 137900.0, 232500.0, 338500.0, 88700.0, 253100.0, 177400.0, 81500.0, 262500.0, 189000.0, 91600.0, 173900.0, 84600.0, 373800.0, 225000.0, 111300.0, 167500.0, 500001.0, 209200.0, 500001.0, 237500.0, 162500.0, 75800.0, 434700.0, 270800.0, 222800.0, 141000.0, 133700.0, 178100.0, 65200.0, 65000.0, 72100.0, 500001.0, 100000.0, 52800.0, 137800.0, 140300.0, 261100.0, 68500.0, 159700.0, 234300.0, 177900.0, 387500.0, 109800.0, 163500.0, 353600.0, 213500.0, 436700.0, 174400.0, 243800.0, 195100.0, 74600.0, 148700.0, 179100.0, 145700.0, 297600.0, 296900.0, 284900.0, 150700.0, 206300.0, 77500.0, 226900.0, 230000.0, 234400.0, 125900.0, 216700.0, 150000.0, 183300.0, 97000.0, 177900.0, 500001.0, 85700.0, 231400.0, 216800.0, 113600.0, 212500.0, 500001.0, 342900.0, 236200.0, 227700.0, 91000.0, 228800.0, 92500.0, 113700.0, 189900.0, 236000.0, 156700.0, 118800.0, 71100.0, 218400.0, 132200.0, 203600.0, 122900.0, 148800.0, 214700.0, 299300.0, 500001.0, 437900.0, 291700.0, 137000.0, 291400.0, 62300.0, 126500.0, 237400.0, 319600.0, 167800.0, 500001.0, 233300.0, 92900.0, 206300.0, 217600.0, 122500.0, 83500.0, 162900.0, 78500.0, 123500.0, 65800.0, 268200.0, 272000.0, 171100.0, 260100.0, 170800.0, 131300.0, 137100.0, 91500.0, 222100.0, 300400.0, 103400.0, 90500.0, 500001.0, 156900.0, 254900.0, 81400.0, 253300.0, 112500.0, 137500.0, 412000.0, 365800.0, 119200.0, 131100.0, 127300.0, 171400.0, 190700.0, 335700.0, 170800.0, 422900.0, 155700.0, 222400.0, 91500.0, 156900.0, 284600.0, 195200.0, 350000.0, 136400.0, 161200.0, 285400.0, 362900.0, 101900.0, 163000.0, 160600.0, 372400.0, 500001.0, 85800.0, 119600.0, 172700.0, 195400.0, 140000.0, 161000.0, 200600.0, 246500.0, 126700.0, 103800.0, 139300.0, 133900.0, 73200.0, 183300.0, 243100.0, 192900.0, 201400.0, 265100.0, 104500.0, 500001.0, 248700.0, 157800.0, 425900.0, 186600.0, 216500.0, 148300.0, 133900.0, 500001.0, 61300.0, 115800.0, 220700.0, 186300.0, 121400.0, 264000.0, 159800.0, 208800.0, 104600.0, 109200.0, 130500.0, 184400.0, 119900.0, 49500.0, 212500.0, 69600.0, 286900.0, 123800.0, 154200.0, 135300.0, 34400.0, 257900.0, 177500.0, 22500.0, 183500.0, 144200.0, 65700.0, 90600.0, 255700.0, 425500.0, 500001.0, 60500.0, 133000.0, 62300.0, 214500.0, 86300.0, 190600.0, 193500.0, 45600.0, 358800.0, 245800.0, 177400.0, 228700.0, 112500.0, 294900.0, 275000.0, 92600.0, 113500.0, 303700.0, 218100.0, 244800.0, 236700.0, 82700.0, 115400.0, 142500.0, 168100.0, 342900.0, 176600.0, 159400.0, 335000.0, 411200.0, 105500.0, 391100.0, 341700.0, 198800.0, 47500.0, 396900.0, 318100.0, 214300.0, 149500.0, 71900.0, 163500.0, 167800.0, 46700.0, 139500.0, 212300.0, 70200.0, 137500.0, 355800.0, 210900.0, 369100.0, 109000.0, 124300.0, 97200.0, 262100.0, 83400.0, 209100.0, 210000.0, 102700.0, 148300.0, 417600.0, 226800.0, 186000.0, 247000.0, 162500.0, 56600.0, 381000.0, 277800.0, 93500.0, 172500.0, 90500.0, 97100.0, 238600.0, 70200.0, 500001.0, 60700.0, 146400.0, 65500.0, 156700.0, 186700.0, 216800.0, 151800.0, 91300.0, 495400.0, 110000.0, 93800.0, 348000.0, 173200.0, 186300.0, 258500.0, 87800.0, 360900.0, 279900.0, 352400.0, 144600.0, 49000.0, 500001.0, 45500.0, 156000.0, 146800.0, 139900.0, 500001.0, 177200.0, 191500.0, 213500.0, 170900.0, 500001.0, 123200.0, 350400.0, 126900.0, 212800.0, 197600.0, 226800.0, 500001.0, 146000.0, 149000.0, 106000.0, 300000.0, 258100.0, 116100.0, 308300.0, 273100.0, 182700.0, 91300.0, 185100.0, 247900.0, 500001.0, 246900.0, 156300.0, 102100.0, 70800.0, 139600.0, 112400.0, 86200.0, 157900.0, 88300.0, 214700.0, 435200.0, 119000.0, 163800.0, 91500.0, 63500.0, 181700.0, 129400.0, 309700.0, 136500.0, 138100.0, 96900.0, 236100.0, 125400.0, 225000.0, 167800.0, 190600.0, 500001.0, 500001.0, 215800.0, 244900.0, 251000.0, 212500.0, 197200.0, 153800.0, 500001.0, 352400.0, 222100.0, 154200.0, 276500.0, 47500.0, 500001.0, 366700.0, 119300.0, 198400.0, 91800.0, 197000.0, 173800.0, 267400.0, 105000.0, 116400.0, 173500.0, 165400.0, 168100.0, 216400.0, 112500.0, 146900.0, 430000.0, 99200.0, 328700.0, 195400.0, 327200.0, 212500.0, 218700.0, 270300.0, 68900.0, 436400.0, 145500.0, 74800.0, 170800.0, 383300.0, 115000.0, 238700.0, 190000.0, 228600.0, 101600.0, 130500.0, 220700.0, 193200.0, 500001.0, 57900.0, 500001.0, 186700.0, 195200.0, 110300.0, 152100.0, 94000.0, 263900.0, 265300.0, 281900.0, 219600.0, 159700.0, 94400.0, 155000.0, 251800.0, 132000.0, 63600.0, 141700.0, 98600.0, 147400.0, 192200.0, 250800.0, 119500.0, 62000.0, 500001.0, 51700.0, 265400.0, 337000.0, 118100.0, 400000.0, 305900.0, 180800.0, 89200.0, 193500.0, 375000.0, 176200.0, 500001.0, 142600.0, 270800.0, 226400.0, 494700.0, 101100.0, 419000.0, 228100.0, 176800.0, 500001.0, 190400.0, 250000.0, 248800.0, 206700.0, 95700.0, 153100.0, 187500.0, 87500.0, 179200.0, 232900.0, 348300.0, 164300.0, 425000.0, 405200.0, 112500.0, 78600.0, 92900.0, 163900.0, 223000.0, 500001.0, 84400.0, 216600.0, 500001.0, 96100.0, 252800.0, 225900.0, 182600.0, 232600.0, 208700.0, 500001.0, 147500.0, 337100.0, 157100.0, 273900.0, 193800.0, 94200.0, 162500.0, 333800.0, 178100.0, 175900.0, 148900.0, 270600.0, 218800.0, 212100.0, 227900.0, 93800.0, 192000.0, 163200.0, 100500.0, 350000.0, 159600.0, 61100.0, 265600.0, 123800.0, 461300.0, 500001.0, 235000.0, 61700.0, 191900.0, 186000.0, 68000.0, 390000.0, 111700.0, 36600.0, 186200.0, 282100.0, 176500.0, 261600.0, 141700.0, 212300.0, 97400.0, 500001.0, 500001.0, 234100.0, 500001.0, 242200.0, 257800.0, 263100.0, 174500.0, 112500.0, 132000.0, 164600.0, 60200.0, 105100.0, 163300.0, 375000.0, 98600.0, 150000.0, 81500.0, 86900.0, 500001.0, 500001.0, 55000.0, 116000.0, 111600.0, 184500.0, 346300.0, 362700.0, 216900.0, 173900.0, 453400.0, 371700.0, 120300.0, 72100.0, 266700.0, 417100.0, 350000.0, 61500.0, 225400.0, 137800.0, 188000.0, 136000.0, 74100.0, 244400.0, 135300.0, 92400.0, 157900.0, 207800.0, 500001.0, 375700.0, 92900.0, 84000.0, 135200.0, 276000.0, 154200.0, 136100.0, 500001.0, 361700.0, 214800.0, 99400.0, 360700.0, 395300.0, 142100.0, 85400.0, 175000.0, 74600.0, 171500.0, 230600.0, 344600.0, 229400.0, 401000.0, 325000.0, 225000.0, 162500.0, 381300.0, 186800.0, 335300.0, 150400.0, 384400.0, 87500.0, 500001.0, 165000.0, 141900.0, 234700.0, 197600.0, 140400.0, 95100.0, 161200.0, 124300.0, 97500.0, 195800.0, 175000.0, 179200.0, 196000.0, 500001.0, 87700.0, 68100.0, 344400.0, 115900.0, 135600.0, 112500.0, 158300.0, 162500.0, 119100.0, 500001.0, 156500.0, 148200.0, 445700.0, 81700.0, 162000.0, 127000.0, 144000.0, 251200.0, 339100.0, 337500.0, 72500.0, 106300.0, 229900.0, 54700.0, 285900.0, 211600.0, 197200.0, 103100.0, 131600.0, 236800.0, 144500.0, 71400.0, 287500.0, 279300.0, 284100.0, 207500.0, 58800.0, 161400.0, 103500.0, 221500.0, 151800.0, 32500.0, 350000.0, 196300.0, 500001.0, 129100.0, 133200.0, 166900.0, 71300.0, 238900.0, 145800.0, 85800.0, 93500.0, 113300.0, 191900.0, 500001.0, 183700.0, 51400.0, 146100.0, 197700.0, 130700.0, 175900.0, 70900.0, 281900.0, 246900.0, 137500.0, 162500.0, 222700.0, 269000.0, 61300.0, 116700.0, 183800.0, 145200.0, 190600.0, 217600.0, 500001.0, 141100.0, 484600.0, 130700.0, 126300.0, 255300.0, 186200.0, 181000.0, 326000.0, 254700.0, 126500.0, 230300.0, 345500.0, 126300.0, 289500.0, 430300.0, 95300.0, 146200.0, 97700.0, 137000.0, 101500.0, 93600.0, 465700.0, 153200.0, 387200.0, 267200.0, 323500.0, 233300.0, 372000.0, 208300.0, 259100.0, 161200.0, 217400.0, 171700.0, 83000.0, 310000.0, 171300.0, 168600.0, 154200.0, 500001.0, 255100.0, 195300.0, 138800.0, 178600.0, 213800.0, 199200.0, 99400.0, 100000.0, 130300.0, 124000.0, 121800.0, 230800.0, 75000.0, 307300.0, 225000.0, 112500.0, 139900.0]}],\n",
       "                        {\"height\": 600, \"hovermode\": \"closest\", \"template\": {\"data\": {\"bar\": [{\"error_x\": {\"color\": \"#2a3f5f\"}, \"error_y\": {\"color\": \"#2a3f5f\"}, \"marker\": {\"line\": {\"color\": \"#E5ECF6\", \"width\": 0.5}}, \"type\": \"bar\"}], \"barpolar\": [{\"marker\": {\"line\": {\"color\": \"#E5ECF6\", \"width\": 0.5}}, \"type\": \"barpolar\"}], \"carpet\": [{\"aaxis\": {\"endlinecolor\": \"#2a3f5f\", \"gridcolor\": \"white\", \"linecolor\": \"white\", \"minorgridcolor\": \"white\", \"startlinecolor\": \"#2a3f5f\"}, \"baxis\": {\"endlinecolor\": \"#2a3f5f\", \"gridcolor\": \"white\", \"linecolor\": \"white\", \"minorgridcolor\": \"white\", \"startlinecolor\": \"#2a3f5f\"}, \"type\": \"carpet\"}], \"choropleth\": [{\"colorbar\": {\"outlinewidth\": 0, \"ticks\": \"\"}, \"type\": \"choropleth\"}], \"contour\": [{\"colorbar\": {\"outlinewidth\": 0, \"ticks\": \"\"}, \"colorscale\": [[0.0, \"#0d0887\"], [0.1111111111111111, \"#46039f\"], [0.2222222222222222, \"#7201a8\"], [0.3333333333333333, \"#9c179e\"], [0.4444444444444444, \"#bd3786\"], [0.5555555555555556, \"#d8576b\"], [0.6666666666666666, \"#ed7953\"], [0.7777777777777778, \"#fb9f3a\"], [0.8888888888888888, \"#fdca26\"], [1.0, \"#f0f921\"]], \"type\": \"contour\"}], \"contourcarpet\": [{\"colorbar\": {\"outlinewidth\": 0, \"ticks\": \"\"}, \"type\": \"contourcarpet\"}], \"heatmap\": [{\"colorbar\": {\"outlinewidth\": 0, \"ticks\": \"\"}, \"colorscale\": [[0.0, \"#0d0887\"], [0.1111111111111111, \"#46039f\"], [0.2222222222222222, \"#7201a8\"], [0.3333333333333333, \"#9c179e\"], [0.4444444444444444, \"#bd3786\"], [0.5555555555555556, \"#d8576b\"], [0.6666666666666666, \"#ed7953\"], [0.7777777777777778, \"#fb9f3a\"], [0.8888888888888888, \"#fdca26\"], [1.0, \"#f0f921\"]], \"type\": \"heatmap\"}], \"heatmapgl\": [{\"colorbar\": {\"outlinewidth\": 0, \"ticks\": \"\"}, \"colorscale\": [[0.0, \"#0d0887\"], [0.1111111111111111, \"#46039f\"], [0.2222222222222222, \"#7201a8\"], [0.3333333333333333, \"#9c179e\"], [0.4444444444444444, \"#bd3786\"], [0.5555555555555556, \"#d8576b\"], [0.6666666666666666, \"#ed7953\"], [0.7777777777777778, \"#fb9f3a\"], [0.8888888888888888, \"#fdca26\"], [1.0, \"#f0f921\"]], \"type\": \"heatmapgl\"}], \"histogram\": [{\"marker\": {\"colorbar\": {\"outlinewidth\": 0, \"ticks\": \"\"}}, \"type\": \"histogram\"}], \"histogram2d\": [{\"colorbar\": {\"outlinewidth\": 0, \"ticks\": \"\"}, \"colorscale\": [[0.0, \"#0d0887\"], [0.1111111111111111, \"#46039f\"], [0.2222222222222222, \"#7201a8\"], [0.3333333333333333, \"#9c179e\"], [0.4444444444444444, \"#bd3786\"], [0.5555555555555556, \"#d8576b\"], [0.6666666666666666, \"#ed7953\"], [0.7777777777777778, \"#fb9f3a\"], [0.8888888888888888, \"#fdca26\"], [1.0, \"#f0f921\"]], \"type\": \"histogram2d\"}], \"histogram2dcontour\": [{\"colorbar\": {\"outlinewidth\": 0, \"ticks\": \"\"}, \"colorscale\": [[0.0, \"#0d0887\"], [0.1111111111111111, \"#46039f\"], [0.2222222222222222, \"#7201a8\"], [0.3333333333333333, \"#9c179e\"], [0.4444444444444444, \"#bd3786\"], [0.5555555555555556, \"#d8576b\"], [0.6666666666666666, \"#ed7953\"], [0.7777777777777778, \"#fb9f3a\"], [0.8888888888888888, \"#fdca26\"], [1.0, \"#f0f921\"]], \"type\": \"histogram2dcontour\"}], \"mesh3d\": [{\"colorbar\": {\"outlinewidth\": 0, \"ticks\": \"\"}, \"type\": \"mesh3d\"}], \"parcoords\": [{\"line\": {\"colorbar\": {\"outlinewidth\": 0, \"ticks\": \"\"}}, \"type\": \"parcoords\"}], \"pie\": [{\"automargin\": true, \"type\": \"pie\"}], \"scatter\": [{\"marker\": {\"colorbar\": {\"outlinewidth\": 0, \"ticks\": \"\"}}, \"type\": \"scatter\"}], \"scatter3d\": [{\"line\": {\"colorbar\": {\"outlinewidth\": 0, \"ticks\": \"\"}}, \"marker\": {\"colorbar\": {\"outlinewidth\": 0, \"ticks\": \"\"}}, \"type\": \"scatter3d\"}], \"scattercarpet\": [{\"marker\": {\"colorbar\": {\"outlinewidth\": 0, \"ticks\": \"\"}}, \"type\": \"scattercarpet\"}], \"scattergeo\": [{\"marker\": {\"colorbar\": {\"outlinewidth\": 0, \"ticks\": \"\"}}, \"type\": \"scattergeo\"}], \"scattergl\": [{\"marker\": {\"colorbar\": {\"outlinewidth\": 0, \"ticks\": \"\"}}, \"type\": \"scattergl\"}], \"scattermapbox\": [{\"marker\": {\"colorbar\": {\"outlinewidth\": 0, \"ticks\": \"\"}}, \"type\": \"scattermapbox\"}], \"scatterpolar\": [{\"marker\": {\"colorbar\": {\"outlinewidth\": 0, \"ticks\": \"\"}}, \"type\": \"scatterpolar\"}], \"scatterpolargl\": [{\"marker\": {\"colorbar\": {\"outlinewidth\": 0, \"ticks\": \"\"}}, \"type\": \"scatterpolargl\"}], \"scatterternary\": [{\"marker\": {\"colorbar\": {\"outlinewidth\": 0, \"ticks\": \"\"}}, \"type\": \"scatterternary\"}], \"surface\": [{\"colorbar\": {\"outlinewidth\": 0, \"ticks\": \"\"}, \"colorscale\": [[0.0, \"#0d0887\"], [0.1111111111111111, \"#46039f\"], [0.2222222222222222, \"#7201a8\"], [0.3333333333333333, \"#9c179e\"], [0.4444444444444444, \"#bd3786\"], [0.5555555555555556, \"#d8576b\"], [0.6666666666666666, \"#ed7953\"], [0.7777777777777778, \"#fb9f3a\"], [0.8888888888888888, \"#fdca26\"], [1.0, \"#f0f921\"]], \"type\": \"surface\"}], \"table\": [{\"cells\": {\"fill\": {\"color\": \"#EBF0F8\"}, \"line\": {\"color\": \"white\"}}, \"header\": {\"fill\": {\"color\": \"#C8D4E3\"}, \"line\": {\"color\": \"white\"}}, \"type\": \"table\"}]}, \"layout\": {\"annotationdefaults\": {\"arrowcolor\": \"#2a3f5f\", \"arrowhead\": 0, \"arrowwidth\": 1}, \"coloraxis\": {\"colorbar\": {\"outlinewidth\": 0, \"ticks\": \"\"}}, \"colorscale\": {\"diverging\": [[0, \"#8e0152\"], [0.1, \"#c51b7d\"], [0.2, \"#de77ae\"], [0.3, \"#f1b6da\"], [0.4, \"#fde0ef\"], [0.5, \"#f7f7f7\"], [0.6, \"#e6f5d0\"], [0.7, \"#b8e186\"], [0.8, \"#7fbc41\"], [0.9, \"#4d9221\"], [1, \"#276419\"]], \"sequential\": [[0.0, \"#0d0887\"], [0.1111111111111111, \"#46039f\"], [0.2222222222222222, \"#7201a8\"], [0.3333333333333333, \"#9c179e\"], [0.4444444444444444, \"#bd3786\"], [0.5555555555555556, \"#d8576b\"], [0.6666666666666666, \"#ed7953\"], [0.7777777777777778, \"#fb9f3a\"], [0.8888888888888888, \"#fdca26\"], [1.0, \"#f0f921\"]], \"sequentialminus\": [[0.0, \"#0d0887\"], [0.1111111111111111, \"#46039f\"], [0.2222222222222222, \"#7201a8\"], [0.3333333333333333, \"#9c179e\"], [0.4444444444444444, \"#bd3786\"], [0.5555555555555556, \"#d8576b\"], [0.6666666666666666, \"#ed7953\"], [0.7777777777777778, \"#fb9f3a\"], [0.8888888888888888, \"#fdca26\"], [1.0, \"#f0f921\"]]}, \"colorway\": [\"#636efa\", \"#EF553B\", \"#00cc96\", \"#ab63fa\", \"#FFA15A\", \"#19d3f3\", \"#FF6692\", \"#B6E880\", \"#FF97FF\", \"#FECB52\"], \"font\": {\"color\": \"#2a3f5f\"}, \"geo\": {\"bgcolor\": \"white\", \"lakecolor\": \"white\", \"landcolor\": \"#E5ECF6\", \"showlakes\": true, \"showland\": true, \"subunitcolor\": \"white\"}, \"hoverlabel\": {\"align\": \"left\"}, \"hovermode\": \"closest\", \"mapbox\": {\"style\": \"light\"}, \"paper_bgcolor\": \"white\", \"plot_bgcolor\": \"#E5ECF6\", \"polar\": {\"angularaxis\": {\"gridcolor\": \"white\", \"linecolor\": \"white\", \"ticks\": \"\"}, \"bgcolor\": \"#E5ECF6\", \"radialaxis\": {\"gridcolor\": \"white\", \"linecolor\": \"white\", \"ticks\": \"\"}}, \"scene\": {\"xaxis\": {\"backgroundcolor\": \"#E5ECF6\", \"gridcolor\": \"white\", \"gridwidth\": 2, \"linecolor\": \"white\", \"showbackground\": true, \"ticks\": \"\", \"zerolinecolor\": \"white\"}, \"yaxis\": {\"backgroundcolor\": \"#E5ECF6\", \"gridcolor\": \"white\", \"gridwidth\": 2, \"linecolor\": \"white\", \"showbackground\": true, \"ticks\": \"\", \"zerolinecolor\": \"white\"}, \"zaxis\": {\"backgroundcolor\": \"#E5ECF6\", \"gridcolor\": \"white\", \"gridwidth\": 2, \"linecolor\": \"white\", \"showbackground\": true, \"ticks\": \"\", \"zerolinecolor\": \"white\"}}, \"shapedefaults\": {\"line\": {\"color\": \"#2a3f5f\"}}, \"ternary\": {\"aaxis\": {\"gridcolor\": \"white\", \"linecolor\": \"white\", \"ticks\": \"\"}, \"baxis\": {\"gridcolor\": \"white\", \"linecolor\": \"white\", \"ticks\": \"\"}, \"bgcolor\": \"#E5ECF6\", \"caxis\": {\"gridcolor\": \"white\", \"linecolor\": \"white\", \"ticks\": \"\"}}, \"title\": {\"x\": 0.05}, \"xaxis\": {\"automargin\": true, \"gridcolor\": \"white\", \"linecolor\": \"white\", \"ticks\": \"\", \"title\": {\"standoff\": 15}, \"zerolinecolor\": \"white\", \"zerolinewidth\": 2}, \"yaxis\": {\"automargin\": true, \"gridcolor\": \"white\", \"linecolor\": \"white\", \"ticks\": \"\", \"title\": {\"standoff\": 15}, \"zerolinecolor\": \"white\", \"zerolinewidth\": 2}}}, \"title\": {\"text\": \"Housing Data\"}, \"width\": 900},\n",
       "                        {\"responsive\": true}\n",
       "                    ).then(function(){\n",
       "                            \n",
       "var gd = document.getElementById('cea60f22-b900-4785-9ee9-58d8dfd8062d');\n",
       "var x = new MutationObserver(function (mutations, observer) {{\n",
       "        var display = window.getComputedStyle(gd).display;\n",
       "        if (!display || display === 'none') {{\n",
       "            console.log([gd, 'removed!']);\n",
       "            Plotly.purge(gd);\n",
       "            observer.disconnect();\n",
       "        }}\n",
       "}});\n",
       "\n",
       "// Listen for the removal of the full notebook cells\n",
       "var notebookContainer = gd.closest('#notebook-container');\n",
       "if (notebookContainer) {{\n",
       "    x.observe(notebookContainer, {childList: true});\n",
       "}}\n",
       "\n",
       "// Listen for the clearing of the current output cell\n",
       "var outputEl = gd.closest('.output');\n",
       "if (outputEl) {{\n",
       "    x.observe(outputEl, {childList: true});\n",
       "}}\n",
       "\n",
       "                        })\n",
       "                };\n",
       "                });\n",
       "            </script>\n",
       "        </div>"
      ]
     },
     "metadata": {},
     "output_type": "display_data"
    }
   ],
   "source": [
    "fig = go.Figure(data = data,\n",
    "                layout = layout)\n",
    "\n",
    "offline.iplot(fig)"
   ]
  }
 ],
 "metadata": {
  "kernelspec": {
   "display_name": "Python 3",
   "language": "python",
   "name": "python3"
  },
  "language_info": {
   "codemirror_mode": {
    "name": "ipython",
    "version": 3
   },
   "file_extension": ".py",
   "mimetype": "text/x-python",
   "name": "python",
   "nbconvert_exporter": "python",
   "pygments_lexer": "ipython3",
   "version": "3.7.6"
  }
 },
 "nbformat": 4,
 "nbformat_minor": 2
}
