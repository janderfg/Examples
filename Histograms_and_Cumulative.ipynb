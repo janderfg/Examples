{
 "cells": [
  {
   "cell_type": "markdown",
   "metadata": {},
   "source": [
    "# Histogramas\n",
    "\n",
    "https://matplotlib.org/api/_as_gen/matplotlib.pyplot.hist.html"
   ]
  },
  {
   "cell_type": "code",
   "execution_count": 1,
   "metadata": {},
   "outputs": [],
   "source": [
    "import matplotlib.pyplot as plt\n",
    "from numpy import genfromtxt"
   ]
  },
  {
   "cell_type": "code",
   "execution_count": 2,
   "metadata": {},
   "outputs": [],
   "source": [
    "dados = genfromtxt('datasets/valor_total.csv')"
   ]
  },
  {
   "cell_type": "code",
   "execution_count": 3,
   "metadata": {},
   "outputs": [
    {
     "data": {
      "image/png": "[encoded data removed]",
      "text/plain": [
       "<Figure size 432x288 with 1 Axes>"
      ]
     },
     "metadata": {
      "needs_background": "light"
     },
     "output_type": "display_data"
    }
   ],
   "source": [
    "# Distribuição de Frequência utilizando a técnica estatística \"Sturges\"\n",
    "hist_sturges = plt.hist(dados, bins=\"sturges\")"
   ]
  },
  {
   "cell_type": "code",
   "execution_count": 4,
   "metadata": {},
   "outputs": [
    {
     "data": {
      "image/png": "[encoded data removed]",
      "text/plain": [
       "<Figure size 432x288 with 1 Axes>"
      ]
     },
     "metadata": {
      "needs_background": "light"
     },
     "output_type": "display_data"
    }
   ],
   "source": [
    "# Distribuição de Frequência utilizando a técnica estatística \"Scott\"\n",
    "hist_scott = plt.hist(dados, bins=\"scott\")"
   ]
  },
  {
   "cell_type": "code",
   "execution_count": 5,
   "metadata": {},
   "outputs": [
    {
     "data": {
      "image/png": "[encoded data removed]",
      "text/plain": [
       "<Figure size 432x288 with 1 Axes>"
      ]
     },
     "metadata": {
      "needs_background": "light"
     },
     "output_type": "display_data"
    }
   ],
   "source": [
    "# Visualizando os intervalos com outro método de distribuição\n",
    "hist_fd = plt.hist(dados, bins=\"fd\")"
   ]
  },
  {
   "cell_type": "markdown",
   "metadata": {},
   "source": [
    "É possível que a divisão da distribuição de frequência seja definida pelo usuário.<br>\n",
    "Para isso é utilizado o argumento `bins`, conforme abaixo:"
   ]
  },
  {
   "cell_type": "code",
   "execution_count": 6,
   "metadata": {},
   "outputs": [
    {
     "data": {
      "image/png": "[encoded data removed]",
      "text/plain": [
       "<Figure size 432x288 with 1 Axes>"
      ]
     },
     "metadata": {
      "needs_background": "light"
     },
     "output_type": "display_data"
    }
   ],
   "source": [
    "hist = plt.hist(dados, bins=5)"
   ]
  },
  {
   "cell_type": "code",
   "execution_count": 7,
   "metadata": {},
   "outputs": [
    {
     "name": "stdout",
     "output_type": "stream",
     "text": [
      "Quantidade de valores dentro da faixa: [  51.  623. 1007.  534.   29.]\n"
     ]
    }
   ],
   "source": [
    "# Visualizando a quantidade de valores gerados dentro de cada faixa\n",
    "print('Quantidade de valores dentro da faixa:', hist[0])"
   ]
  },
  {
   "cell_type": "code",
   "execution_count": 8,
   "metadata": {},
   "outputs": [
    {
     "name": "stdout",
     "output_type": "stream",
     "text": [
      "Faixas: [10. 18. 26. 34. 42. 50.]\n"
     ]
    }
   ],
   "source": [
    "# Visualizando os intervalos de classe (faixas geradas)\n",
    "print('Faixas:', hist[1])"
   ]
  },
  {
   "cell_type": "markdown",
   "metadata": {},
   "source": [
    "Também é possível passar para a função somente a base de dados, sendo que o algoritmo irá otimizar e fazer a distribuição mais adequada conforme o tipo de dados."
   ]
  },
  {
   "cell_type": "code",
   "execution_count": 9,
   "metadata": {},
   "outputs": [
    {
     "data": {
      "image/png": "[encoded data removed]",
      "text/plain": [
       "<Figure size 432x288 with 1 Axes>"
      ]
     },
     "metadata": {
      "needs_background": "light"
     },
     "output_type": "display_data"
    }
   ],
   "source": [
    "hist = plt.hist(dados)"
   ]
  },
  {
   "cell_type": "code",
   "execution_count": 10,
   "metadata": {},
   "outputs": [
    {
     "name": "stdout",
     "output_type": "stream",
     "text": [
      "Quantidade de valores dentro da faixa: [ 11.  40. 193. 430. 376. 631. 386. 148.  26.   3.]\n"
     ]
    }
   ],
   "source": [
    "# Visualizando a quantidade de valores gerados dentro de cada faixa\n",
    "print('Quantidade de valores dentro da faixa:', hist[0])"
   ]
  },
  {
   "cell_type": "code",
   "execution_count": 11,
   "metadata": {},
   "outputs": [
    {
     "name": "stdout",
     "output_type": "stream",
     "text": [
      "Faixas: [10. 14. 18. 22. 26. 30. 34. 38. 42. 46. 50.]\n"
     ]
    }
   ],
   "source": [
    "# Visualizando os intervalos de classe (faixas geradas)\n",
    "print('Faixas:', hist[1])"
   ]
  },
  {
   "cell_type": "markdown",
   "metadata": {},
   "source": [
    "### Mais sobre histogramas"
   ]
  },
  {
   "cell_type": "code",
   "execution_count": 12,
   "metadata": {},
   "outputs": [],
   "source": [
    "import pandas as pd"
   ]
  },
  {
   "cell_type": "code",
   "execution_count": 13,
   "metadata": {},
   "outputs": [
    {
     "data": {
      "text/html": [
       "<div>\n",
       "<style scoped>\n",
       "    .dataframe tbody tr th:only-of-type {\n",
       "        vertical-align: middle;\n",
       "    }\n",
       "\n",
       "    .dataframe tbody tr th {\n",
       "        vertical-align: top;\n",
       "    }\n",
       "\n",
       "    .dataframe thead th {\n",
       "        text-align: right;\n",
       "    }\n",
       "</style>\n",
       "<table border=\"1\" class=\"dataframe\">\n",
       "  <thead>\n",
       "    <tr style=\"text-align: right;\">\n",
       "      <th></th>\n",
       "      <th>Year</th>\n",
       "      <th>Month</th>\n",
       "      <th>CrudePalmOil</th>\n",
       "      <th>SoyabeanOil</th>\n",
       "      <th>GroundnutOil</th>\n",
       "      <th>SunflowerOil</th>\n",
       "      <th>RapeseedOil</th>\n",
       "      <th>CoconutOil</th>\n",
       "      <th>FishOil</th>\n",
       "      <th>Tallow</th>\n",
       "      <th>Lard</th>\n",
       "    </tr>\n",
       "  </thead>\n",
       "  <tbody>\n",
       "    <tr>\n",
       "      <th>0</th>\n",
       "      <td>2006</td>\n",
       "      <td>Jan</td>\n",
       "      <td>424.0</td>\n",
       "      <td>532.0</td>\n",
       "      <td>930.0</td>\n",
       "      <td>591.0</td>\n",
       "      <td>733.0</td>\n",
       "      <td>569.0</td>\n",
       "      <td>750.0</td>\n",
       "      <td>445.0</td>\n",
       "      <td>407.0</td>\n",
       "    </tr>\n",
       "    <tr>\n",
       "      <th>1</th>\n",
       "      <td>2006</td>\n",
       "      <td>Feb</td>\n",
       "      <td>445.0</td>\n",
       "      <td>535.0</td>\n",
       "      <td>921.0</td>\n",
       "      <td>595.0</td>\n",
       "      <td>723.0</td>\n",
       "      <td>591.0</td>\n",
       "      <td>761.0</td>\n",
       "      <td>430.0</td>\n",
       "      <td>405.0</td>\n",
       "    </tr>\n",
       "    <tr>\n",
       "      <th>2</th>\n",
       "      <td>2006</td>\n",
       "      <td>Mar</td>\n",
       "      <td>440.0</td>\n",
       "      <td>539.0</td>\n",
       "      <td>902.0</td>\n",
       "      <td>606.0</td>\n",
       "      <td>742.0</td>\n",
       "      <td>575.0</td>\n",
       "      <td>807.0</td>\n",
       "      <td>410.0</td>\n",
       "      <td>431.0</td>\n",
       "    </tr>\n",
       "    <tr>\n",
       "      <th>3</th>\n",
       "      <td>2006</td>\n",
       "      <td>Apr</td>\n",
       "      <td>439.0</td>\n",
       "      <td>540.0</td>\n",
       "      <td>899.0</td>\n",
       "      <td>659.0</td>\n",
       "      <td>796.0</td>\n",
       "      <td>578.0</td>\n",
       "      <td>840.0</td>\n",
       "      <td>394.0</td>\n",
       "      <td>437.0</td>\n",
       "    </tr>\n",
       "    <tr>\n",
       "      <th>4</th>\n",
       "      <td>2006</td>\n",
       "      <td>May</td>\n",
       "      <td>440.0</td>\n",
       "      <td>588.0</td>\n",
       "      <td>892.0</td>\n",
       "      <td>679.0</td>\n",
       "      <td>838.0</td>\n",
       "      <td>583.0</td>\n",
       "      <td>841.0</td>\n",
       "      <td>408.0</td>\n",
       "      <td>447.0</td>\n",
       "    </tr>\n",
       "  </tbody>\n",
       "</table>\n",
       "</div>"
      ],
      "text/plain": [
       "   Year Month  CrudePalmOil   SoyabeanOil   GroundnutOil   SunflowerOil   \\\n",
       "0  2006   Jan          424.0         532.0          930.0          591.0   \n",
       "1  2006   Feb          445.0         535.0          921.0          595.0   \n",
       "2  2006   Mar          440.0         539.0          902.0          606.0   \n",
       "3  2006   Apr          439.0         540.0          899.0          659.0   \n",
       "4  2006   May          440.0         588.0          892.0          679.0   \n",
       "\n",
       "   RapeseedOil   CoconutOil   FishOil   Tallow   Lard   \n",
       "0         733.0        569.0     750.0    445.0  407.0  \n",
       "1         723.0        591.0     761.0    430.0  405.0  \n",
       "2         742.0        575.0     807.0    410.0  431.0  \n",
       "3         796.0        578.0     840.0    394.0  437.0  \n",
       "4         838.0        583.0     841.0    408.0  447.0  "
      ]
     },
     "execution_count": 13,
     "metadata": {},
     "output_type": "execute_result"
    }
   ],
   "source": [
    "oil_data = pd.read_csv('datasets/MPOB_data1.csv')\n",
    "oil_data.dropna(axis=0, inplace=True)\n",
    "\n",
    "oil_data.head(5)"
   ]
  },
  {
   "cell_type": "code",
   "execution_count": 14,
   "metadata": {},
   "outputs": [
    {
     "data": {
      "text/html": [
       "<div>\n",
       "<style scoped>\n",
       "    .dataframe tbody tr th:only-of-type {\n",
       "        vertical-align: middle;\n",
       "    }\n",
       "\n",
       "    .dataframe tbody tr th {\n",
       "        vertical-align: top;\n",
       "    }\n",
       "\n",
       "    .dataframe thead th {\n",
       "        text-align: right;\n",
       "    }\n",
       "</style>\n",
       "<table border=\"1\" class=\"dataframe\">\n",
       "  <thead>\n",
       "    <tr style=\"text-align: right;\">\n",
       "      <th></th>\n",
       "      <th>FishOil</th>\n",
       "    </tr>\n",
       "    <tr>\n",
       "      <th>Month</th>\n",
       "      <th></th>\n",
       "    </tr>\n",
       "  </thead>\n",
       "  <tbody>\n",
       "    <tr>\n",
       "      <th>Apr</th>\n",
       "      <td>1481.692308</td>\n",
       "    </tr>\n",
       "    <tr>\n",
       "      <th>Aug</th>\n",
       "      <td>1473.307692</td>\n",
       "    </tr>\n",
       "    <tr>\n",
       "      <th>Dec</th>\n",
       "      <td>1537.083333</td>\n",
       "    </tr>\n",
       "    <tr>\n",
       "      <th>Feb</th>\n",
       "      <td>1511.538462</td>\n",
       "    </tr>\n",
       "    <tr>\n",
       "      <th>Jan</th>\n",
       "      <td>1508.307692</td>\n",
       "    </tr>\n",
       "    <tr>\n",
       "      <th>Jul</th>\n",
       "      <td>1453.923077</td>\n",
       "    </tr>\n",
       "    <tr>\n",
       "      <th>Jun</th>\n",
       "      <td>1433.923077</td>\n",
       "    </tr>\n",
       "    <tr>\n",
       "      <th>Mar</th>\n",
       "      <td>1507.230769</td>\n",
       "    </tr>\n",
       "    <tr>\n",
       "      <th>May</th>\n",
       "      <td>1474.384615</td>\n",
       "    </tr>\n",
       "    <tr>\n",
       "      <th>Nov</th>\n",
       "      <td>1511.833333</td>\n",
       "    </tr>\n",
       "    <tr>\n",
       "      <th>Oct</th>\n",
       "      <td>1437.666667</td>\n",
       "    </tr>\n",
       "    <tr>\n",
       "      <th>Sep</th>\n",
       "      <td>1467.461538</td>\n",
       "    </tr>\n",
       "  </tbody>\n",
       "</table>\n",
       "</div>"
      ],
      "text/plain": [
       "          FishOil \n",
       "Month             \n",
       "Apr    1481.692308\n",
       "Aug    1473.307692\n",
       "Dec    1537.083333\n",
       "Feb    1511.538462\n",
       "Jan    1508.307692\n",
       "Jul    1453.923077\n",
       "Jun    1433.923077\n",
       "Mar    1507.230769\n",
       "May    1474.384615\n",
       "Nov    1511.833333\n",
       "Oct    1437.666667\n",
       "Sep    1467.461538"
      ]
     },
     "execution_count": 14,
     "metadata": {},
     "output_type": "execute_result"
    }
   ],
   "source": [
    "oil_data[['Month', 'FishOil ']].groupby('Month').mean()"
   ]
  },
  {
   "cell_type": "markdown",
   "metadata": {},
   "source": [
    "### Histogram\n",
    "A histogram take in a series of data and divides the data into a number of bins. It then plots the frequency data points in each bin<br>\n",
    "* x-axis contains the price details of the fish oil, and y axis contains the frequency of the prices"
   ]
  },
  {
   "cell_type": "code",
   "execution_count": 15,
   "metadata": {},
   "outputs": [
    {
     "data": {
      "image/png": "[encoded data removed]",
      "text/plain": [
       "<Figure size 864x576 with 1 Axes>"
      ]
     },
     "metadata": {
      "needs_background": "light"
     },
     "output_type": "display_data"
    }
   ],
   "source": [
    "fig, ax = plt.subplots(figsize=(12, 8))\n",
    "\n",
    "n, bins, patches = plt.hist(oil_data['FishOil '], \n",
    "         facecolor='yellow', \n",
    "         edgecolor='red', \n",
    "         bins=20)\n",
    "\n",
    "plt.title('Fish Oil Prices - 2006 to 2018')\n",
    "plt.xlabel('Preço')\n",
    "plt.ylabel('Qtde')\n",
    "\n",
    "plt.show()"
   ]
  },
  {
   "cell_type": "code",
   "execution_count": 16,
   "metadata": {},
   "outputs": [
    {
     "name": "stdout",
     "output_type": "stream",
     "text": [
      "n:  [ 3.  6. 14. 13.  3.  4.  4.  8.  6.  4. 13. 13. 22. 10.  9.  3.  7.  5.\n",
      "  3.  3.]\n",
      "bins:  [ 620.  709.  798.  887.  976. 1065. 1154. 1243. 1332. 1421. 1510. 1599.\n",
      " 1688. 1777. 1866. 1955. 2044. 2133. 2222. 2311. 2400.]\n",
      "patches:  <a list of 20 Patch objects>\n"
     ]
    }
   ],
   "source": [
    "# No exemplo abaixo podemos ver que existem apenas 3 exemplos onde o valor é de 0 a 620 doláres\n",
    "print('n: ', n) # Frequency Distribution\n",
    "print('bins: ', bins) # Edges of the distribution along the X axis\n",
    "print('patches: ', patches) # Patches refers to the boxes or bars"
   ]
  },
  {
   "cell_type": "markdown",
   "metadata": {},
   "source": [
    "#### Cumulative\n",
    "Histogram is computed where each bin gives the counts in that bin plus all bins for smaller values. The last bin gives the total number of datapoints."
   ]
  },
  {
   "cell_type": "code",
   "execution_count": 17,
   "metadata": {},
   "outputs": [
    {
     "data": {
      "image/png": "[encoded data removed]",
      "text/plain": [
       "<Figure size 864x576 with 1 Axes>"
      ]
     },
     "metadata": {
      "needs_background": "light"
     },
     "output_type": "display_data"
    }
   ],
   "source": [
    "fig, ax = plt.subplots(figsize=(12, 8))\n",
    "\n",
    "n, bins, patches = plt.hist(oil_data['FishOil '], \n",
    "         facecolor='yellow', \n",
    "         edgecolor='red', \n",
    "         bins=20,\n",
    "         cumulative=True)\n",
    "\n",
    "plt.title('Fish Oil Prices - 2006 to 2018')\n",
    "plt.xlabel('Preço')\n",
    "plt.ylabel('Qtde')\n",
    "\n",
    "plt.show()"
   ]
  },
  {
   "cell_type": "markdown",
   "metadata": {},
   "source": [
    "* Plot Groundnut oil price also, then we can check it the frequency of both oil prices. From here we will be able to see that the price of groundnut oil is mostly clustered around a certain point"
   ]
  },
  {
   "cell_type": "markdown",
   "metadata": {},
   "source": [
    "### Comparando a Distribuição de Frequência de 2 tipos de óleo no mesmo Histograma"
   ]
  },
  {
   "cell_type": "code",
   "execution_count": 18,
   "metadata": {},
   "outputs": [
    {
     "data": {
      "image/png": "[encoded data removed]",
      "text/plain": [
       "<Figure size 864x576 with 1 Axes>"
      ]
     },
     "metadata": {
      "needs_background": "light"
     },
     "output_type": "display_data"
    }
   ],
   "source": [
    "fig, ax = plt.subplots(figsize=(12, 8))\n",
    "\n",
    "plt.hist(oil_data['FishOil '], \n",
    "         facecolor='yellow', \n",
    "         edgecolor='red',\n",
    "         label='FishOil',\n",
    "         bins=20)\n",
    "\n",
    "plt.hist(oil_data['GroundnutOil '], \n",
    "         facecolor='limegreen', \n",
    "         edgecolor='red',\n",
    "         label='GroundnutOil',\n",
    "         alpha=0.6,\n",
    "         bins=20)\n",
    "\n",
    "plt.legend()\n",
    "plt.title('Oil Prices - 2006 to 2018')\n",
    "plt.xlabel('Preço')\n",
    "plt.ylabel('Qtde')\n",
    "\n",
    "plt.show()"
   ]
  },
  {
   "cell_type": "markdown",
   "metadata": {},
   "source": [
    "### Comparando a Distribuição de Frequência de 3 tipos de óleo no mesmo Histograma"
   ]
  },
  {
   "cell_type": "code",
   "execution_count": 19,
   "metadata": {},
   "outputs": [
    {
     "data": {
      "image/png": "[encoded data removed]",
      "text/plain": [
       "<Figure size 864x576 with 1 Axes>"
      ]
     },
     "metadata": {
      "needs_background": "light"
     },
     "output_type": "display_data"
    }
   ],
   "source": [
    "fig, ax = plt.subplots(figsize=(12, 8))\n",
    "\n",
    "plt.hist(oil_data['FishOil '], \n",
    "         facecolor='yellow', \n",
    "         edgecolor='red',\n",
    "         label='FishOil',\n",
    "         bins=20)\n",
    "\n",
    "plt.hist(oil_data['GroundnutOil '], \n",
    "         facecolor='limegreen', \n",
    "         edgecolor='red',\n",
    "         label='GroundnutOil',\n",
    "         alpha=0.4,\n",
    "         bins=20)\n",
    "\n",
    "plt.hist(oil_data['CoconutOil '], \n",
    "         facecolor='lightblue', \n",
    "         edgecolor='red', \n",
    "         label='CoconutOil',\n",
    "         alpha=0.8,\n",
    "         bins=20)\n",
    "\n",
    "plt.legend()\n",
    "plt.title('Oil Prices - 2006 to 2018')\n",
    "plt.xlabel('Prices')\n",
    "plt.ylabel('Count')\n",
    "\n",
    "plt.show()"
   ]
  }
 ],
 "metadata": {
  "kernelspec": {
   "display_name": "Python 3",
   "language": "python",
   "name": "python3"
  },
  "language_info": {
   "codemirror_mode": {
    "name": "ipython",
    "version": 3
   },
   "file_extension": ".py",
   "mimetype": "text/x-python",
   "name": "python",
   "nbconvert_exporter": "python",
   "pygments_lexer": "ipython3",
   "version": "3.7.6"
  }
 },
 "nbformat": 4,
 "nbformat_minor": 2
}
